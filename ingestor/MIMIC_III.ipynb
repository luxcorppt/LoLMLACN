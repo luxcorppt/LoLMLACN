{
 "cells": [
  {
   "cell_type": "markdown",
   "source": [
    "# Workgroup "
   ],
   "metadata": {
    "id": "kiVo7G-rmZHc"
   }
  },
  {
   "cell_type": "code",
   "source": [
    "!gsutil -m -u bdcc-luxcorp-pt cp -r gs://mimiciii-demo-1.4.physionet.org gs://mimic-iii-demo"
   ],
   "metadata": {
    "id": "uMANhtRImpjK"
   },
   "execution_count": null,
   "outputs": []
  },
  {
   "cell_type": "code",
   "source": [
    "!wget -r -N -c -np https://physionet.org/files/mimiciii-demo/1.4/"
   ],
   "metadata": {
    "id": "_vuFUZcTnX42"
   },
   "execution_count": null,
   "outputs": []
  },
  {
   "cell_type": "code",
   "source": [
    "import pandas as pd\n",
    "\n",
    "basedir='/content/physionet.org/files/mimiciii-demo/1.4'"
   ],
   "metadata": {
    "id": "8llFUzFlnhMd"
   },
   "execution_count": 16,
   "outputs": []
  },
  {
   "cell_type": "code",
   "source": [
    "pd.read_csv(f'{basedir}/ADMISSIONS.csv') # 190 || HEPATITIS B\n",
    "\n"
   ],
   "metadata": {
    "id": "qVbHJGbInjv0"
   },
   "execution_count": null,
   "outputs": []
  },
  {
   "cell_type": "code",
   "source": [
    "!pip install --quiet apache_beam apache_beam[gcp]\n",
    "!pip install --quiet --upgrade apache-beam apache_beam[gcp] google-cloud-bigquery"
   ],
   "metadata": {
    "id": "liOpgoHH2TvT"
   },
   "execution_count": 2,
   "outputs": []
  },
  {
   "cell_type": "code",
   "source": [
    "from google.cloud import bigquery\n",
    "\n",
    "import apache_beam as beam\n",
    "from apache_beam.examples.wordcount_with_metrics import WordExtractingDoFn\n",
    "from apache_beam.options.pipeline_options import PipelineOptions\n",
    "from apache_beam.options.pipeline_options import SetupOptions\n",
    "from apache_beam.options.pipeline_options import StandardOptions\n",
    "from apache_beam.transforms import window\n",
    "from apache_beam.io.gcp.bigquery import BigQuerySource"
   ],
   "metadata": {
    "id": "m4hXqSPj0BpE"
   },
   "execution_count": 10,
   "outputs": []
  },
  {
   "cell_type": "code",
   "source": [
    "pipeline_options = PipelineOptions(project='bdcc-luxcorp-pt', temp_location='gs://beam_profile/temp')\n",
    "pipeline_options.view_as(SetupOptions).save_main_session = True\n",
    "pipeline_options.view_as(StandardOptions).streaming = True\n",
    "\n",
    "model = ''\n",
    "\n",
    "#table_spec = bigquery.TableReference(\n",
    "#    projectId='bigquery-public-data',\n",
    "#    datasetId='google_trends',\n",
    "#    tableId='international_top_terms')\n",
    "table_spec = 'bigquery-public-data.google_trends.international_top_terms'\n",
    "# query = 'SELECT * FROM `bigquery-public-data.`'\n",
    "query = 'SELECT * FROM google_trends.international_top_terms'\n"
   ],
   "metadata": {
    "colab": {
     "base_uri": "https://localhost:8080/"
    },
    "id": "m1tpOO9h2LRB",
    "outputId": "82f5ed0f-d3e8-4345-b1c5-de47965564cd",
    "ExecuteTime": {
     "end_time": "2023-05-03T10:00:35.512636438Z",
     "start_time": "2023-05-03T10:00:35.297109704Z"
    }
   },
   "execution_count": 1,
   "outputs": [
    {
     "ename": "NameError",
     "evalue": "name 'PipelineOptions' is not defined",
     "output_type": "error",
     "traceback": [
      "\u001B[0;31m---------------------------------------------------------------------------\u001B[0m",
      "\u001B[0;31mNameError\u001B[0m                                 Traceback (most recent call last)",
      "Cell \u001B[0;32mIn[1], line 1\u001B[0m\n\u001B[0;32m----> 1\u001B[0m pipeline_options \u001B[38;5;241m=\u001B[39m \u001B[43mPipelineOptions\u001B[49m(project\u001B[38;5;241m=\u001B[39m\u001B[38;5;124m'\u001B[39m\u001B[38;5;124mbdcc-luxcorp-pt\u001B[39m\u001B[38;5;124m'\u001B[39m, temp_location\u001B[38;5;241m=\u001B[39m\u001B[38;5;124m'\u001B[39m\u001B[38;5;124mgs://beam_profile/temp\u001B[39m\u001B[38;5;124m'\u001B[39m)\n\u001B[1;32m      2\u001B[0m pipeline_options\u001B[38;5;241m.\u001B[39mview_as(SetupOptions)\u001B[38;5;241m.\u001B[39msave_main_session \u001B[38;5;241m=\u001B[39m \u001B[38;5;28;01mTrue\u001B[39;00m\n\u001B[1;32m      3\u001B[0m pipeline_options\u001B[38;5;241m.\u001B[39mview_as(StandardOptions)\u001B[38;5;241m.\u001B[39mstreaming \u001B[38;5;241m=\u001B[39m \u001B[38;5;28;01mTrue\u001B[39;00m\n",
      "\u001B[0;31mNameError\u001B[0m: name 'PipelineOptions' is not defined"
     ]
    }
   ]
  },
  {
   "cell_type": "code",
   "source": [
    "with beam.Pipeline(options=pipeline_options) as p:\n",
    "        line = (\n",
    "                p\n",
    "                | 'ReadTable' >> beam.io.ReadFromBigQuery(table=table_spec, gcs_location='gs://beam_profile/temp')\n",
    "                # | 'QueryTable' >> beam.io.ReadFromBigQuery(query=query, use_standard_sql=True)\n",
    "                | 'transform' >> beam.Map(lambda x: transformGoogleTrends(x))\n",
    "                | 'Print contents' >> beam.Map(print)\n",
    "        )\n",
    "        \"\"\"\n",
    "        counts = (\n",
    "                lines\n",
    "                | 'split' >> beam.ParDo(WordExtractingDoFn()).with_output_types(str)\n",
    "                | 'lower' >> beam.Map(lambda x: x.lower())\n",
    "                | 'prepare to count' >> beam.Map(lambda x: (x, 1))\n",
    "                | beam.WindowInto(window.FixedWindows(60, 0))\n",
    "                | 'group by word' >> beam.GroupByKey()\n",
    "                | 'count words' >> beam.Map(lambda x: (x[0], sum(x[1])))\n",
    "        )\n",
    "\n",
    "        output = (\n",
    "                counts\n",
    "                | 'format' >> beam.Map(lambda x: f'{x[0]}: {x[1]}')\n",
    "                | 'encode' >> beam.Map(lambda x: x.encode('utf-8')).with_output_types(str)\n",
    "        )\n",
    "\n",
    "        (\n",
    "                output\n",
    "                | beam.io.WriteToPubSub(known_args.output_topic)\n",
    "        )\n",
    "        \"\"\""
   ],
   "metadata": {
    "colab": {
     "base_uri": "https://localhost:8080/",
     "height": 1000
    },
    "id": "6U4aBLRR2O1J",
    "outputId": "24f3007e-2e78-4fe9-8d5b-d0f34506c453"
   },
   "execution_count": 14,
   "outputs": [
    {
     "output_type": "stream",
     "name": "stderr",
     "text": [
      "WARNING:apache_beam.options.pipeline_options:Discarding unparseable args: ['-f', '/root/.local/share/jupyter/runtime/kernel-2291a7fe-2e01-4e41-9a3a-5ce07fdb8537.json']\n",
      "WARNING:apache_beam.options.pipeline_options:Discarding unparseable args: ['-f', '/root/.local/share/jupyter/runtime/kernel-2291a7fe-2e01-4e41-9a3a-5ce07fdb8537.json']\n",
      "WARNING:apache_beam.utils.retry:Retry with exponential backoff: waiting for 3.0047180095893355 seconds before retrying _start_query_job because we caught exception: google.auth.exceptions.RefreshError: (\"Failed to retrieve http://metadata.google.internal/computeMetadata/v1/instance/service-accounts/default/?recursive=true from the Google Compute Engine metadata service. Status: 404 Response:\\nb''\", <google_auth_httplib2._Response object at 0x7fce82780e20>)\n",
      " Traceback for above exception (most recent call last):\n",
      "  File \"/usr/local/lib/python3.10/dist-packages/apache_beam/utils/retry.py\", line 275, in wrapper\n",
      "    return fun(*args, **kwargs)\n",
      "  File \"/usr/local/lib/python3.10/dist-packages/apache_beam/io/gcp/bigquery_tools.py\", line 615, in _start_query_job\n",
      "    return self._start_job(request)\n",
      "  File \"/usr/local/lib/python3.10/dist-packages/apache_beam/io/gcp/bigquery_tools.py\", line 561, in _start_job\n",
      "    response = self.client.jobs.Insert(request, upload=upload)\n",
      "  File \"/usr/local/lib/python3.10/dist-packages/apache_beam/io/gcp/internal/clients/bigquery/bigquery_v2_client.py\", line 343, in Insert\n",
      "    return self._RunMethod(\n",
      "  File \"/usr/local/lib/python3.10/dist-packages/apitools/base/py/base_api.py\", line 728, in _RunMethod\n",
      "    http_response = http_wrapper.MakeRequest(\n",
      "  File \"/usr/local/lib/python3.10/dist-packages/apitools/base/py/http_wrapper.py\", line 359, in MakeRequest\n",
      "    retry_func(ExceptionRetryArgs(http, http_request, e, retry,\n",
      "  File \"/usr/local/lib/python3.10/dist-packages/apitools/base/py/http_wrapper.py\", line 304, in HandleExceptionsAndRebuildHttpConnections\n",
      "    raise retry_args.exc\n",
      "  File \"/usr/local/lib/python3.10/dist-packages/apitools/base/py/http_wrapper.py\", line 348, in MakeRequest\n",
      "    return _MakeRequestNoRetry(\n",
      "  File \"/usr/local/lib/python3.10/dist-packages/apitools/base/py/http_wrapper.py\", line 397, in _MakeRequestNoRetry\n",
      "    info, content = http.request(\n",
      "  File \"/usr/local/lib/python3.10/dist-packages/google_auth_httplib2.py\", line 209, in request\n",
      "    self.credentials.before_request(self._request, method, uri, request_headers)\n",
      "  File \"/usr/local/lib/python3.10/dist-packages/google/auth/credentials.py\", line 135, in before_request\n",
      "    self.refresh(request)\n",
      "  File \"/usr/local/lib/python3.10/dist-packages/google/auth/compute_engine/credentials.py\", line 117, in refresh\n",
      "    six.raise_from(new_exc, caught_exc)\n",
      "  File \"<string>\", line 3, in raise_from\n",
      "\n",
      "WARNING:apache_beam.utils.retry:Retry with exponential backoff: waiting for 5.700784709090362 seconds before retrying _start_query_job because we caught exception: google.auth.exceptions.RefreshError: (\"Failed to retrieve http://metadata.google.internal/computeMetadata/v1/instance/service-accounts/default/?recursive=true from the Google Compute Engine metadata service. Status: 404 Response:\\nb''\", <google_auth_httplib2._Response object at 0x7fce82782a70>)\n",
      " Traceback for above exception (most recent call last):\n",
      "  File \"/usr/local/lib/python3.10/dist-packages/apache_beam/utils/retry.py\", line 275, in wrapper\n",
      "    return fun(*args, **kwargs)\n",
      "  File \"/usr/local/lib/python3.10/dist-packages/apache_beam/io/gcp/bigquery_tools.py\", line 615, in _start_query_job\n",
      "    return self._start_job(request)\n",
      "  File \"/usr/local/lib/python3.10/dist-packages/apache_beam/io/gcp/bigquery_tools.py\", line 561, in _start_job\n",
      "    response = self.client.jobs.Insert(request, upload=upload)\n",
      "  File \"/usr/local/lib/python3.10/dist-packages/apache_beam/io/gcp/internal/clients/bigquery/bigquery_v2_client.py\", line 343, in Insert\n",
      "    return self._RunMethod(\n",
      "  File \"/usr/local/lib/python3.10/dist-packages/apitools/base/py/base_api.py\", line 728, in _RunMethod\n",
      "    http_response = http_wrapper.MakeRequest(\n",
      "  File \"/usr/local/lib/python3.10/dist-packages/apitools/base/py/http_wrapper.py\", line 359, in MakeRequest\n",
      "    retry_func(ExceptionRetryArgs(http, http_request, e, retry,\n",
      "  File \"/usr/local/lib/python3.10/dist-packages/apitools/base/py/http_wrapper.py\", line 304, in HandleExceptionsAndRebuildHttpConnections\n",
      "    raise retry_args.exc\n",
      "  File \"/usr/local/lib/python3.10/dist-packages/apitools/base/py/http_wrapper.py\", line 348, in MakeRequest\n",
      "    return _MakeRequestNoRetry(\n",
      "  File \"/usr/local/lib/python3.10/dist-packages/apitools/base/py/http_wrapper.py\", line 397, in _MakeRequestNoRetry\n",
      "    info, content = http.request(\n",
      "  File \"/usr/local/lib/python3.10/dist-packages/google_auth_httplib2.py\", line 209, in request\n",
      "    self.credentials.before_request(self._request, method, uri, request_headers)\n",
      "  File \"/usr/local/lib/python3.10/dist-packages/google/auth/credentials.py\", line 135, in before_request\n",
      "    self.refresh(request)\n",
      "  File \"/usr/local/lib/python3.10/dist-packages/google/auth/compute_engine/credentials.py\", line 117, in refresh\n",
      "    six.raise_from(new_exc, caught_exc)\n",
      "  File \"<string>\", line 3, in raise_from\n",
      "\n",
      "WARNING:apache_beam.utils.retry:Retry with exponential backoff: waiting for 12.434351049613863 seconds before retrying _start_query_job because we caught exception: google.auth.exceptions.RefreshError: (\"Failed to retrieve http://metadata.google.internal/computeMetadata/v1/instance/service-accounts/default/?recursive=true from the Google Compute Engine metadata service. Status: 404 Response:\\nb''\", <google_auth_httplib2._Response object at 0x7fce82782fb0>)\n",
      " Traceback for above exception (most recent call last):\n",
      "  File \"/usr/local/lib/python3.10/dist-packages/apache_beam/utils/retry.py\", line 275, in wrapper\n",
      "    return fun(*args, **kwargs)\n",
      "  File \"/usr/local/lib/python3.10/dist-packages/apache_beam/io/gcp/bigquery_tools.py\", line 615, in _start_query_job\n",
      "    return self._start_job(request)\n",
      "  File \"/usr/local/lib/python3.10/dist-packages/apache_beam/io/gcp/bigquery_tools.py\", line 561, in _start_job\n",
      "    response = self.client.jobs.Insert(request, upload=upload)\n",
      "  File \"/usr/local/lib/python3.10/dist-packages/apache_beam/io/gcp/internal/clients/bigquery/bigquery_v2_client.py\", line 343, in Insert\n",
      "    return self._RunMethod(\n",
      "  File \"/usr/local/lib/python3.10/dist-packages/apitools/base/py/base_api.py\", line 728, in _RunMethod\n",
      "    http_response = http_wrapper.MakeRequest(\n",
      "  File \"/usr/local/lib/python3.10/dist-packages/apitools/base/py/http_wrapper.py\", line 359, in MakeRequest\n",
      "    retry_func(ExceptionRetryArgs(http, http_request, e, retry,\n",
      "  File \"/usr/local/lib/python3.10/dist-packages/apitools/base/py/http_wrapper.py\", line 304, in HandleExceptionsAndRebuildHttpConnections\n",
      "    raise retry_args.exc\n",
      "  File \"/usr/local/lib/python3.10/dist-packages/apitools/base/py/http_wrapper.py\", line 348, in MakeRequest\n",
      "    return _MakeRequestNoRetry(\n",
      "  File \"/usr/local/lib/python3.10/dist-packages/apitools/base/py/http_wrapper.py\", line 397, in _MakeRequestNoRetry\n",
      "    info, content = http.request(\n",
      "  File \"/usr/local/lib/python3.10/dist-packages/google_auth_httplib2.py\", line 209, in request\n",
      "    self.credentials.before_request(self._request, method, uri, request_headers)\n",
      "  File \"/usr/local/lib/python3.10/dist-packages/google/auth/credentials.py\", line 135, in before_request\n",
      "    self.refresh(request)\n",
      "  File \"/usr/local/lib/python3.10/dist-packages/google/auth/compute_engine/credentials.py\", line 117, in refresh\n",
      "    six.raise_from(new_exc, caught_exc)\n",
      "  File \"<string>\", line 3, in raise_from\n",
      "\n"
     ]
    },
    {
     "output_type": "error",
     "ename": "RuntimeError",
     "evalue": "ignored",
     "traceback": [
      "\u001B[0;31m---------------------------------------------------------------------------\u001B[0m",
      "\u001B[0;31mTransportError\u001B[0m                            Traceback (most recent call last)",
      "\u001B[0;32m/usr/local/lib/python3.10/dist-packages/google/auth/compute_engine/credentials.py\u001B[0m in \u001B[0;36mrefresh\u001B[0;34m(self, request)\u001B[0m\n\u001B[1;32m    110\u001B[0m         \u001B[0;32mtry\u001B[0m\u001B[0;34m:\u001B[0m\u001B[0;34m\u001B[0m\u001B[0;34m\u001B[0m\u001B[0m\n\u001B[0;32m--> 111\u001B[0;31m             \u001B[0mself\u001B[0m\u001B[0;34m.\u001B[0m\u001B[0m_retrieve_info\u001B[0m\u001B[0;34m(\u001B[0m\u001B[0mrequest\u001B[0m\u001B[0;34m)\u001B[0m\u001B[0;34m\u001B[0m\u001B[0;34m\u001B[0m\u001B[0m\n\u001B[0m\u001B[1;32m    112\u001B[0m             self.token, self.expiry = _metadata.get_service_account_token(\n",
      "\u001B[0;32m/usr/local/lib/python3.10/dist-packages/google/auth/compute_engine/credentials.py\u001B[0m in \u001B[0;36m_retrieve_info\u001B[0;34m(self, request)\u001B[0m\n\u001B[1;32m     86\u001B[0m         \"\"\"\n\u001B[0;32m---> 87\u001B[0;31m         info = _metadata.get_service_account_info(\n\u001B[0m\u001B[1;32m     88\u001B[0m             \u001B[0mrequest\u001B[0m\u001B[0;34m,\u001B[0m \u001B[0mservice_account\u001B[0m\u001B[0;34m=\u001B[0m\u001B[0mself\u001B[0m\u001B[0;34m.\u001B[0m\u001B[0m_service_account_email\u001B[0m\u001B[0;34m\u001B[0m\u001B[0;34m\u001B[0m\u001B[0m\n",
      "\u001B[0;32m/usr/local/lib/python3.10/dist-packages/google/auth/compute_engine/_metadata.py\u001B[0m in \u001B[0;36mget_service_account_info\u001B[0;34m(request, service_account)\u001B[0m\n\u001B[1;32m    233\u001B[0m     \u001B[0;31m# for more on the use of 'recursive'.\u001B[0m\u001B[0;34m\u001B[0m\u001B[0;34m\u001B[0m\u001B[0m\n\u001B[0;32m--> 234\u001B[0;31m     \u001B[0;32mreturn\u001B[0m \u001B[0mget\u001B[0m\u001B[0;34m(\u001B[0m\u001B[0mrequest\u001B[0m\u001B[0;34m,\u001B[0m \u001B[0mpath\u001B[0m\u001B[0;34m,\u001B[0m \u001B[0mparams\u001B[0m\u001B[0;34m=\u001B[0m\u001B[0;34m{\u001B[0m\u001B[0;34m\"recursive\"\u001B[0m\u001B[0;34m:\u001B[0m \u001B[0;34m\"true\"\u001B[0m\u001B[0;34m}\u001B[0m\u001B[0;34m)\u001B[0m\u001B[0;34m\u001B[0m\u001B[0;34m\u001B[0m\u001B[0m\n\u001B[0m\u001B[1;32m    235\u001B[0m \u001B[0;34m\u001B[0m\u001B[0m\n",
      "\u001B[0;32m/usr/local/lib/python3.10/dist-packages/google/auth/compute_engine/_metadata.py\u001B[0m in \u001B[0;36mget\u001B[0;34m(request, path, root, params, recursive, retry_count)\u001B[0m\n\u001B[1;32m    181\u001B[0m     \u001B[0;32melse\u001B[0m\u001B[0;34m:\u001B[0m\u001B[0;34m\u001B[0m\u001B[0;34m\u001B[0m\u001B[0m\n\u001B[0;32m--> 182\u001B[0;31m         raise exceptions.TransportError(\n\u001B[0m\u001B[1;32m    183\u001B[0m             \u001B[0;34m\"Failed to retrieve {} from the Google Compute Engine \"\u001B[0m\u001B[0;34m\u001B[0m\u001B[0;34m\u001B[0m\u001B[0m\n",
      "\u001B[0;31mTransportError\u001B[0m: (\"Failed to retrieve http://metadata.google.internal/computeMetadata/v1/instance/service-accounts/default/?recursive=true from the Google Compute Engine metadata service. Status: 404 Response:\\nb''\", <google_auth_httplib2._Response object at 0x7fce82783550>)",
      "\nThe above exception was the direct cause of the following exception:\n",
      "\u001B[0;31mRefreshError\u001B[0m                              Traceback (most recent call last)",
      "\u001B[0;32m/usr/local/lib/python3.10/dist-packages/apache_beam/runners/common.cpython-310-x86_64-linux-gnu.so\u001B[0m in \u001B[0;36mapache_beam.runners.common.DoFnRunner.process\u001B[0;34m()\u001B[0m\n",
      "\u001B[0;32m/usr/local/lib/python3.10/dist-packages/apache_beam/runners/common.cpython-310-x86_64-linux-gnu.so\u001B[0m in \u001B[0;36mapache_beam.runners.common.SimpleInvoker.invoke_process\u001B[0;34m()\u001B[0m\n",
      "\u001B[0;32m/usr/local/lib/python3.10/dist-packages/apache_beam/runners/common.cpython-310-x86_64-linux-gnu.so\u001B[0m in \u001B[0;36mapache_beam.runners.common._OutputHandler.handle_process_outputs\u001B[0;34m()\u001B[0m\n",
      "\u001B[0;32m/usr/local/lib/python3.10/dist-packages/apache_beam/runners/worker/bundle_processor.py\u001B[0m in \u001B[0;36mprocess\u001B[0;34m(self, element_restriction, *args, **kwargs)\u001B[0m\n\u001B[1;32m   1517\u001B[0m         \u001B[0;32mif\u001B[0m \u001B[0msize\u001B[0m \u001B[0;34m<\u001B[0m \u001B[0;36m0\u001B[0m\u001B[0;34m:\u001B[0m\u001B[0;34m\u001B[0m\u001B[0;34m\u001B[0m\u001B[0m\n\u001B[0;32m-> 1518\u001B[0;31m           \u001B[0;32mraise\u001B[0m \u001B[0mValueError\u001B[0m\u001B[0;34m(\u001B[0m\u001B[0;34m'Expected size >= 0 but received %s.'\u001B[0m \u001B[0;34m%\u001B[0m \u001B[0msize\u001B[0m\u001B[0;34m)\u001B[0m\u001B[0;34m\u001B[0m\u001B[0;34m\u001B[0m\u001B[0m\n\u001B[0m\u001B[1;32m   1519\u001B[0m         estimator_state = (\n",
      "\u001B[0;32m/usr/local/lib/python3.10/dist-packages/apache_beam/transforms/core.py\u001B[0m in \u001B[0;36msplit_and_size\u001B[0;34m(self, element, restriction)\u001B[0m\n\u001B[1;32m    334\u001B[0m     \"\"\"\n\u001B[0;32m--> 335\u001B[0;31m     \u001B[0;32mfor\u001B[0m \u001B[0mpart\u001B[0m \u001B[0;32min\u001B[0m \u001B[0mself\u001B[0m\u001B[0;34m.\u001B[0m\u001B[0msplit\u001B[0m\u001B[0;34m(\u001B[0m\u001B[0melement\u001B[0m\u001B[0;34m,\u001B[0m \u001B[0mrestriction\u001B[0m\u001B[0;34m)\u001B[0m\u001B[0;34m:\u001B[0m\u001B[0;34m\u001B[0m\u001B[0;34m\u001B[0m\u001B[0m\n\u001B[0m\u001B[1;32m    336\u001B[0m       \u001B[0;32myield\u001B[0m \u001B[0mpart\u001B[0m\u001B[0;34m,\u001B[0m \u001B[0mself\u001B[0m\u001B[0;34m.\u001B[0m\u001B[0mrestriction_size\u001B[0m\u001B[0;34m(\u001B[0m\u001B[0melement\u001B[0m\u001B[0;34m,\u001B[0m \u001B[0mpart\u001B[0m\u001B[0;34m)\u001B[0m\u001B[0;34m\u001B[0m\u001B[0;34m\u001B[0m\u001B[0m\n",
      "\u001B[0;32m/usr/local/lib/python3.10/dist-packages/apache_beam/io/iobase.py\u001B[0m in \u001B[0;36msplit\u001B[0;34m(self, element, restriction)\u001B[0m\n\u001B[1;32m   1640\u001B[0m       \u001B[0;32mtry\u001B[0m\u001B[0;34m:\u001B[0m\u001B[0;34m\u001B[0m\u001B[0;34m\u001B[0m\u001B[0m\n\u001B[0;32m-> 1641\u001B[0;31m         \u001B[0mestimated_size\u001B[0m \u001B[0;34m=\u001B[0m \u001B[0mrestriction\u001B[0m\u001B[0;34m.\u001B[0m\u001B[0msource\u001B[0m\u001B[0;34m(\u001B[0m\u001B[0;34m)\u001B[0m\u001B[0;34m.\u001B[0m\u001B[0mestimate_size\u001B[0m\u001B[0;34m(\u001B[0m\u001B[0;34m)\u001B[0m\u001B[0;34m\u001B[0m\u001B[0;34m\u001B[0m\u001B[0m\n\u001B[0m\u001B[1;32m   1642\u001B[0m       \u001B[0;32mexcept\u001B[0m \u001B[0mNotImplementedError\u001B[0m\u001B[0;34m:\u001B[0m\u001B[0;34m\u001B[0m\u001B[0;34m\u001B[0m\u001B[0m\n",
      "\u001B[0;32m/usr/local/lib/python3.10/dist-packages/apache_beam/io/gcp/bigquery.py\u001B[0m in \u001B[0;36mestimate_size\u001B[0;34m(self)\u001B[0m\n\u001B[1;32m    720\u001B[0m           '%s_%s' % (int(time.time()), random.randint(0, 1000)))\n\u001B[0;32m--> 721\u001B[0;31m       job = bq._start_query_job(\n\u001B[0m\u001B[1;32m    722\u001B[0m           \u001B[0mproject\u001B[0m\u001B[0;34m,\u001B[0m\u001B[0;34m\u001B[0m\u001B[0;34m\u001B[0m\u001B[0m\n",
      "\u001B[0;32m/usr/local/lib/python3.10/dist-packages/apache_beam/utils/retry.py\u001B[0m in \u001B[0;36mwrapper\u001B[0;34m(*args, **kwargs)\u001B[0m\n\u001B[1;32m    287\u001B[0m               \u001B[0;31m# Re-raise the original exception since we finished the retries.\u001B[0m\u001B[0;34m\u001B[0m\u001B[0;34m\u001B[0m\u001B[0m\n\u001B[0;32m--> 288\u001B[0;31m               \u001B[0;32mraise\u001B[0m \u001B[0mexn\u001B[0m\u001B[0;34m.\u001B[0m\u001B[0mwith_traceback\u001B[0m\u001B[0;34m(\u001B[0m\u001B[0mexn_traceback\u001B[0m\u001B[0;34m)\u001B[0m\u001B[0;34m\u001B[0m\u001B[0;34m\u001B[0m\u001B[0m\n\u001B[0m\u001B[1;32m    289\u001B[0m \u001B[0;34m\u001B[0m\u001B[0m\n",
      "\u001B[0;32m/usr/local/lib/python3.10/dist-packages/apache_beam/utils/retry.py\u001B[0m in \u001B[0;36mwrapper\u001B[0;34m(*args, **kwargs)\u001B[0m\n\u001B[1;32m    274\u001B[0m         \u001B[0;32mtry\u001B[0m\u001B[0;34m:\u001B[0m\u001B[0;34m\u001B[0m\u001B[0;34m\u001B[0m\u001B[0m\n\u001B[0;32m--> 275\u001B[0;31m           \u001B[0;32mreturn\u001B[0m \u001B[0mfun\u001B[0m\u001B[0;34m(\u001B[0m\u001B[0;34m*\u001B[0m\u001B[0margs\u001B[0m\u001B[0;34m,\u001B[0m \u001B[0;34m**\u001B[0m\u001B[0mkwargs\u001B[0m\u001B[0;34m)\u001B[0m\u001B[0;34m\u001B[0m\u001B[0;34m\u001B[0m\u001B[0m\n\u001B[0m\u001B[1;32m    276\u001B[0m         \u001B[0;32mexcept\u001B[0m \u001B[0mException\u001B[0m \u001B[0;32mas\u001B[0m \u001B[0mexn\u001B[0m\u001B[0;34m:\u001B[0m  \u001B[0;31m# pylint: disable=broad-except\u001B[0m\u001B[0;34m\u001B[0m\u001B[0;34m\u001B[0m\u001B[0m\n",
      "\u001B[0;32m/usr/local/lib/python3.10/dist-packages/apache_beam/io/gcp/bigquery_tools.py\u001B[0m in \u001B[0;36m_start_query_job\u001B[0;34m(self, project_id, query, use_legacy_sql, flatten_results, job_id, priority, dry_run, kms_key, job_labels)\u001B[0m\n\u001B[1;32m    614\u001B[0m \u001B[0;34m\u001B[0m\u001B[0m\n\u001B[0;32m--> 615\u001B[0;31m     \u001B[0;32mreturn\u001B[0m \u001B[0mself\u001B[0m\u001B[0;34m.\u001B[0m\u001B[0m_start_job\u001B[0m\u001B[0;34m(\u001B[0m\u001B[0mrequest\u001B[0m\u001B[0;34m)\u001B[0m\u001B[0;34m\u001B[0m\u001B[0;34m\u001B[0m\u001B[0m\n\u001B[0m\u001B[1;32m    616\u001B[0m \u001B[0;34m\u001B[0m\u001B[0m\n",
      "\u001B[0;32m/usr/local/lib/python3.10/dist-packages/apache_beam/io/gcp/bigquery_tools.py\u001B[0m in \u001B[0;36m_start_job\u001B[0;34m(self, request, stream)\u001B[0m\n\u001B[1;32m    560\u001B[0m         \u001B[0mupload\u001B[0m \u001B[0;34m=\u001B[0m \u001B[0mUpload\u001B[0m\u001B[0;34m.\u001B[0m\u001B[0mFromStream\u001B[0m\u001B[0;34m(\u001B[0m\u001B[0mstream\u001B[0m\u001B[0;34m,\u001B[0m \u001B[0mmime_type\u001B[0m\u001B[0;34m=\u001B[0m\u001B[0mUNKNOWN_MIME_TYPE\u001B[0m\u001B[0;34m)\u001B[0m\u001B[0;34m\u001B[0m\u001B[0;34m\u001B[0m\u001B[0m\n\u001B[0;32m--> 561\u001B[0;31m       \u001B[0mresponse\u001B[0m \u001B[0;34m=\u001B[0m \u001B[0mself\u001B[0m\u001B[0;34m.\u001B[0m\u001B[0mclient\u001B[0m\u001B[0;34m.\u001B[0m\u001B[0mjobs\u001B[0m\u001B[0;34m.\u001B[0m\u001B[0mInsert\u001B[0m\u001B[0;34m(\u001B[0m\u001B[0mrequest\u001B[0m\u001B[0;34m,\u001B[0m \u001B[0mupload\u001B[0m\u001B[0;34m=\u001B[0m\u001B[0mupload\u001B[0m\u001B[0;34m)\u001B[0m\u001B[0;34m\u001B[0m\u001B[0;34m\u001B[0m\u001B[0m\n\u001B[0m\u001B[1;32m    562\u001B[0m       _LOGGER.info(\n",
      "\u001B[0;32m/usr/local/lib/python3.10/dist-packages/apache_beam/io/gcp/internal/clients/bigquery/bigquery_v2_client.py\u001B[0m in \u001B[0;36mInsert\u001B[0;34m(self, request, global_params, upload)\u001B[0m\n\u001B[1;32m    342\u001B[0m       \u001B[0mupload_config\u001B[0m \u001B[0;34m=\u001B[0m \u001B[0mself\u001B[0m\u001B[0;34m.\u001B[0m\u001B[0mGetUploadConfig\u001B[0m\u001B[0;34m(\u001B[0m\u001B[0;34m'Insert'\u001B[0m\u001B[0;34m)\u001B[0m\u001B[0;34m\u001B[0m\u001B[0;34m\u001B[0m\u001B[0m\n\u001B[0;32m--> 343\u001B[0;31m       return self._RunMethod(\n\u001B[0m\u001B[1;32m    344\u001B[0m           \u001B[0mconfig\u001B[0m\u001B[0;34m,\u001B[0m \u001B[0mrequest\u001B[0m\u001B[0;34m,\u001B[0m \u001B[0mglobal_params\u001B[0m\u001B[0;34m=\u001B[0m\u001B[0mglobal_params\u001B[0m\u001B[0;34m,\u001B[0m\u001B[0;34m\u001B[0m\u001B[0;34m\u001B[0m\u001B[0m\n",
      "\u001B[0;32m/usr/local/lib/python3.10/dist-packages/apitools/base/py/base_api.py\u001B[0m in \u001B[0;36m_RunMethod\u001B[0;34m(self, method_config, request, global_params, upload, upload_config, download)\u001B[0m\n\u001B[1;32m    727\u001B[0m                 \u001B[0mopts\u001B[0m\u001B[0;34m[\u001B[0m\u001B[0;34m'retry_func'\u001B[0m\u001B[0;34m]\u001B[0m \u001B[0;34m=\u001B[0m \u001B[0mself\u001B[0m\u001B[0;34m.\u001B[0m\u001B[0m__client\u001B[0m\u001B[0;34m.\u001B[0m\u001B[0mretry_func\u001B[0m\u001B[0;34m\u001B[0m\u001B[0;34m\u001B[0m\u001B[0m\n\u001B[0;32m--> 728\u001B[0;31m             http_response = http_wrapper.MakeRequest(\n\u001B[0m\u001B[1;32m    729\u001B[0m                 http, http_request, **opts)\n",
      "\u001B[0;32m/usr/local/lib/python3.10/dist-packages/apitools/base/py/http_wrapper.py\u001B[0m in \u001B[0;36mMakeRequest\u001B[0;34m(http, http_request, retries, max_retry_wait, redirections, retry_func, check_response_func)\u001B[0m\n\u001B[1;32m    358\u001B[0m                 \u001B[0mtotal_wait_sec\u001B[0m \u001B[0;34m=\u001B[0m \u001B[0mtime\u001B[0m\u001B[0;34m.\u001B[0m\u001B[0mtime\u001B[0m\u001B[0;34m(\u001B[0m\u001B[0;34m)\u001B[0m \u001B[0;34m-\u001B[0m \u001B[0mfirst_req_time\u001B[0m\u001B[0;34m\u001B[0m\u001B[0;34m\u001B[0m\u001B[0m\n\u001B[0;32m--> 359\u001B[0;31m                 retry_func(ExceptionRetryArgs(http, http_request, e, retry,\n\u001B[0m\u001B[1;32m    360\u001B[0m                                               max_retry_wait, total_wait_sec))\n",
      "\u001B[0;32m/usr/local/lib/python3.10/dist-packages/apitools/base/py/http_wrapper.py\u001B[0m in \u001B[0;36mHandleExceptionsAndRebuildHttpConnections\u001B[0;34m(retry_args)\u001B[0m\n\u001B[1;32m    303\u001B[0m     \u001B[0;32melse\u001B[0m\u001B[0;34m:\u001B[0m\u001B[0;34m\u001B[0m\u001B[0;34m\u001B[0m\u001B[0m\n\u001B[0;32m--> 304\u001B[0;31m         \u001B[0;32mraise\u001B[0m \u001B[0mretry_args\u001B[0m\u001B[0;34m.\u001B[0m\u001B[0mexc\u001B[0m\u001B[0;34m\u001B[0m\u001B[0;34m\u001B[0m\u001B[0m\n\u001B[0m\u001B[1;32m    305\u001B[0m     \u001B[0mRebuildHttpConnections\u001B[0m\u001B[0;34m(\u001B[0m\u001B[0mretry_args\u001B[0m\u001B[0;34m.\u001B[0m\u001B[0mhttp\u001B[0m\u001B[0;34m)\u001B[0m\u001B[0;34m\u001B[0m\u001B[0;34m\u001B[0m\u001B[0m\n",
      "\u001B[0;32m/usr/local/lib/python3.10/dist-packages/apitools/base/py/http_wrapper.py\u001B[0m in \u001B[0;36mMakeRequest\u001B[0;34m(http, http_request, retries, max_retry_wait, redirections, retry_func, check_response_func)\u001B[0m\n\u001B[1;32m    347\u001B[0m         \u001B[0;32mtry\u001B[0m\u001B[0;34m:\u001B[0m\u001B[0;34m\u001B[0m\u001B[0;34m\u001B[0m\u001B[0m\n\u001B[0;32m--> 348\u001B[0;31m             return _MakeRequestNoRetry(\n\u001B[0m\u001B[1;32m    349\u001B[0m                 \u001B[0mhttp\u001B[0m\u001B[0;34m,\u001B[0m \u001B[0mhttp_request\u001B[0m\u001B[0;34m,\u001B[0m \u001B[0mredirections\u001B[0m\u001B[0;34m=\u001B[0m\u001B[0mredirections\u001B[0m\u001B[0;34m,\u001B[0m\u001B[0;34m\u001B[0m\u001B[0;34m\u001B[0m\u001B[0m\n",
      "\u001B[0;32m/usr/local/lib/python3.10/dist-packages/apitools/base/py/http_wrapper.py\u001B[0m in \u001B[0;36m_MakeRequestNoRetry\u001B[0;34m(http, http_request, redirections, check_response_func)\u001B[0m\n\u001B[1;32m    396\u001B[0m     \u001B[0;32mwith\u001B[0m \u001B[0m_Httplib2Debuglevel\u001B[0m\u001B[0;34m(\u001B[0m\u001B[0mhttp_request\u001B[0m\u001B[0;34m,\u001B[0m \u001B[0mnew_debuglevel\u001B[0m\u001B[0;34m,\u001B[0m \u001B[0mhttp\u001B[0m\u001B[0;34m=\u001B[0m\u001B[0mhttp\u001B[0m\u001B[0;34m)\u001B[0m\u001B[0;34m:\u001B[0m\u001B[0;34m\u001B[0m\u001B[0;34m\u001B[0m\u001B[0m\n\u001B[0;32m--> 397\u001B[0;31m         info, content = http.request(\n\u001B[0m\u001B[1;32m    398\u001B[0m             \u001B[0mstr\u001B[0m\u001B[0;34m(\u001B[0m\u001B[0mhttp_request\u001B[0m\u001B[0;34m.\u001B[0m\u001B[0murl\u001B[0m\u001B[0;34m)\u001B[0m\u001B[0;34m,\u001B[0m \u001B[0mmethod\u001B[0m\u001B[0;34m=\u001B[0m\u001B[0mstr\u001B[0m\u001B[0;34m(\u001B[0m\u001B[0mhttp_request\u001B[0m\u001B[0;34m.\u001B[0m\u001B[0mhttp_method\u001B[0m\u001B[0;34m)\u001B[0m\u001B[0;34m,\u001B[0m\u001B[0;34m\u001B[0m\u001B[0;34m\u001B[0m\u001B[0m\n",
      "\u001B[0;32m/usr/local/lib/python3.10/dist-packages/google_auth_httplib2.py\u001B[0m in \u001B[0;36mrequest\u001B[0;34m(self, uri, method, body, headers, redirections, connection_type, **kwargs)\u001B[0m\n\u001B[1;32m    208\u001B[0m \u001B[0;34m\u001B[0m\u001B[0m\n\u001B[0;32m--> 209\u001B[0;31m         \u001B[0mself\u001B[0m\u001B[0;34m.\u001B[0m\u001B[0mcredentials\u001B[0m\u001B[0;34m.\u001B[0m\u001B[0mbefore_request\u001B[0m\u001B[0;34m(\u001B[0m\u001B[0mself\u001B[0m\u001B[0;34m.\u001B[0m\u001B[0m_request\u001B[0m\u001B[0;34m,\u001B[0m \u001B[0mmethod\u001B[0m\u001B[0;34m,\u001B[0m \u001B[0muri\u001B[0m\u001B[0;34m,\u001B[0m \u001B[0mrequest_headers\u001B[0m\u001B[0;34m)\u001B[0m\u001B[0;34m\u001B[0m\u001B[0;34m\u001B[0m\u001B[0m\n\u001B[0m\u001B[1;32m    210\u001B[0m \u001B[0;34m\u001B[0m\u001B[0m\n",
      "\u001B[0;32m/usr/local/lib/python3.10/dist-packages/google/auth/credentials.py\u001B[0m in \u001B[0;36mbefore_request\u001B[0;34m(self, request, method, url, headers)\u001B[0m\n\u001B[1;32m    134\u001B[0m         \u001B[0;32mif\u001B[0m \u001B[0;32mnot\u001B[0m \u001B[0mself\u001B[0m\u001B[0;34m.\u001B[0m\u001B[0mvalid\u001B[0m\u001B[0;34m:\u001B[0m\u001B[0;34m\u001B[0m\u001B[0;34m\u001B[0m\u001B[0m\n\u001B[0;32m--> 135\u001B[0;31m             \u001B[0mself\u001B[0m\u001B[0;34m.\u001B[0m\u001B[0mrefresh\u001B[0m\u001B[0;34m(\u001B[0m\u001B[0mrequest\u001B[0m\u001B[0;34m)\u001B[0m\u001B[0;34m\u001B[0m\u001B[0;34m\u001B[0m\u001B[0m\n\u001B[0m\u001B[1;32m    136\u001B[0m         \u001B[0mself\u001B[0m\u001B[0;34m.\u001B[0m\u001B[0mapply\u001B[0m\u001B[0;34m(\u001B[0m\u001B[0mheaders\u001B[0m\u001B[0;34m)\u001B[0m\u001B[0;34m\u001B[0m\u001B[0;34m\u001B[0m\u001B[0m\n",
      "\u001B[0;32m/usr/local/lib/python3.10/dist-packages/google/auth/compute_engine/credentials.py\u001B[0m in \u001B[0;36mrefresh\u001B[0;34m(self, request)\u001B[0m\n\u001B[1;32m    116\u001B[0m             \u001B[0mnew_exc\u001B[0m \u001B[0;34m=\u001B[0m \u001B[0mexceptions\u001B[0m\u001B[0;34m.\u001B[0m\u001B[0mRefreshError\u001B[0m\u001B[0;34m(\u001B[0m\u001B[0mcaught_exc\u001B[0m\u001B[0;34m)\u001B[0m\u001B[0;34m\u001B[0m\u001B[0;34m\u001B[0m\u001B[0m\n\u001B[0;32m--> 117\u001B[0;31m             \u001B[0msix\u001B[0m\u001B[0;34m.\u001B[0m\u001B[0mraise_from\u001B[0m\u001B[0;34m(\u001B[0m\u001B[0mnew_exc\u001B[0m\u001B[0;34m,\u001B[0m \u001B[0mcaught_exc\u001B[0m\u001B[0;34m)\u001B[0m\u001B[0;34m\u001B[0m\u001B[0;34m\u001B[0m\u001B[0m\n\u001B[0m\u001B[1;32m    118\u001B[0m \u001B[0;34m\u001B[0m\u001B[0m\n",
      "\u001B[0;32m/usr/local/lib/python3.10/dist-packages/six.py\u001B[0m in \u001B[0;36mraise_from\u001B[0;34m(value, from_value)\u001B[0m\n",
      "\u001B[0;31mRefreshError\u001B[0m: (\"Failed to retrieve http://metadata.google.internal/computeMetadata/v1/instance/service-accounts/default/?recursive=true from the Google Compute Engine metadata service. Status: 404 Response:\\nb''\", <google_auth_httplib2._Response object at 0x7fce82783550>)",
      "\nDuring handling of the above exception, another exception occurred:\n",
      "\u001B[0;31mRuntimeError\u001B[0m                              Traceback (most recent call last)",
      "\u001B[0;32m<ipython-input-14-0436c86a732c>\u001B[0m in \u001B[0;36m<cell line: 1>\u001B[0;34m()\u001B[0m\n\u001B[0;32m----> 1\u001B[0;31m \u001B[0;32mwith\u001B[0m \u001B[0mbeam\u001B[0m\u001B[0;34m.\u001B[0m\u001B[0mPipeline\u001B[0m\u001B[0;34m(\u001B[0m\u001B[0moptions\u001B[0m\u001B[0;34m=\u001B[0m\u001B[0mpipeline_options\u001B[0m\u001B[0;34m)\u001B[0m \u001B[0;32mas\u001B[0m \u001B[0mp\u001B[0m\u001B[0;34m:\u001B[0m\u001B[0;34m\u001B[0m\u001B[0;34m\u001B[0m\u001B[0m\n\u001B[0m\u001B[1;32m      2\u001B[0m         line = (\n\u001B[1;32m      3\u001B[0m                 \u001B[0mp\u001B[0m\u001B[0;34m\u001B[0m\u001B[0;34m\u001B[0m\u001B[0m\n\u001B[1;32m      4\u001B[0m                 \u001B[0;31m#| 'ReadTable' >> beam.io.ReadFromBigQuery(table=table_spec)\u001B[0m\u001B[0;34m\u001B[0m\u001B[0;34m\u001B[0m\u001B[0m\n\u001B[1;32m      5\u001B[0m                 \u001B[0;31m# | 'QueryTable' >> beam.io.ReadFromBigQuery(query=query, use_standard_sql=True)\u001B[0m\u001B[0;34m\u001B[0m\u001B[0;34m\u001B[0m\u001B[0m\n",
      "\u001B[0;32m/usr/local/lib/python3.10/dist-packages/apache_beam/pipeline.py\u001B[0m in \u001B[0;36m__exit__\u001B[0;34m(self, exc_type, exc_val, exc_tb)\u001B[0m\n\u001B[1;32m    598\u001B[0m     \u001B[0;32mtry\u001B[0m\u001B[0;34m:\u001B[0m\u001B[0;34m\u001B[0m\u001B[0;34m\u001B[0m\u001B[0m\n\u001B[1;32m    599\u001B[0m       \u001B[0;32mif\u001B[0m \u001B[0;32mnot\u001B[0m \u001B[0mexc_type\u001B[0m\u001B[0;34m:\u001B[0m\u001B[0;34m\u001B[0m\u001B[0;34m\u001B[0m\u001B[0m\n\u001B[0;32m--> 600\u001B[0;31m         \u001B[0mself\u001B[0m\u001B[0;34m.\u001B[0m\u001B[0mresult\u001B[0m \u001B[0;34m=\u001B[0m \u001B[0mself\u001B[0m\u001B[0;34m.\u001B[0m\u001B[0mrun\u001B[0m\u001B[0;34m(\u001B[0m\u001B[0;34m)\u001B[0m\u001B[0;34m\u001B[0m\u001B[0;34m\u001B[0m\u001B[0m\n\u001B[0m\u001B[1;32m    601\u001B[0m         \u001B[0mself\u001B[0m\u001B[0;34m.\u001B[0m\u001B[0mresult\u001B[0m\u001B[0;34m.\u001B[0m\u001B[0mwait_until_finish\u001B[0m\u001B[0;34m(\u001B[0m\u001B[0;34m)\u001B[0m\u001B[0;34m\u001B[0m\u001B[0;34m\u001B[0m\u001B[0m\n\u001B[1;32m    602\u001B[0m     \u001B[0;32mfinally\u001B[0m\u001B[0;34m:\u001B[0m\u001B[0;34m\u001B[0m\u001B[0;34m\u001B[0m\u001B[0m\n",
      "\u001B[0;32m/usr/local/lib/python3.10/dist-packages/apache_beam/pipeline.py\u001B[0m in \u001B[0;36mrun\u001B[0;34m(self, test_runner_api)\u001B[0m\n\u001B[1;32m    551\u001B[0m             \u001B[0mself\u001B[0m\u001B[0;34m.\u001B[0m\u001B[0mto_runner_api\u001B[0m\u001B[0;34m(\u001B[0m\u001B[0muse_fake_coders\u001B[0m\u001B[0;34m=\u001B[0m\u001B[0;32mTrue\u001B[0m\u001B[0;34m)\u001B[0m\u001B[0;34m,\u001B[0m\u001B[0;34m\u001B[0m\u001B[0;34m\u001B[0m\u001B[0m\n\u001B[1;32m    552\u001B[0m             \u001B[0mself\u001B[0m\u001B[0;34m.\u001B[0m\u001B[0mrunner\u001B[0m\u001B[0;34m,\u001B[0m\u001B[0;34m\u001B[0m\u001B[0;34m\u001B[0m\u001B[0m\n\u001B[0;32m--> 553\u001B[0;31m             self._options).run(False)\n\u001B[0m\u001B[1;32m    554\u001B[0m \u001B[0;34m\u001B[0m\u001B[0m\n\u001B[1;32m    555\u001B[0m       if (self._options.view_as(TypeOptions).runtime_type_check and\n",
      "\u001B[0;32m/usr/local/lib/python3.10/dist-packages/apache_beam/pipeline.py\u001B[0m in \u001B[0;36mrun\u001B[0;34m(self, test_runner_api)\u001B[0m\n\u001B[1;32m    575\u001B[0m         \u001B[0;32mfinally\u001B[0m\u001B[0;34m:\u001B[0m\u001B[0;34m\u001B[0m\u001B[0;34m\u001B[0m\u001B[0m\n\u001B[1;32m    576\u001B[0m           \u001B[0mshutil\u001B[0m\u001B[0;34m.\u001B[0m\u001B[0mrmtree\u001B[0m\u001B[0;34m(\u001B[0m\u001B[0mtmpdir\u001B[0m\u001B[0;34m)\u001B[0m\u001B[0;34m\u001B[0m\u001B[0;34m\u001B[0m\u001B[0m\n\u001B[0;32m--> 577\u001B[0;31m       \u001B[0;32mreturn\u001B[0m \u001B[0mself\u001B[0m\u001B[0;34m.\u001B[0m\u001B[0mrunner\u001B[0m\u001B[0;34m.\u001B[0m\u001B[0mrun_pipeline\u001B[0m\u001B[0;34m(\u001B[0m\u001B[0mself\u001B[0m\u001B[0;34m,\u001B[0m \u001B[0mself\u001B[0m\u001B[0;34m.\u001B[0m\u001B[0m_options\u001B[0m\u001B[0;34m)\u001B[0m\u001B[0;34m\u001B[0m\u001B[0;34m\u001B[0m\u001B[0m\n\u001B[0m\u001B[1;32m    578\u001B[0m     \u001B[0;32mfinally\u001B[0m\u001B[0;34m:\u001B[0m\u001B[0;34m\u001B[0m\u001B[0;34m\u001B[0m\u001B[0m\n\u001B[1;32m    579\u001B[0m       \u001B[0;32mif\u001B[0m \u001B[0;32mnot\u001B[0m \u001B[0mis_in_ipython\u001B[0m\u001B[0;34m(\u001B[0m\u001B[0;34m)\u001B[0m\u001B[0;34m:\u001B[0m\u001B[0;34m\u001B[0m\u001B[0;34m\u001B[0m\u001B[0m\n",
      "\u001B[0;32m/usr/local/lib/python3.10/dist-packages/apache_beam/runners/direct/direct_runner.py\u001B[0m in \u001B[0;36mrun_pipeline\u001B[0;34m(self, pipeline, options)\u001B[0m\n\u001B[1;32m    129\u001B[0m       \u001B[0mrunner\u001B[0m \u001B[0;34m=\u001B[0m \u001B[0mBundleBasedDirectRunner\u001B[0m\u001B[0;34m(\u001B[0m\u001B[0;34m)\u001B[0m\u001B[0;34m\u001B[0m\u001B[0;34m\u001B[0m\u001B[0m\n\u001B[1;32m    130\u001B[0m \u001B[0;34m\u001B[0m\u001B[0m\n\u001B[0;32m--> 131\u001B[0;31m     \u001B[0;32mreturn\u001B[0m \u001B[0mrunner\u001B[0m\u001B[0;34m.\u001B[0m\u001B[0mrun_pipeline\u001B[0m\u001B[0;34m(\u001B[0m\u001B[0mpipeline\u001B[0m\u001B[0;34m,\u001B[0m \u001B[0moptions\u001B[0m\u001B[0;34m)\u001B[0m\u001B[0;34m\u001B[0m\u001B[0;34m\u001B[0m\u001B[0m\n\u001B[0m\u001B[1;32m    132\u001B[0m \u001B[0;34m\u001B[0m\u001B[0m\n\u001B[1;32m    133\u001B[0m \u001B[0;34m\u001B[0m\u001B[0m\n",
      "\u001B[0;32m/usr/local/lib/python3.10/dist-packages/apache_beam/runners/portability/fn_api_runner/fn_runner.py\u001B[0m in \u001B[0;36mrun_pipeline\u001B[0;34m(self, pipeline, options)\u001B[0m\n\u001B[1;32m    200\u001B[0m         options.view_as(pipeline_options.ProfilingOptions))\n\u001B[1;32m    201\u001B[0m \u001B[0;34m\u001B[0m\u001B[0m\n\u001B[0;32m--> 202\u001B[0;31m     self._latest_run_result = self.run_via_runner_api(\n\u001B[0m\u001B[1;32m    203\u001B[0m         \u001B[0mpipeline\u001B[0m\u001B[0;34m.\u001B[0m\u001B[0mto_runner_api\u001B[0m\u001B[0;34m(\u001B[0m\u001B[0mdefault_environment\u001B[0m\u001B[0;34m=\u001B[0m\u001B[0mself\u001B[0m\u001B[0;34m.\u001B[0m\u001B[0m_default_environment\u001B[0m\u001B[0;34m)\u001B[0m\u001B[0;34m,\u001B[0m\u001B[0;34m\u001B[0m\u001B[0;34m\u001B[0m\u001B[0m\n\u001B[1;32m    204\u001B[0m         options)\n",
      "\u001B[0;32m/usr/local/lib/python3.10/dist-packages/apache_beam/runners/portability/fn_api_runner/fn_runner.py\u001B[0m in \u001B[0;36mrun_via_runner_api\u001B[0;34m(self, pipeline_proto, options)\u001B[0m\n\u001B[1;32m    222\u001B[0m       \u001B[0mpipeline_proto\u001B[0m \u001B[0;34m=\u001B[0m \u001B[0mself\u001B[0m\u001B[0;34m.\u001B[0m\u001B[0membed_default_docker_image\u001B[0m\u001B[0;34m(\u001B[0m\u001B[0mpipeline_proto\u001B[0m\u001B[0;34m)\u001B[0m\u001B[0;34m\u001B[0m\u001B[0;34m\u001B[0m\u001B[0m\n\u001B[1;32m    223\u001B[0m     \u001B[0mstage_context\u001B[0m\u001B[0;34m,\u001B[0m \u001B[0mstages\u001B[0m \u001B[0;34m=\u001B[0m \u001B[0mself\u001B[0m\u001B[0;34m.\u001B[0m\u001B[0mcreate_stages\u001B[0m\u001B[0;34m(\u001B[0m\u001B[0mpipeline_proto\u001B[0m\u001B[0;34m)\u001B[0m\u001B[0;34m\u001B[0m\u001B[0;34m\u001B[0m\u001B[0m\n\u001B[0;32m--> 224\u001B[0;31m     \u001B[0;32mreturn\u001B[0m \u001B[0mself\u001B[0m\u001B[0;34m.\u001B[0m\u001B[0mrun_stages\u001B[0m\u001B[0;34m(\u001B[0m\u001B[0mstage_context\u001B[0m\u001B[0;34m,\u001B[0m \u001B[0mstages\u001B[0m\u001B[0;34m)\u001B[0m\u001B[0;34m\u001B[0m\u001B[0;34m\u001B[0m\u001B[0m\n\u001B[0m\u001B[1;32m    225\u001B[0m \u001B[0;34m\u001B[0m\u001B[0m\n\u001B[1;32m    226\u001B[0m   \u001B[0;32mdef\u001B[0m \u001B[0membed_default_docker_image\u001B[0m\u001B[0;34m(\u001B[0m\u001B[0mself\u001B[0m\u001B[0;34m,\u001B[0m \u001B[0mpipeline_proto\u001B[0m\u001B[0;34m)\u001B[0m\u001B[0;34m:\u001B[0m\u001B[0;34m\u001B[0m\u001B[0;34m\u001B[0m\u001B[0m\n",
      "\u001B[0;32m/usr/local/lib/python3.10/dist-packages/apache_beam/runners/portability/fn_api_runner/fn_runner.py\u001B[0m in \u001B[0;36mrun_stages\u001B[0;34m(self, stage_context, stages)\u001B[0m\n\u001B[1;32m    453\u001B[0m \u001B[0;34m\u001B[0m\u001B[0m\n\u001B[1;32m    454\u001B[0m           \u001B[0mbundle_counter\u001B[0m \u001B[0;34m+=\u001B[0m \u001B[0;36m1\u001B[0m\u001B[0;34m\u001B[0m\u001B[0;34m\u001B[0m\u001B[0m\n\u001B[0;32m--> 455\u001B[0;31m           bundle_results = self._execute_bundle(\n\u001B[0m\u001B[1;32m    456\u001B[0m               runner_execution_context, bundle_context_manager, bundle_input)\n\u001B[1;32m    457\u001B[0m \u001B[0;34m\u001B[0m\u001B[0m\n",
      "\u001B[0;32m/usr/local/lib/python3.10/dist-packages/apache_beam/runners/portability/fn_api_runner/fn_runner.py\u001B[0m in \u001B[0;36m_execute_bundle\u001B[0;34m(self, runner_execution_context, bundle_context_manager, bundle_input)\u001B[0m\n\u001B[1;32m    781\u001B[0m \u001B[0;34m\u001B[0m\u001B[0m\n\u001B[1;32m    782\u001B[0m     last_result, deferred_inputs, newly_set_timers, watermark_updates = (\n\u001B[0;32m--> 783\u001B[0;31m         self._run_bundle(\n\u001B[0m\u001B[1;32m    784\u001B[0m             \u001B[0mrunner_execution_context\u001B[0m\u001B[0;34m,\u001B[0m\u001B[0;34m\u001B[0m\u001B[0;34m\u001B[0m\u001B[0m\n\u001B[1;32m    785\u001B[0m             \u001B[0mbundle_context_manager\u001B[0m\u001B[0;34m,\u001B[0m\u001B[0;34m\u001B[0m\u001B[0;34m\u001B[0m\u001B[0m\n",
      "\u001B[0;32m/usr/local/lib/python3.10/dist-packages/apache_beam/runners/portability/fn_api_runner/fn_runner.py\u001B[0m in \u001B[0;36m_run_bundle\u001B[0;34m(self, runner_execution_context, bundle_context_manager, bundle_input, data_output, expected_timer_output, bundle_manager)\u001B[0m\n\u001B[1;32m   1010\u001B[0m         expected_timer_output)\n\u001B[1;32m   1011\u001B[0m \u001B[0;34m\u001B[0m\u001B[0m\n\u001B[0;32m-> 1012\u001B[0;31m     result, splits = bundle_manager.process_bundle(\n\u001B[0m\u001B[1;32m   1013\u001B[0m         data_input, data_output, input_timers, expected_timer_output)\n\u001B[1;32m   1014\u001B[0m     \u001B[0;31m# Now we collect all the deferred inputs remaining from bundle execution.\u001B[0m\u001B[0;34m\u001B[0m\u001B[0;34m\u001B[0m\u001B[0m\n",
      "\u001B[0;32m/usr/local/lib/python3.10/dist-packages/apache_beam/runners/portability/fn_api_runner/fn_runner.py\u001B[0m in \u001B[0;36mprocess_bundle\u001B[0;34m(self, inputs, expected_outputs, fired_timers, expected_output_timers, dry_run)\u001B[0m\n\u001B[1;32m   1346\u001B[0m             \u001B[0mprocess_bundle_descriptor\u001B[0m\u001B[0;34m.\u001B[0m\u001B[0mid\u001B[0m\u001B[0;34m,\u001B[0m\u001B[0;34m\u001B[0m\u001B[0;34m\u001B[0m\u001B[0m\n\u001B[1;32m   1347\u001B[0m             cache_tokens=[next(self._cache_token_generator)]))\n\u001B[0;32m-> 1348\u001B[0;31m     \u001B[0mresult_future\u001B[0m \u001B[0;34m=\u001B[0m \u001B[0mself\u001B[0m\u001B[0;34m.\u001B[0m\u001B[0m_worker_handler\u001B[0m\u001B[0;34m.\u001B[0m\u001B[0mcontrol_conn\u001B[0m\u001B[0;34m.\u001B[0m\u001B[0mpush\u001B[0m\u001B[0;34m(\u001B[0m\u001B[0mprocess_bundle_req\u001B[0m\u001B[0;34m)\u001B[0m\u001B[0;34m\u001B[0m\u001B[0;34m\u001B[0m\u001B[0m\n\u001B[0m\u001B[1;32m   1349\u001B[0m \u001B[0;34m\u001B[0m\u001B[0m\n\u001B[1;32m   1350\u001B[0m     \u001B[0msplit_results\u001B[0m \u001B[0;34m=\u001B[0m \u001B[0;34m[\u001B[0m\u001B[0;34m]\u001B[0m  \u001B[0;31m# type: List[beam_fn_api_pb2.ProcessBundleSplitResponse]\u001B[0m\u001B[0;34m\u001B[0m\u001B[0;34m\u001B[0m\u001B[0m\n",
      "\u001B[0;32m/usr/local/lib/python3.10/dist-packages/apache_beam/runners/portability/fn_api_runner/worker_handlers.py\u001B[0m in \u001B[0;36mpush\u001B[0;34m(self, request)\u001B[0m\n\u001B[1;32m    377\u001B[0m       \u001B[0mself\u001B[0m\u001B[0;34m.\u001B[0m\u001B[0m_uid_counter\u001B[0m \u001B[0;34m+=\u001B[0m \u001B[0;36m1\u001B[0m\u001B[0;34m\u001B[0m\u001B[0;34m\u001B[0m\u001B[0m\n\u001B[1;32m    378\u001B[0m       \u001B[0mrequest\u001B[0m\u001B[0;34m.\u001B[0m\u001B[0minstruction_id\u001B[0m \u001B[0;34m=\u001B[0m \u001B[0;34m'control_%s'\u001B[0m \u001B[0;34m%\u001B[0m \u001B[0mself\u001B[0m\u001B[0;34m.\u001B[0m\u001B[0m_uid_counter\u001B[0m\u001B[0;34m\u001B[0m\u001B[0;34m\u001B[0m\u001B[0m\n\u001B[0;32m--> 379\u001B[0;31m     \u001B[0mresponse\u001B[0m \u001B[0;34m=\u001B[0m \u001B[0mself\u001B[0m\u001B[0;34m.\u001B[0m\u001B[0mworker\u001B[0m\u001B[0;34m.\u001B[0m\u001B[0mdo_instruction\u001B[0m\u001B[0;34m(\u001B[0m\u001B[0mrequest\u001B[0m\u001B[0;34m)\u001B[0m\u001B[0;34m\u001B[0m\u001B[0;34m\u001B[0m\u001B[0m\n\u001B[0m\u001B[1;32m    380\u001B[0m     \u001B[0;32mreturn\u001B[0m \u001B[0mControlFuture\u001B[0m\u001B[0;34m(\u001B[0m\u001B[0mrequest\u001B[0m\u001B[0;34m.\u001B[0m\u001B[0minstruction_id\u001B[0m\u001B[0;34m,\u001B[0m \u001B[0mresponse\u001B[0m\u001B[0;34m)\u001B[0m\u001B[0;34m\u001B[0m\u001B[0;34m\u001B[0m\u001B[0m\n\u001B[1;32m    381\u001B[0m \u001B[0;34m\u001B[0m\u001B[0m\n",
      "\u001B[0;32m/usr/local/lib/python3.10/dist-packages/apache_beam/runners/worker/sdk_worker.py\u001B[0m in \u001B[0;36mdo_instruction\u001B[0;34m(self, request)\u001B[0m\n\u001B[1;32m    622\u001B[0m     \u001B[0;32mif\u001B[0m \u001B[0mrequest_type\u001B[0m\u001B[0;34m:\u001B[0m\u001B[0;34m\u001B[0m\u001B[0;34m\u001B[0m\u001B[0m\n\u001B[1;32m    623\u001B[0m       \u001B[0;31m# E.g. if register is set, this will call self.register(request.register))\u001B[0m\u001B[0;34m\u001B[0m\u001B[0;34m\u001B[0m\u001B[0m\n\u001B[0;32m--> 624\u001B[0;31m       return getattr(self, request_type)(\n\u001B[0m\u001B[1;32m    625\u001B[0m           getattr(request, request_type), request.instruction_id)\n\u001B[1;32m    626\u001B[0m     \u001B[0;32melse\u001B[0m\u001B[0;34m:\u001B[0m\u001B[0;34m\u001B[0m\u001B[0;34m\u001B[0m\u001B[0m\n",
      "\u001B[0;32m/usr/local/lib/python3.10/dist-packages/apache_beam/runners/worker/sdk_worker.py\u001B[0m in \u001B[0;36mprocess_bundle\u001B[0;34m(self, request, instruction_id)\u001B[0m\n\u001B[1;32m    660\u001B[0m         \u001B[0;32mwith\u001B[0m \u001B[0mself\u001B[0m\u001B[0;34m.\u001B[0m\u001B[0mmaybe_profile\u001B[0m\u001B[0;34m(\u001B[0m\u001B[0minstruction_id\u001B[0m\u001B[0;34m)\u001B[0m\u001B[0;34m:\u001B[0m\u001B[0;34m\u001B[0m\u001B[0;34m\u001B[0m\u001B[0m\n\u001B[1;32m    661\u001B[0m           delayed_applications, requests_finalization = (\n\u001B[0;32m--> 662\u001B[0;31m               bundle_processor.process_bundle(instruction_id))\n\u001B[0m\u001B[1;32m    663\u001B[0m           \u001B[0mmonitoring_infos\u001B[0m \u001B[0;34m=\u001B[0m \u001B[0mbundle_processor\u001B[0m\u001B[0;34m.\u001B[0m\u001B[0mmonitoring_infos\u001B[0m\u001B[0;34m(\u001B[0m\u001B[0;34m)\u001B[0m\u001B[0;34m\u001B[0m\u001B[0;34m\u001B[0m\u001B[0m\n\u001B[1;32m    664\u001B[0m           response = beam_fn_api_pb2.InstructionResponse(\n",
      "\u001B[0;32m/usr/local/lib/python3.10/dist-packages/apache_beam/runners/worker/bundle_processor.py\u001B[0m in \u001B[0;36mprocess_bundle\u001B[0;34m(self, instruction_id)\u001B[0m\n\u001B[1;32m   1060\u001B[0m                   element.timer_family_id, timer_data)\n\u001B[1;32m   1061\u001B[0m           \u001B[0;32melif\u001B[0m \u001B[0misinstance\u001B[0m\u001B[0;34m(\u001B[0m\u001B[0melement\u001B[0m\u001B[0;34m,\u001B[0m \u001B[0mbeam_fn_api_pb2\u001B[0m\u001B[0;34m.\u001B[0m\u001B[0mElements\u001B[0m\u001B[0;34m.\u001B[0m\u001B[0mData\u001B[0m\u001B[0;34m)\u001B[0m\u001B[0;34m:\u001B[0m\u001B[0;34m\u001B[0m\u001B[0;34m\u001B[0m\u001B[0m\n\u001B[0;32m-> 1062\u001B[0;31m             input_op_by_transform_id[element.transform_id].process_encoded(\n\u001B[0m\u001B[1;32m   1063\u001B[0m                 element.data)\n\u001B[1;32m   1064\u001B[0m \u001B[0;34m\u001B[0m\u001B[0m\n",
      "\u001B[0;32m/usr/local/lib/python3.10/dist-packages/apache_beam/runners/worker/bundle_processor.py\u001B[0m in \u001B[0;36mprocess_encoded\u001B[0;34m(self, encoded_windowed_values)\u001B[0m\n\u001B[1;32m    230\u001B[0m       decoded_value = self.windowed_coder_impl.decode_from_stream(\n\u001B[1;32m    231\u001B[0m           input_stream, True)\n\u001B[0;32m--> 232\u001B[0;31m       \u001B[0mself\u001B[0m\u001B[0;34m.\u001B[0m\u001B[0moutput\u001B[0m\u001B[0;34m(\u001B[0m\u001B[0mdecoded_value\u001B[0m\u001B[0;34m)\u001B[0m\u001B[0;34m\u001B[0m\u001B[0;34m\u001B[0m\u001B[0m\n\u001B[0m\u001B[1;32m    233\u001B[0m \u001B[0;34m\u001B[0m\u001B[0m\n\u001B[1;32m    234\u001B[0m   \u001B[0;32mdef\u001B[0m \u001B[0mmonitoring_infos\u001B[0m\u001B[0;34m(\u001B[0m\u001B[0mself\u001B[0m\u001B[0;34m,\u001B[0m \u001B[0mtransform_id\u001B[0m\u001B[0;34m,\u001B[0m \u001B[0mtag_to_pcollection_id\u001B[0m\u001B[0;34m)\u001B[0m\u001B[0;34m:\u001B[0m\u001B[0;34m\u001B[0m\u001B[0;34m\u001B[0m\u001B[0m\n",
      "\u001B[0;32m/usr/local/lib/python3.10/dist-packages/apache_beam/runners/worker/operations.cpython-310-x86_64-linux-gnu.so\u001B[0m in \u001B[0;36mapache_beam.runners.worker.operations.Operation.output\u001B[0;34m()\u001B[0m\n",
      "\u001B[0;32m/usr/local/lib/python3.10/dist-packages/apache_beam/runners/worker/operations.cpython-310-x86_64-linux-gnu.so\u001B[0m in \u001B[0;36mapache_beam.runners.worker.operations.Operation.output\u001B[0;34m()\u001B[0m\n",
      "\u001B[0;32m/usr/local/lib/python3.10/dist-packages/apache_beam/runners/worker/operations.cpython-310-x86_64-linux-gnu.so\u001B[0m in \u001B[0;36mapache_beam.runners.worker.operations.SingletonElementConsumerSet.receive\u001B[0;34m()\u001B[0m\n",
      "\u001B[0;32m/usr/local/lib/python3.10/dist-packages/apache_beam/runners/worker/operations.cpython-310-x86_64-linux-gnu.so\u001B[0m in \u001B[0;36mapache_beam.runners.worker.operations.SingletonElementConsumerSet.receive\u001B[0;34m()\u001B[0m\n",
      "\u001B[0;32m/usr/local/lib/python3.10/dist-packages/apache_beam/runners/worker/operations.cpython-310-x86_64-linux-gnu.so\u001B[0m in \u001B[0;36mapache_beam.runners.worker.operations.DoOperation.process\u001B[0;34m()\u001B[0m\n",
      "\u001B[0;32m/usr/local/lib/python3.10/dist-packages/apache_beam/runners/worker/operations.cpython-310-x86_64-linux-gnu.so\u001B[0m in \u001B[0;36mapache_beam.runners.worker.operations.DoOperation.process\u001B[0;34m()\u001B[0m\n",
      "\u001B[0;32m/usr/local/lib/python3.10/dist-packages/apache_beam/runners/common.cpython-310-x86_64-linux-gnu.so\u001B[0m in \u001B[0;36mapache_beam.runners.common.DoFnRunner.process\u001B[0;34m()\u001B[0m\n",
      "\u001B[0;32m/usr/local/lib/python3.10/dist-packages/apache_beam/runners/common.cpython-310-x86_64-linux-gnu.so\u001B[0m in \u001B[0;36mapache_beam.runners.common.DoFnRunner._reraise_augmented\u001B[0;34m()\u001B[0m\n",
      "\u001B[0;32m/usr/local/lib/python3.10/dist-packages/apache_beam/runners/common.cpython-310-x86_64-linux-gnu.so\u001B[0m in \u001B[0;36mapache_beam.runners.common.DoFnRunner.process\u001B[0;34m()\u001B[0m\n",
      "\u001B[0;32m/usr/local/lib/python3.10/dist-packages/apache_beam/runners/common.cpython-310-x86_64-linux-gnu.so\u001B[0m in \u001B[0;36mapache_beam.runners.common.SimpleInvoker.invoke_process\u001B[0;34m()\u001B[0m\n",
      "\u001B[0;32m/usr/local/lib/python3.10/dist-packages/apache_beam/runners/common.cpython-310-x86_64-linux-gnu.so\u001B[0m in \u001B[0;36mapache_beam.runners.common._OutputHandler.handle_process_outputs\u001B[0;34m()\u001B[0m\n",
      "\u001B[0;32m/usr/local/lib/python3.10/dist-packages/apache_beam/runners/common.cpython-310-x86_64-linux-gnu.so\u001B[0m in \u001B[0;36mapache_beam.runners.common._OutputHandler._write_value_to_tag\u001B[0;34m()\u001B[0m\n",
      "\u001B[0;32m/usr/local/lib/python3.10/dist-packages/apache_beam/runners/worker/operations.cpython-310-x86_64-linux-gnu.so\u001B[0m in \u001B[0;36mapache_beam.runners.worker.operations.SingletonElementConsumerSet.receive\u001B[0;34m()\u001B[0m\n",
      "\u001B[0;32m/usr/local/lib/python3.10/dist-packages/apache_beam/runners/worker/operations.cpython-310-x86_64-linux-gnu.so\u001B[0m in \u001B[0;36mapache_beam.runners.worker.operations.DoOperation.process\u001B[0;34m()\u001B[0m\n",
      "\u001B[0;32m/usr/local/lib/python3.10/dist-packages/apache_beam/runners/worker/operations.cpython-310-x86_64-linux-gnu.so\u001B[0m in \u001B[0;36mapache_beam.runners.worker.operations.DoOperation.process\u001B[0;34m()\u001B[0m\n",
      "\u001B[0;32m/usr/local/lib/python3.10/dist-packages/apache_beam/runners/common.cpython-310-x86_64-linux-gnu.so\u001B[0m in \u001B[0;36mapache_beam.runners.common.DoFnRunner.process\u001B[0;34m()\u001B[0m\n",
      "\u001B[0;32m/usr/local/lib/python3.10/dist-packages/apache_beam/runners/common.cpython-310-x86_64-linux-gnu.so\u001B[0m in \u001B[0;36mapache_beam.runners.common.DoFnRunner._reraise_augmented\u001B[0;34m()\u001B[0m\n",
      "\u001B[0;32m/usr/local/lib/python3.10/dist-packages/apache_beam/runners/common.cpython-310-x86_64-linux-gnu.so\u001B[0m in \u001B[0;36mapache_beam.runners.common.DoFnRunner.process\u001B[0;34m()\u001B[0m\n",
      "\u001B[0;32m/usr/local/lib/python3.10/dist-packages/apache_beam/runners/common.cpython-310-x86_64-linux-gnu.so\u001B[0m in \u001B[0;36mapache_beam.runners.common.SimpleInvoker.invoke_process\u001B[0;34m()\u001B[0m\n",
      "\u001B[0;32m/usr/local/lib/python3.10/dist-packages/apache_beam/runners/common.cpython-310-x86_64-linux-gnu.so\u001B[0m in \u001B[0;36mapache_beam.runners.common._OutputHandler.handle_process_outputs\u001B[0;34m()\u001B[0m\n",
      "\u001B[0;32m/usr/local/lib/python3.10/dist-packages/apache_beam/runners/common.cpython-310-x86_64-linux-gnu.so\u001B[0m in \u001B[0;36mapache_beam.runners.common._OutputHandler._write_value_to_tag\u001B[0;34m()\u001B[0m\n",
      "\u001B[0;32m/usr/local/lib/python3.10/dist-packages/apache_beam/runners/worker/operations.cpython-310-x86_64-linux-gnu.so\u001B[0m in \u001B[0;36mapache_beam.runners.worker.operations.SingletonElementConsumerSet.receive\u001B[0;34m()\u001B[0m\n",
      "\u001B[0;32m/usr/local/lib/python3.10/dist-packages/apache_beam/runners/worker/operations.cpython-310-x86_64-linux-gnu.so\u001B[0m in \u001B[0;36mapache_beam.runners.worker.operations.DoOperation.process\u001B[0;34m()\u001B[0m\n",
      "\u001B[0;32m/usr/local/lib/python3.10/dist-packages/apache_beam/runners/worker/operations.cpython-310-x86_64-linux-gnu.so\u001B[0m in \u001B[0;36mapache_beam.runners.worker.operations.DoOperation.process\u001B[0;34m()\u001B[0m\n",
      "\u001B[0;32m/usr/local/lib/python3.10/dist-packages/apache_beam/runners/common.cpython-310-x86_64-linux-gnu.so\u001B[0m in \u001B[0;36mapache_beam.runners.common.DoFnRunner.process\u001B[0;34m()\u001B[0m\n",
      "\u001B[0;32m/usr/local/lib/python3.10/dist-packages/apache_beam/runners/common.cpython-310-x86_64-linux-gnu.so\u001B[0m in \u001B[0;36mapache_beam.runners.common.DoFnRunner._reraise_augmented\u001B[0;34m()\u001B[0m\n",
      "\u001B[0;32m/usr/local/lib/python3.10/dist-packages/apache_beam/runners/common.cpython-310-x86_64-linux-gnu.so\u001B[0m in \u001B[0;36mapache_beam.runners.common.DoFnRunner.process\u001B[0;34m()\u001B[0m\n",
      "\u001B[0;32m/usr/local/lib/python3.10/dist-packages/apache_beam/runners/common.cpython-310-x86_64-linux-gnu.so\u001B[0m in \u001B[0;36mapache_beam.runners.common.SimpleInvoker.invoke_process\u001B[0;34m()\u001B[0m\n",
      "\u001B[0;32m/usr/local/lib/python3.10/dist-packages/apache_beam/runners/common.cpython-310-x86_64-linux-gnu.so\u001B[0m in \u001B[0;36mapache_beam.runners.common._OutputHandler.handle_process_outputs\u001B[0;34m()\u001B[0m\n",
      "\u001B[0;32m/usr/local/lib/python3.10/dist-packages/apache_beam/runners/worker/bundle_processor.py\u001B[0m in \u001B[0;36mprocess\u001B[0;34m(self, element_restriction, *args, **kwargs)\u001B[0m\n\u001B[1;32m   1516\u001B[0m           element, restriction):\n\u001B[1;32m   1517\u001B[0m         \u001B[0;32mif\u001B[0m \u001B[0msize\u001B[0m \u001B[0;34m<\u001B[0m \u001B[0;36m0\u001B[0m\u001B[0;34m:\u001B[0m\u001B[0;34m\u001B[0m\u001B[0;34m\u001B[0m\u001B[0m\n\u001B[0;32m-> 1518\u001B[0;31m           \u001B[0;32mraise\u001B[0m \u001B[0mValueError\u001B[0m\u001B[0;34m(\u001B[0m\u001B[0;34m'Expected size >= 0 but received %s.'\u001B[0m \u001B[0;34m%\u001B[0m \u001B[0msize\u001B[0m\u001B[0;34m)\u001B[0m\u001B[0;34m\u001B[0m\u001B[0;34m\u001B[0m\u001B[0m\n\u001B[0m\u001B[1;32m   1519\u001B[0m         estimator_state = (\n\u001B[1;32m   1520\u001B[0m             self.watermark_estimator_provider.initial_estimator_state(\n",
      "\u001B[0;32m/usr/local/lib/python3.10/dist-packages/apache_beam/transforms/core.py\u001B[0m in \u001B[0;36msplit_and_size\u001B[0;34m(self, element, restriction)\u001B[0m\n\u001B[1;32m    333\u001B[0m     \u001B[0mimplemented\u001B[0m\u001B[0;34m.\u001B[0m\u001B[0;34m\u001B[0m\u001B[0;34m\u001B[0m\u001B[0m\n\u001B[1;32m    334\u001B[0m     \"\"\"\n\u001B[0;32m--> 335\u001B[0;31m     \u001B[0;32mfor\u001B[0m \u001B[0mpart\u001B[0m \u001B[0;32min\u001B[0m \u001B[0mself\u001B[0m\u001B[0;34m.\u001B[0m\u001B[0msplit\u001B[0m\u001B[0;34m(\u001B[0m\u001B[0melement\u001B[0m\u001B[0;34m,\u001B[0m \u001B[0mrestriction\u001B[0m\u001B[0;34m)\u001B[0m\u001B[0;34m:\u001B[0m\u001B[0;34m\u001B[0m\u001B[0;34m\u001B[0m\u001B[0m\n\u001B[0m\u001B[1;32m    336\u001B[0m       \u001B[0;32myield\u001B[0m \u001B[0mpart\u001B[0m\u001B[0;34m,\u001B[0m \u001B[0mself\u001B[0m\u001B[0;34m.\u001B[0m\u001B[0mrestriction_size\u001B[0m\u001B[0;34m(\u001B[0m\u001B[0melement\u001B[0m\u001B[0;34m,\u001B[0m \u001B[0mpart\u001B[0m\u001B[0;34m)\u001B[0m\u001B[0;34m\u001B[0m\u001B[0;34m\u001B[0m\u001B[0m\n\u001B[1;32m    337\u001B[0m \u001B[0;34m\u001B[0m\u001B[0m\n",
      "\u001B[0;32m/usr/local/lib/python3.10/dist-packages/apache_beam/io/iobase.py\u001B[0m in \u001B[0;36msplit\u001B[0;34m(self, element, restriction)\u001B[0m\n\u001B[1;32m   1639\u001B[0m     \u001B[0;32mif\u001B[0m \u001B[0mself\u001B[0m\u001B[0;34m.\u001B[0m\u001B[0m_desired_chunk_size\u001B[0m \u001B[0;32mis\u001B[0m \u001B[0;32mNone\u001B[0m\u001B[0;34m:\u001B[0m\u001B[0;34m\u001B[0m\u001B[0;34m\u001B[0m\u001B[0m\n\u001B[1;32m   1640\u001B[0m       \u001B[0;32mtry\u001B[0m\u001B[0;34m:\u001B[0m\u001B[0;34m\u001B[0m\u001B[0;34m\u001B[0m\u001B[0m\n\u001B[0;32m-> 1641\u001B[0;31m         \u001B[0mestimated_size\u001B[0m \u001B[0;34m=\u001B[0m \u001B[0mrestriction\u001B[0m\u001B[0;34m.\u001B[0m\u001B[0msource\u001B[0m\u001B[0;34m(\u001B[0m\u001B[0;34m)\u001B[0m\u001B[0;34m.\u001B[0m\u001B[0mestimate_size\u001B[0m\u001B[0;34m(\u001B[0m\u001B[0;34m)\u001B[0m\u001B[0;34m\u001B[0m\u001B[0;34m\u001B[0m\u001B[0m\n\u001B[0m\u001B[1;32m   1642\u001B[0m       \u001B[0;32mexcept\u001B[0m \u001B[0mNotImplementedError\u001B[0m\u001B[0;34m:\u001B[0m\u001B[0;34m\u001B[0m\u001B[0;34m\u001B[0m\u001B[0m\n\u001B[1;32m   1643\u001B[0m         \u001B[0mestimated_size\u001B[0m \u001B[0;34m=\u001B[0m \u001B[0;32mNone\u001B[0m\u001B[0;34m\u001B[0m\u001B[0;34m\u001B[0m\u001B[0m\n",
      "\u001B[0;32m/usr/local/lib/python3.10/dist-packages/apache_beam/io/gcp/bigquery.py\u001B[0m in \u001B[0;36mestimate_size\u001B[0;34m(self)\u001B[0m\n\u001B[1;32m    719\u001B[0m           \u001B[0mbigquery_tools\u001B[0m\u001B[0;34m.\u001B[0m\u001B[0mBigQueryJobTypes\u001B[0m\u001B[0;34m.\u001B[0m\u001B[0mQUERY\u001B[0m\u001B[0;34m,\u001B[0m\u001B[0;34m\u001B[0m\u001B[0;34m\u001B[0m\u001B[0m\n\u001B[1;32m    720\u001B[0m           '%s_%s' % (int(time.time()), random.randint(0, 1000)))\n\u001B[0;32m--> 721\u001B[0;31m       job = bq._start_query_job(\n\u001B[0m\u001B[1;32m    722\u001B[0m           \u001B[0mproject\u001B[0m\u001B[0;34m,\u001B[0m\u001B[0;34m\u001B[0m\u001B[0;34m\u001B[0m\u001B[0m\n\u001B[1;32m    723\u001B[0m           \u001B[0mself\u001B[0m\u001B[0;34m.\u001B[0m\u001B[0mquery\u001B[0m\u001B[0;34m.\u001B[0m\u001B[0mget\u001B[0m\u001B[0;34m(\u001B[0m\u001B[0;34m)\u001B[0m\u001B[0;34m,\u001B[0m\u001B[0;34m\u001B[0m\u001B[0;34m\u001B[0m\u001B[0m\n",
      "\u001B[0;32m/usr/local/lib/python3.10/dist-packages/apache_beam/utils/retry.py\u001B[0m in \u001B[0;36mwrapper\u001B[0;34m(*args, **kwargs)\u001B[0m\n\u001B[1;32m    286\u001B[0m             \u001B[0;32mexcept\u001B[0m \u001B[0mStopIteration\u001B[0m\u001B[0;34m:\u001B[0m\u001B[0;34m\u001B[0m\u001B[0;34m\u001B[0m\u001B[0m\n\u001B[1;32m    287\u001B[0m               \u001B[0;31m# Re-raise the original exception since we finished the retries.\u001B[0m\u001B[0;34m\u001B[0m\u001B[0;34m\u001B[0m\u001B[0m\n\u001B[0;32m--> 288\u001B[0;31m               \u001B[0;32mraise\u001B[0m \u001B[0mexn\u001B[0m\u001B[0;34m.\u001B[0m\u001B[0mwith_traceback\u001B[0m\u001B[0;34m(\u001B[0m\u001B[0mexn_traceback\u001B[0m\u001B[0;34m)\u001B[0m\u001B[0;34m\u001B[0m\u001B[0;34m\u001B[0m\u001B[0m\n\u001B[0m\u001B[1;32m    289\u001B[0m \u001B[0;34m\u001B[0m\u001B[0m\n\u001B[1;32m    290\u001B[0m             logger(\n",
      "\u001B[0;32m/usr/local/lib/python3.10/dist-packages/apache_beam/utils/retry.py\u001B[0m in \u001B[0;36mwrapper\u001B[0;34m(*args, **kwargs)\u001B[0m\n\u001B[1;32m    273\u001B[0m       \u001B[0;32mwhile\u001B[0m \u001B[0;32mTrue\u001B[0m\u001B[0;34m:\u001B[0m\u001B[0;34m\u001B[0m\u001B[0;34m\u001B[0m\u001B[0m\n\u001B[1;32m    274\u001B[0m         \u001B[0;32mtry\u001B[0m\u001B[0;34m:\u001B[0m\u001B[0;34m\u001B[0m\u001B[0;34m\u001B[0m\u001B[0m\n\u001B[0;32m--> 275\u001B[0;31m           \u001B[0;32mreturn\u001B[0m \u001B[0mfun\u001B[0m\u001B[0;34m(\u001B[0m\u001B[0;34m*\u001B[0m\u001B[0margs\u001B[0m\u001B[0;34m,\u001B[0m \u001B[0;34m**\u001B[0m\u001B[0mkwargs\u001B[0m\u001B[0;34m)\u001B[0m\u001B[0;34m\u001B[0m\u001B[0;34m\u001B[0m\u001B[0m\n\u001B[0m\u001B[1;32m    276\u001B[0m         \u001B[0;32mexcept\u001B[0m \u001B[0mException\u001B[0m \u001B[0;32mas\u001B[0m \u001B[0mexn\u001B[0m\u001B[0;34m:\u001B[0m  \u001B[0;31m# pylint: disable=broad-except\u001B[0m\u001B[0;34m\u001B[0m\u001B[0;34m\u001B[0m\u001B[0m\n\u001B[1;32m    277\u001B[0m           \u001B[0;32mif\u001B[0m \u001B[0;32mnot\u001B[0m \u001B[0mretry_filter\u001B[0m\u001B[0;34m(\u001B[0m\u001B[0mexn\u001B[0m\u001B[0;34m)\u001B[0m\u001B[0;34m:\u001B[0m\u001B[0;34m\u001B[0m\u001B[0;34m\u001B[0m\u001B[0m\n",
      "\u001B[0;32m/usr/local/lib/python3.10/dist-packages/apache_beam/io/gcp/bigquery_tools.py\u001B[0m in \u001B[0;36m_start_query_job\u001B[0;34m(self, project_id, query, use_legacy_sql, flatten_results, job_id, priority, dry_run, kms_key, job_labels)\u001B[0m\n\u001B[1;32m    613\u001B[0m             jobReference=reference))\n\u001B[1;32m    614\u001B[0m \u001B[0;34m\u001B[0m\u001B[0m\n\u001B[0;32m--> 615\u001B[0;31m     \u001B[0;32mreturn\u001B[0m \u001B[0mself\u001B[0m\u001B[0;34m.\u001B[0m\u001B[0m_start_job\u001B[0m\u001B[0;34m(\u001B[0m\u001B[0mrequest\u001B[0m\u001B[0;34m)\u001B[0m\u001B[0;34m\u001B[0m\u001B[0;34m\u001B[0m\u001B[0m\n\u001B[0m\u001B[1;32m    616\u001B[0m \u001B[0;34m\u001B[0m\u001B[0m\n\u001B[1;32m    617\u001B[0m   \u001B[0;32mdef\u001B[0m \u001B[0mwait_for_bq_job\u001B[0m\u001B[0;34m(\u001B[0m\u001B[0mself\u001B[0m\u001B[0;34m,\u001B[0m \u001B[0mjob_reference\u001B[0m\u001B[0;34m,\u001B[0m \u001B[0msleep_duration_sec\u001B[0m\u001B[0;34m=\u001B[0m\u001B[0;36m5\u001B[0m\u001B[0;34m,\u001B[0m \u001B[0mmax_retries\u001B[0m\u001B[0;34m=\u001B[0m\u001B[0;36m0\u001B[0m\u001B[0;34m)\u001B[0m\u001B[0;34m:\u001B[0m\u001B[0;34m\u001B[0m\u001B[0;34m\u001B[0m\u001B[0m\n",
      "\u001B[0;32m/usr/local/lib/python3.10/dist-packages/apache_beam/io/gcp/bigquery_tools.py\u001B[0m in \u001B[0;36m_start_job\u001B[0;34m(self, request, stream)\u001B[0m\n\u001B[1;32m    559\u001B[0m       \u001B[0;32mif\u001B[0m \u001B[0mstream\u001B[0m\u001B[0;34m:\u001B[0m\u001B[0;34m\u001B[0m\u001B[0;34m\u001B[0m\u001B[0m\n\u001B[1;32m    560\u001B[0m         \u001B[0mupload\u001B[0m \u001B[0;34m=\u001B[0m \u001B[0mUpload\u001B[0m\u001B[0;34m.\u001B[0m\u001B[0mFromStream\u001B[0m\u001B[0;34m(\u001B[0m\u001B[0mstream\u001B[0m\u001B[0;34m,\u001B[0m \u001B[0mmime_type\u001B[0m\u001B[0;34m=\u001B[0m\u001B[0mUNKNOWN_MIME_TYPE\u001B[0m\u001B[0;34m)\u001B[0m\u001B[0;34m\u001B[0m\u001B[0;34m\u001B[0m\u001B[0m\n\u001B[0;32m--> 561\u001B[0;31m       \u001B[0mresponse\u001B[0m \u001B[0;34m=\u001B[0m \u001B[0mself\u001B[0m\u001B[0;34m.\u001B[0m\u001B[0mclient\u001B[0m\u001B[0;34m.\u001B[0m\u001B[0mjobs\u001B[0m\u001B[0;34m.\u001B[0m\u001B[0mInsert\u001B[0m\u001B[0;34m(\u001B[0m\u001B[0mrequest\u001B[0m\u001B[0;34m,\u001B[0m \u001B[0mupload\u001B[0m\u001B[0;34m=\u001B[0m\u001B[0mupload\u001B[0m\u001B[0;34m)\u001B[0m\u001B[0;34m\u001B[0m\u001B[0;34m\u001B[0m\u001B[0m\n\u001B[0m\u001B[1;32m    562\u001B[0m       _LOGGER.info(\n\u001B[1;32m    563\u001B[0m           \u001B[0;34m\"Started BigQuery job: %s\\n \"\u001B[0m\u001B[0;34m\u001B[0m\u001B[0;34m\u001B[0m\u001B[0m\n",
      "\u001B[0;32m/usr/local/lib/python3.10/dist-packages/apache_beam/io/gcp/internal/clients/bigquery/bigquery_v2_client.py\u001B[0m in \u001B[0;36mInsert\u001B[0;34m(self, request, global_params, upload)\u001B[0m\n\u001B[1;32m    341\u001B[0m       \u001B[0mconfig\u001B[0m \u001B[0;34m=\u001B[0m \u001B[0mself\u001B[0m\u001B[0;34m.\u001B[0m\u001B[0mGetMethodConfig\u001B[0m\u001B[0;34m(\u001B[0m\u001B[0;34m'Insert'\u001B[0m\u001B[0;34m)\u001B[0m\u001B[0;34m\u001B[0m\u001B[0;34m\u001B[0m\u001B[0m\n\u001B[1;32m    342\u001B[0m       \u001B[0mupload_config\u001B[0m \u001B[0;34m=\u001B[0m \u001B[0mself\u001B[0m\u001B[0;34m.\u001B[0m\u001B[0mGetUploadConfig\u001B[0m\u001B[0;34m(\u001B[0m\u001B[0;34m'Insert'\u001B[0m\u001B[0;34m)\u001B[0m\u001B[0;34m\u001B[0m\u001B[0;34m\u001B[0m\u001B[0m\n\u001B[0;32m--> 343\u001B[0;31m       return self._RunMethod(\n\u001B[0m\u001B[1;32m    344\u001B[0m           \u001B[0mconfig\u001B[0m\u001B[0;34m,\u001B[0m \u001B[0mrequest\u001B[0m\u001B[0;34m,\u001B[0m \u001B[0mglobal_params\u001B[0m\u001B[0;34m=\u001B[0m\u001B[0mglobal_params\u001B[0m\u001B[0;34m,\u001B[0m\u001B[0;34m\u001B[0m\u001B[0;34m\u001B[0m\u001B[0m\n\u001B[1;32m    345\u001B[0m           upload=upload, upload_config=upload_config)\n",
      "\u001B[0;32m/usr/local/lib/python3.10/dist-packages/apitools/base/py/base_api.py\u001B[0m in \u001B[0;36m_RunMethod\u001B[0;34m(self, method_config, request, global_params, upload, upload_config, download)\u001B[0m\n\u001B[1;32m    726\u001B[0m             \u001B[0;32mif\u001B[0m \u001B[0mself\u001B[0m\u001B[0;34m.\u001B[0m\u001B[0m__client\u001B[0m\u001B[0;34m.\u001B[0m\u001B[0mretry_func\u001B[0m\u001B[0;34m:\u001B[0m\u001B[0;34m\u001B[0m\u001B[0;34m\u001B[0m\u001B[0m\n\u001B[1;32m    727\u001B[0m                 \u001B[0mopts\u001B[0m\u001B[0;34m[\u001B[0m\u001B[0;34m'retry_func'\u001B[0m\u001B[0;34m]\u001B[0m \u001B[0;34m=\u001B[0m \u001B[0mself\u001B[0m\u001B[0;34m.\u001B[0m\u001B[0m__client\u001B[0m\u001B[0;34m.\u001B[0m\u001B[0mretry_func\u001B[0m\u001B[0;34m\u001B[0m\u001B[0;34m\u001B[0m\u001B[0m\n\u001B[0;32m--> 728\u001B[0;31m             http_response = http_wrapper.MakeRequest(\n\u001B[0m\u001B[1;32m    729\u001B[0m                 http, http_request, **opts)\n\u001B[1;32m    730\u001B[0m \u001B[0;34m\u001B[0m\u001B[0m\n",
      "\u001B[0;32m/usr/local/lib/python3.10/dist-packages/apitools/base/py/http_wrapper.py\u001B[0m in \u001B[0;36mMakeRequest\u001B[0;34m(http, http_request, retries, max_retry_wait, redirections, retry_func, check_response_func)\u001B[0m\n\u001B[1;32m    357\u001B[0m             \u001B[0;32melse\u001B[0m\u001B[0;34m:\u001B[0m\u001B[0;34m\u001B[0m\u001B[0;34m\u001B[0m\u001B[0m\n\u001B[1;32m    358\u001B[0m                 \u001B[0mtotal_wait_sec\u001B[0m \u001B[0;34m=\u001B[0m \u001B[0mtime\u001B[0m\u001B[0;34m.\u001B[0m\u001B[0mtime\u001B[0m\u001B[0;34m(\u001B[0m\u001B[0;34m)\u001B[0m \u001B[0;34m-\u001B[0m \u001B[0mfirst_req_time\u001B[0m\u001B[0;34m\u001B[0m\u001B[0;34m\u001B[0m\u001B[0m\n\u001B[0;32m--> 359\u001B[0;31m                 retry_func(ExceptionRetryArgs(http, http_request, e, retry,\n\u001B[0m\u001B[1;32m    360\u001B[0m                                               max_retry_wait, total_wait_sec))\n\u001B[1;32m    361\u001B[0m \u001B[0;34m\u001B[0m\u001B[0m\n",
      "\u001B[0;32m/usr/local/lib/python3.10/dist-packages/apitools/base/py/http_wrapper.py\u001B[0m in \u001B[0;36mHandleExceptionsAndRebuildHttpConnections\u001B[0;34m(retry_args)\u001B[0m\n\u001B[1;32m    302\u001B[0m         \u001B[0mretry_after\u001B[0m \u001B[0;34m=\u001B[0m \u001B[0mretry_args\u001B[0m\u001B[0;34m.\u001B[0m\u001B[0mexc\u001B[0m\u001B[0;34m.\u001B[0m\u001B[0mretry_after\u001B[0m\u001B[0;34m\u001B[0m\u001B[0;34m\u001B[0m\u001B[0m\n\u001B[1;32m    303\u001B[0m     \u001B[0;32melse\u001B[0m\u001B[0;34m:\u001B[0m\u001B[0;34m\u001B[0m\u001B[0;34m\u001B[0m\u001B[0m\n\u001B[0;32m--> 304\u001B[0;31m         \u001B[0;32mraise\u001B[0m \u001B[0mretry_args\u001B[0m\u001B[0;34m.\u001B[0m\u001B[0mexc\u001B[0m\u001B[0;34m\u001B[0m\u001B[0;34m\u001B[0m\u001B[0m\n\u001B[0m\u001B[1;32m    305\u001B[0m     \u001B[0mRebuildHttpConnections\u001B[0m\u001B[0;34m(\u001B[0m\u001B[0mretry_args\u001B[0m\u001B[0;34m.\u001B[0m\u001B[0mhttp\u001B[0m\u001B[0;34m)\u001B[0m\u001B[0;34m\u001B[0m\u001B[0;34m\u001B[0m\u001B[0m\n\u001B[1;32m    306\u001B[0m     logging.debug('Retrying request to url %s after exception %s',\n",
      "\u001B[0;32m/usr/local/lib/python3.10/dist-packages/apitools/base/py/http_wrapper.py\u001B[0m in \u001B[0;36mMakeRequest\u001B[0;34m(http, http_request, retries, max_retry_wait, redirections, retry_func, check_response_func)\u001B[0m\n\u001B[1;32m    346\u001B[0m     \u001B[0;32mwhile\u001B[0m \u001B[0;32mTrue\u001B[0m\u001B[0;34m:\u001B[0m\u001B[0;34m\u001B[0m\u001B[0;34m\u001B[0m\u001B[0m\n\u001B[1;32m    347\u001B[0m         \u001B[0;32mtry\u001B[0m\u001B[0;34m:\u001B[0m\u001B[0;34m\u001B[0m\u001B[0;34m\u001B[0m\u001B[0m\n\u001B[0;32m--> 348\u001B[0;31m             return _MakeRequestNoRetry(\n\u001B[0m\u001B[1;32m    349\u001B[0m                 \u001B[0mhttp\u001B[0m\u001B[0;34m,\u001B[0m \u001B[0mhttp_request\u001B[0m\u001B[0;34m,\u001B[0m \u001B[0mredirections\u001B[0m\u001B[0;34m=\u001B[0m\u001B[0mredirections\u001B[0m\u001B[0;34m,\u001B[0m\u001B[0;34m\u001B[0m\u001B[0;34m\u001B[0m\u001B[0m\n\u001B[1;32m    350\u001B[0m                 check_response_func=check_response_func)\n",
      "\u001B[0;32m/usr/local/lib/python3.10/dist-packages/apitools/base/py/http_wrapper.py\u001B[0m in \u001B[0;36m_MakeRequestNoRetry\u001B[0;34m(http, http_request, redirections, check_response_func)\u001B[0m\n\u001B[1;32m    395\u001B[0m     \u001B[0mnew_debuglevel\u001B[0m \u001B[0;34m=\u001B[0m \u001B[0;36m4\u001B[0m \u001B[0;32mif\u001B[0m \u001B[0mhttplib2\u001B[0m\u001B[0;34m.\u001B[0m\u001B[0mdebuglevel\u001B[0m \u001B[0;34m==\u001B[0m \u001B[0;36m4\u001B[0m \u001B[0;32melse\u001B[0m \u001B[0;36m0\u001B[0m\u001B[0;34m\u001B[0m\u001B[0;34m\u001B[0m\u001B[0m\n\u001B[1;32m    396\u001B[0m     \u001B[0;32mwith\u001B[0m \u001B[0m_Httplib2Debuglevel\u001B[0m\u001B[0;34m(\u001B[0m\u001B[0mhttp_request\u001B[0m\u001B[0;34m,\u001B[0m \u001B[0mnew_debuglevel\u001B[0m\u001B[0;34m,\u001B[0m \u001B[0mhttp\u001B[0m\u001B[0;34m=\u001B[0m\u001B[0mhttp\u001B[0m\u001B[0;34m)\u001B[0m\u001B[0;34m:\u001B[0m\u001B[0;34m\u001B[0m\u001B[0;34m\u001B[0m\u001B[0m\n\u001B[0;32m--> 397\u001B[0;31m         info, content = http.request(\n\u001B[0m\u001B[1;32m    398\u001B[0m             \u001B[0mstr\u001B[0m\u001B[0;34m(\u001B[0m\u001B[0mhttp_request\u001B[0m\u001B[0;34m.\u001B[0m\u001B[0murl\u001B[0m\u001B[0;34m)\u001B[0m\u001B[0;34m,\u001B[0m \u001B[0mmethod\u001B[0m\u001B[0;34m=\u001B[0m\u001B[0mstr\u001B[0m\u001B[0;34m(\u001B[0m\u001B[0mhttp_request\u001B[0m\u001B[0;34m.\u001B[0m\u001B[0mhttp_method\u001B[0m\u001B[0;34m)\u001B[0m\u001B[0;34m,\u001B[0m\u001B[0;34m\u001B[0m\u001B[0;34m\u001B[0m\u001B[0m\n\u001B[1;32m    399\u001B[0m             \u001B[0mbody\u001B[0m\u001B[0;34m=\u001B[0m\u001B[0mhttp_request\u001B[0m\u001B[0;34m.\u001B[0m\u001B[0mbody\u001B[0m\u001B[0;34m,\u001B[0m \u001B[0mheaders\u001B[0m\u001B[0;34m=\u001B[0m\u001B[0mhttp_request\u001B[0m\u001B[0;34m.\u001B[0m\u001B[0mheaders\u001B[0m\u001B[0;34m,\u001B[0m\u001B[0;34m\u001B[0m\u001B[0;34m\u001B[0m\u001B[0m\n",
      "\u001B[0;32m/usr/local/lib/python3.10/dist-packages/google_auth_httplib2.py\u001B[0m in \u001B[0;36mrequest\u001B[0;34m(self, uri, method, body, headers, redirections, connection_type, **kwargs)\u001B[0m\n\u001B[1;32m    207\u001B[0m         \u001B[0mrequest_headers\u001B[0m \u001B[0;34m=\u001B[0m \u001B[0mheaders\u001B[0m\u001B[0;34m.\u001B[0m\u001B[0mcopy\u001B[0m\u001B[0;34m(\u001B[0m\u001B[0;34m)\u001B[0m \u001B[0;32mif\u001B[0m \u001B[0mheaders\u001B[0m \u001B[0;32mis\u001B[0m \u001B[0;32mnot\u001B[0m \u001B[0;32mNone\u001B[0m \u001B[0;32melse\u001B[0m \u001B[0;34m{\u001B[0m\u001B[0;34m}\u001B[0m\u001B[0;34m\u001B[0m\u001B[0;34m\u001B[0m\u001B[0m\n\u001B[1;32m    208\u001B[0m \u001B[0;34m\u001B[0m\u001B[0m\n\u001B[0;32m--> 209\u001B[0;31m         \u001B[0mself\u001B[0m\u001B[0;34m.\u001B[0m\u001B[0mcredentials\u001B[0m\u001B[0;34m.\u001B[0m\u001B[0mbefore_request\u001B[0m\u001B[0;34m(\u001B[0m\u001B[0mself\u001B[0m\u001B[0;34m.\u001B[0m\u001B[0m_request\u001B[0m\u001B[0;34m,\u001B[0m \u001B[0mmethod\u001B[0m\u001B[0;34m,\u001B[0m \u001B[0muri\u001B[0m\u001B[0;34m,\u001B[0m \u001B[0mrequest_headers\u001B[0m\u001B[0;34m)\u001B[0m\u001B[0;34m\u001B[0m\u001B[0;34m\u001B[0m\u001B[0m\n\u001B[0m\u001B[1;32m    210\u001B[0m \u001B[0;34m\u001B[0m\u001B[0m\n\u001B[1;32m    211\u001B[0m         \u001B[0;31m# Check if the body is a file-like stream, and if so, save the body\u001B[0m\u001B[0;34m\u001B[0m\u001B[0;34m\u001B[0m\u001B[0m\n",
      "\u001B[0;32m/usr/local/lib/python3.10/dist-packages/google/auth/credentials.py\u001B[0m in \u001B[0;36mbefore_request\u001B[0;34m(self, request, method, url, headers)\u001B[0m\n\u001B[1;32m    133\u001B[0m         \u001B[0;31m# the http request.)\u001B[0m\u001B[0;34m\u001B[0m\u001B[0;34m\u001B[0m\u001B[0m\n\u001B[1;32m    134\u001B[0m         \u001B[0;32mif\u001B[0m \u001B[0;32mnot\u001B[0m \u001B[0mself\u001B[0m\u001B[0;34m.\u001B[0m\u001B[0mvalid\u001B[0m\u001B[0;34m:\u001B[0m\u001B[0;34m\u001B[0m\u001B[0;34m\u001B[0m\u001B[0m\n\u001B[0;32m--> 135\u001B[0;31m             \u001B[0mself\u001B[0m\u001B[0;34m.\u001B[0m\u001B[0mrefresh\u001B[0m\u001B[0;34m(\u001B[0m\u001B[0mrequest\u001B[0m\u001B[0;34m)\u001B[0m\u001B[0;34m\u001B[0m\u001B[0;34m\u001B[0m\u001B[0m\n\u001B[0m\u001B[1;32m    136\u001B[0m         \u001B[0mself\u001B[0m\u001B[0;34m.\u001B[0m\u001B[0mapply\u001B[0m\u001B[0;34m(\u001B[0m\u001B[0mheaders\u001B[0m\u001B[0;34m)\u001B[0m\u001B[0;34m\u001B[0m\u001B[0;34m\u001B[0m\u001B[0m\n\u001B[1;32m    137\u001B[0m \u001B[0;34m\u001B[0m\u001B[0m\n",
      "\u001B[0;32m/usr/local/lib/python3.10/dist-packages/google/auth/compute_engine/credentials.py\u001B[0m in \u001B[0;36mrefresh\u001B[0;34m(self, request)\u001B[0m\n\u001B[1;32m    115\u001B[0m         \u001B[0;32mexcept\u001B[0m \u001B[0mexceptions\u001B[0m\u001B[0;34m.\u001B[0m\u001B[0mTransportError\u001B[0m \u001B[0;32mas\u001B[0m \u001B[0mcaught_exc\u001B[0m\u001B[0;34m:\u001B[0m\u001B[0;34m\u001B[0m\u001B[0;34m\u001B[0m\u001B[0m\n\u001B[1;32m    116\u001B[0m             \u001B[0mnew_exc\u001B[0m \u001B[0;34m=\u001B[0m \u001B[0mexceptions\u001B[0m\u001B[0;34m.\u001B[0m\u001B[0mRefreshError\u001B[0m\u001B[0;34m(\u001B[0m\u001B[0mcaught_exc\u001B[0m\u001B[0;34m)\u001B[0m\u001B[0;34m\u001B[0m\u001B[0;34m\u001B[0m\u001B[0m\n\u001B[0;32m--> 117\u001B[0;31m             \u001B[0msix\u001B[0m\u001B[0;34m.\u001B[0m\u001B[0mraise_from\u001B[0m\u001B[0;34m(\u001B[0m\u001B[0mnew_exc\u001B[0m\u001B[0;34m,\u001B[0m \u001B[0mcaught_exc\u001B[0m\u001B[0;34m)\u001B[0m\u001B[0;34m\u001B[0m\u001B[0;34m\u001B[0m\u001B[0m\n\u001B[0m\u001B[1;32m    118\u001B[0m \u001B[0;34m\u001B[0m\u001B[0m\n\u001B[1;32m    119\u001B[0m     \u001B[0;34m@\u001B[0m\u001B[0mproperty\u001B[0m\u001B[0;34m\u001B[0m\u001B[0;34m\u001B[0m\u001B[0m\n",
      "\u001B[0;32m/usr/local/lib/python3.10/dist-packages/six.py\u001B[0m in \u001B[0;36mraise_from\u001B[0;34m(value, from_value)\u001B[0m\n",
      "\u001B[0;31mRuntimeError\u001B[0m: google.auth.exceptions.RefreshError: (\"Failed to retrieve http://metadata.google.internal/computeMetadata/v1/instance/service-accounts/default/?recursive=true from the Google Compute Engine metadata service. Status: 404 Response:\\nb''\", <google_auth_httplib2._Response object at 0x7fce82783550>) [while running '[14]: ReadFromBigQuery/ReadFromBigQuery/Read/SDFBoundedSourceReader/ParDo(SDFBoundedSourceDoFn)/SplitAndSizeRestriction']"
     ]
    }
   ]
  },
  {
   "cell_type": "code",
   "source": [
    "def transformGoogleTrends(value):\n",
    "  return value"
   ],
   "metadata": {
    "id": "4PN_5RKv44uI"
   },
   "execution_count": 18,
   "outputs": []
  },
  {
   "cell_type": "code",
   "source": [
    "run()"
   ],
   "metadata": {
    "id": "8z8eBUrw2RAi"
   },
   "execution_count": null,
   "outputs": []
  }
 ],
 "metadata": {
  "colab": {
   "name": "MIMIC-III",
   "provenance": []
  },
  "kernelspec": {
   "name": "python3",
   "language": "python",
   "display_name": "Python 3 (ipykernel)"
  }
 },
 "nbformat": 4,
 "nbformat_minor": 0
}
