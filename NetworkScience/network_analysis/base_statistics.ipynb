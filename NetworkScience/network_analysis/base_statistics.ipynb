{
 "cells": [
  {
   "cell_type": "code",
   "execution_count": 3,
   "id": "673b49e3-2e3a-47c0-a5f7-99ee1955a70b",
   "metadata": {
    "tags": []
   },
   "outputs": [
    {
     "data": {
      "text/html": [
       "\n",
       "\t\t\t<script type=\"text/javascript\">\n",
       "\t\t\t<!--\n",
       "\t\t\t\t\n",
       "\t\t\t{\n",
       "\t\t\t\tvar element = document.getElementById('NetworKit_script');\n",
       "\t\t\t\tif (element) {\n",
       "\t\t\t\t\telement.parentNode.removeChild(element);\n",
       "\t\t\t\t}\n",
       "\t\t\t\telement = document.createElement('script');\n",
       "\t\t\t\telement.type = 'text/javascript';\n",
       "\t\t\t\telement.innerHTML = 'function NetworKit_pageEmbed(id) { var i, j; var elements; elements = document.getElementById(id).getElementsByClassName(\"Plot\"); for (i=0; i<elements.length; i++) { elements[i].id = id + \"_Plot_\" + i; var data = elements[i].getAttribute(\"data-image\").split(\"|\"); elements[i].removeAttribute(\"data-image\"); var content = \"<div class=\\\\\"Image\\\\\" id=\\\\\"\" + elements[i].id + \"_Image\\\\\" />\"; elements[i].innerHTML = content; elements[i].setAttribute(\"data-image-index\", 0); elements[i].setAttribute(\"data-image-length\", data.length); for (j=0; j<data.length; j++) { elements[i].setAttribute(\"data-image-\" + j, data[j]); } NetworKit_plotUpdate(elements[i]); elements[i].onclick = function (e) { NetworKit_overlayShow((e.target) ? e.target : e.srcElement); } } elements = document.getElementById(id).getElementsByClassName(\"HeatCell\"); for (i=0; i<elements.length; i++) { var data = parseFloat(elements[i].getAttribute(\"data-heat\")); var color = \"#00FF00\"; if (data <= 1 && data > 0) { color = \"hsla(0, 100%, 75%, \" + (data) + \")\"; } else if (data <= 0 && data >= -1) { color = \"hsla(240, 100%, 75%, \" + (-data) + \")\"; } elements[i].style.backgroundColor = color; } elements = document.getElementById(id).getElementsByClassName(\"Details\"); for (i=0; i<elements.length; i++) { elements[i].setAttribute(\"data-title\", \"-\"); NetworKit_toggleDetails(elements[i]); elements[i].onclick = function (e) { NetworKit_toggleDetails((e.target) ? e.target : e.srcElement); } } elements = document.getElementById(id).getElementsByClassName(\"MathValue\"); for (i=elements.length-1; i>=0; i--) { value = elements[i].innerHTML.trim(); if (value === \"nan\") { elements[i].parentNode.innerHTML = \"\" } } elements = document.getElementById(id).getElementsByClassName(\"SubCategory\"); for (i=elements.length-1; i>=0; i--) { value = elements[i].innerHTML.trim(); if (value === \"\") { elements[i].parentNode.removeChild(elements[i]) } } elements = document.getElementById(id).getElementsByClassName(\"Category\"); for (i=elements.length-1; i>=0; i--) { value = elements[i].innerHTML.trim(); if (value === \"\") { elements[i].parentNode.removeChild(elements[i]) } } var isFirefox = false; try { isFirefox = typeof InstallTrigger !== \"undefined\"; } catch (e) {} if (!isFirefox) { alert(\"Currently the function\\'s output is only fully supported by Firefox.\"); } } function NetworKit_plotUpdate(source) { var index = source.getAttribute(\"data-image-index\"); var data = source.getAttribute(\"data-image-\" + index); var image = document.getElementById(source.id + \"_Image\"); image.style.backgroundImage = \"url(\" + data + \")\"; } function NetworKit_showElement(id, show) { var element = document.getElementById(id); element.style.display = (show) ? \"block\" : \"none\"; } function NetworKit_overlayShow(source) { NetworKit_overlayUpdate(source); NetworKit_showElement(\"NetworKit_Overlay\", true); } function NetworKit_overlayUpdate(source) { document.getElementById(\"NetworKit_Overlay_Title\").innerHTML = source.title; var index = source.getAttribute(\"data-image-index\"); var data = source.getAttribute(\"data-image-\" + index); var image = document.getElementById(\"NetworKit_Overlay_Image\"); image.setAttribute(\"data-id\", source.id); image.style.backgroundImage = \"url(\" + data + \")\"; var link = document.getElementById(\"NetworKit_Overlay_Toolbar_Bottom_Save\"); link.href = data; link.download = source.title + \".svg\"; } function NetworKit_overlayImageShift(delta) { var image = document.getElementById(\"NetworKit_Overlay_Image\"); var source = document.getElementById(image.getAttribute(\"data-id\")); var index = parseInt(source.getAttribute(\"data-image-index\")); var length = parseInt(source.getAttribute(\"data-image-length\")); var index = (index+delta) % length; if (index < 0) { index = length + index; } source.setAttribute(\"data-image-index\", index); NetworKit_overlayUpdate(source); } function NetworKit_toggleDetails(source) { var childs = source.children; var show = false; if (source.getAttribute(\"data-title\") == \"-\") { source.setAttribute(\"data-title\", \"+\"); show = false; } else { source.setAttribute(\"data-title\", \"-\"); show = true; } for (i=0; i<childs.length; i++) { if (show) { childs[i].style.display = \"block\"; } else { childs[i].style.display = \"none\"; } } }';\n",
       "\t\t\t\telement.setAttribute('id', 'NetworKit_script');\n",
       "\t\t\t\tdocument.head.appendChild(element);\n",
       "\t\t\t}\n",
       "\t\t\n",
       "\t\t\t\t\n",
       "\t\t\t{\n",
       "\t\t\t\tvar element = document.getElementById('NetworKit_style');\n",
       "\t\t\t\tif (element) {\n",
       "\t\t\t\t\telement.parentNode.removeChild(element);\n",
       "\t\t\t\t}\n",
       "\t\t\t\telement = document.createElement('style');\n",
       "\t\t\t\telement.type = 'text/css';\n",
       "\t\t\t\telement.innerHTML = '.NetworKit_Page { font-family: Arial, Helvetica, sans-serif; font-size: 14px; } .NetworKit_Page .Value:before { font-family: Arial, Helvetica, sans-serif; font-size: 1.05em; content: attr(data-title) \":\"; margin-left: -2.5em; padding-right: 0.5em; } .NetworKit_Page .Details .Value:before { display: block; } .NetworKit_Page .Value { font-family: monospace; white-space: pre; padding-left: 2.5em; white-space: -moz-pre-wrap !important; white-space: -pre-wrap; white-space: -o-pre-wrap; white-space: pre-wrap; word-wrap: break-word; tab-size: 4; -moz-tab-size: 4; } .NetworKit_Page .Category { clear: both; padding-left: 1em; margin-bottom: 1.5em; } .NetworKit_Page .Category:before { content: attr(data-title); font-size: 1.75em; display: block; margin-left: -0.8em; margin-bottom: 0.5em; } .NetworKit_Page .SubCategory { margin-bottom: 1.5em; padding-left: 1em; } .NetworKit_Page .SubCategory:before { font-size: 1.6em; display: block; margin-left: -0.8em; margin-bottom: 0.5em; } .NetworKit_Page .SubCategory[data-title]:before { content: attr(data-title); } .NetworKit_Page .Block { display: block; } .NetworKit_Page .Block:after { content: \".\"; visibility: hidden; display: block; height: 0; clear: both; } .NetworKit_Page .Block .Thumbnail_Overview, .NetworKit_Page .Block .Thumbnail_ScatterPlot { width: 260px; float: left; } .NetworKit_Page .Block .Thumbnail_Overview img, .NetworKit_Page .Block .Thumbnail_ScatterPlot img { width: 260px; } .NetworKit_Page .Block .Thumbnail_Overview:before, .NetworKit_Page .Block .Thumbnail_ScatterPlot:before { display: block; text-align: center; font-weight: bold; } .NetworKit_Page .Block .Thumbnail_Overview:before { content: attr(data-title); } .NetworKit_Page .HeatCell { font-family: \"Courier New\", Courier, monospace; cursor: pointer; } .NetworKit_Page .HeatCell, .NetworKit_Page .HeatCellName { display: inline; padding: 0.1em; margin-right: 2px; background-color: #FFFFFF } .NetworKit_Page .HeatCellName { margin-left: 0.25em; } .NetworKit_Page .HeatCell:before { content: attr(data-heat); display: inline-block; color: #000000; width: 4em; text-align: center; } .NetworKit_Page .Measure { clear: both; } .NetworKit_Page .Measure .Details { cursor: pointer; } .NetworKit_Page .Measure .Details:before { content: \"[\" attr(data-title) \"]\"; display: block; } .NetworKit_Page .Measure .Details .Value { border-left: 1px dotted black; margin-left: 0.4em; padding-left: 3.5em; pointer-events: none; } .NetworKit_Page .Measure .Details .Spacer:before { content: \".\"; opacity: 0.0; pointer-events: none; } .NetworKit_Page .Measure .Plot { width: 440px; height: 440px; cursor: pointer; float: left; margin-left: -0.9em; margin-right: 20px; } .NetworKit_Page .Measure .Plot .Image { background-repeat: no-repeat; background-position: center center; background-size: contain; height: 100%; pointer-events: none; } .NetworKit_Page .Measure .Stat { width: 500px; float: left; } .NetworKit_Page .Measure .Stat .Group { padding-left: 1.25em; margin-bottom: 0.75em; } .NetworKit_Page .Measure .Stat .Group .Title { font-size: 1.1em; display: block; margin-bottom: 0.3em; margin-left: -0.75em; border-right-style: dotted; border-right-width: 1px; border-bottom-style: dotted; border-bottom-width: 1px; background-color: #D0D0D0; padding-left: 0.2em; } .NetworKit_Page .Measure .Stat .Group .List { -webkit-column-count: 3; -moz-column-count: 3; column-count: 3; } .NetworKit_Page .Measure .Stat .Group .List .Entry { position: relative; line-height: 1.75em; } .NetworKit_Page .Measure .Stat .Group .List .Entry[data-tooltip]:before { position: absolute; left: 0; top: -40px; background-color: #808080; color: #ffffff; height: 30px; line-height: 30px; border-radius: 5px; padding: 0 15px; content: attr(data-tooltip); white-space: nowrap; display: none; } .NetworKit_Page .Measure .Stat .Group .List .Entry[data-tooltip]:after { position: absolute; left: 15px; top: -10px; border-top: 7px solid #808080; border-left: 7px solid transparent; border-right: 7px solid transparent; content: \"\"; display: none; } .NetworKit_Page .Measure .Stat .Group .List .Entry[data-tooltip]:hover:after, .NetworKit_Page .Measure .Stat .Group .List .Entry[data-tooltip]:hover:before { display: block; } .NetworKit_Page .Measure .Stat .Group .List .Entry .MathValue { font-family: \"Courier New\", Courier, monospace; } .NetworKit_Page .Measure:after { content: \".\"; visibility: hidden; display: block; height: 0; clear: both; } .NetworKit_Page .PartitionPie { clear: both; } .NetworKit_Page .PartitionPie img { width: 600px; } #NetworKit_Overlay { left: 0px; top: 0px; display: none; position: absolute; width: 100%; height: 100%; background-color: rgba(0,0,0,0.6); z-index: 1000; } #NetworKit_Overlay_Title { position: absolute; color: white; transform: rotate(-90deg); width: 32em; height: 32em; padding-right: 0.5em; padding-top: 0.5em; text-align: right; font-size: 40px; } #NetworKit_Overlay .button { background: white; cursor: pointer; } #NetworKit_Overlay .button:before { size: 13px; display: inline-block; text-align: center; margin-top: 0.5em; margin-bottom: 0.5em; width: 1.5em; height: 1.5em; } #NetworKit_Overlay .icon-close:before { content: \"X\"; } #NetworKit_Overlay .icon-previous:before { content: \"P\"; } #NetworKit_Overlay .icon-next:before { content: \"N\"; } #NetworKit_Overlay .icon-save:before { content: \"S\"; } #NetworKit_Overlay_Toolbar_Top, #NetworKit_Overlay_Toolbar_Bottom { position: absolute; width: 40px; right: 13px; text-align: right; z-index: 1100; } #NetworKit_Overlay_Toolbar_Top { top: 0.5em; } #NetworKit_Overlay_Toolbar_Bottom { Bottom: 0.5em; } #NetworKit_Overlay_ImageContainer { position: absolute; top: 5%; left: 5%; height: 90%; width: 90%; background-repeat: no-repeat; background-position: center center; background-size: contain; } #NetworKit_Overlay_Image { height: 100%; width: 100%; background-repeat: no-repeat; background-position: center center; background-size: contain; }';\n",
       "\t\t\t\telement.setAttribute('id', 'NetworKit_style');\n",
       "\t\t\t\tdocument.head.appendChild(element);\n",
       "\t\t\t}\n",
       "\t\t\n",
       "\t\t\t\t\n",
       "\t\t\t{\n",
       "\t\t\t\tvar element = document.getElementById('NetworKit_Overlay');\n",
       "\t\t\t\tif (element) {\n",
       "\t\t\t\t\telement.parentNode.removeChild(element);\n",
       "\t\t\t\t}\n",
       "\t\t\t\telement = document.createElement('div');\n",
       "\t\t\t\telement.innerHTML = '<div id=\"NetworKit_Overlay_Toolbar_Top\"><div class=\"button icon-close\" id=\"NetworKit_Overlay_Close\" /></div><div id=\"NetworKit_Overlay_Title\" /> <div id=\"NetworKit_Overlay_ImageContainer\"> <div id=\"NetworKit_Overlay_Image\" /> </div> <div id=\"NetworKit_Overlay_Toolbar_Bottom\"> <div class=\"button icon-previous\" onclick=\"NetworKit_overlayImageShift(-1)\" /> <div class=\"button icon-next\" onclick=\"NetworKit_overlayImageShift(1)\" /> <a id=\"NetworKit_Overlay_Toolbar_Bottom_Save\"><div class=\"button icon-save\" /></a> </div>';\n",
       "\t\t\t\telement.setAttribute('id', 'NetworKit_Overlay');\n",
       "\t\t\t\tdocument.body.appendChild(element);\n",
       "\t\t\t\tdocument.getElementById('NetworKit_Overlay_Close').onclick = function (e) {\n",
       "\t\t\t\t\tdocument.getElementById('NetworKit_Overlay').style.display = 'none';\n",
       "\t\t\t\t}\n",
       "\t\t\t}\n",
       "\t\t\n",
       "\t\t\t-->\n",
       "\t\t\t</script>\n",
       "\t\t"
      ]
     },
     "metadata": {},
     "output_type": "display_data"
    }
   ],
   "source": [
    "import networkit as nk\n",
    "import graph_tool.all as gt"
   ]
  },
  {
   "cell_type": "code",
   "execution_count": 4,
   "id": "92d26684-99b7-4698-84b3-b15fec9e9723",
   "metadata": {
    "tags": []
   },
   "outputs": [],
   "source": [
    "import numpy as np\n",
    "import pandas as pd\n",
    "\n",
    "from matplotlib import pyplot as plt\n",
    "import seaborn as sns"
   ]
  },
  {
   "cell_type": "code",
   "execution_count": 5,
   "id": "6fe46987-e5cb-4dc6-a20e-a23c22d9eafd",
   "metadata": {
    "tags": []
   },
   "outputs": [],
   "source": [
    "import json\n",
    "import powerlaw"
   ]
  },
  {
   "cell_type": "code",
   "execution_count": 6,
   "id": "afe4dbe1-8ace-4a50-b6b0-b99affb85221",
   "metadata": {
    "tags": []
   },
   "outputs": [],
   "source": [
    "import os\n",
    "import time"
   ]
  },
  {
   "attachments": {},
   "cell_type": "markdown",
   "id": "770eb1cd-dab9-4f8f-abbb-af558f2ab07d",
   "metadata": {
    "tags": []
   },
   "source": [
    "## Setup\n",
    "\n",
    "Since the network fits into memory, *laughs in 128GB of RAM* :), we will work with both the `netowrkit` and the `graph-tool` representation. To **ensure** consistency, `networkit` reads the file that comes from `transform.ipynb`, and checks there are no unexpected errors such as, in this case, more than 1 connected component and if the graph is consistent. \n",
    "\n",
    "After the verifications it saves the possibly modified graph into both GraphML and CSV formats into the `temp` folder. The network in this folder will be read by `graph-tool`."
   ]
  },
  {
   "cell_type": "code",
   "execution_count": 7,
   "id": "dbf0f9c7-6867-42ac-a46f-f038f55c79fa",
   "metadata": {
    "tags": []
   },
   "outputs": [],
   "source": [
    "sns.set_style(\"whitegrid\")\n",
    "sns.set_context(\"paper\")"
   ]
  },
  {
   "cell_type": "code",
   "execution_count": 8,
   "id": "30f3bbca-737f-416b-bde6-533b61c42e4a",
   "metadata": {
    "tags": []
   },
   "outputs": [],
   "source": [
    "basic_statistics = {}\n",
    "degree_distr_stats = {}"
   ]
  },
  {
   "cell_type": "code",
   "execution_count": 9,
   "id": "80749787-bcda-41ca-b313-ef6d6fba78b0",
   "metadata": {
    "tags": []
   },
   "outputs": [],
   "source": [
    "CELLS_RUNNED = np.zeros(16)"
   ]
  },
  {
   "cell_type": "code",
   "execution_count": 10,
   "id": "f7bfe203-f868-4c1a-a7fc-5d26e4a0347d",
   "metadata": {
    "tags": []
   },
   "outputs": [],
   "source": [
    "CELLS_RUNNED[0] = 1\n",
    "####################\n",
    "\n",
    "NOM_COLOR = 'red'\n",
    "ER_COLOR = 'blue'\n",
    "BA_COLOR = 'green'\n",
    "\n",
    "COLOR_ONE = '#346751'\n",
    "COLOR_TWO = '#C84B31'\n",
    "COLOR_THREE = '#E5A5FF'"
   ]
  },
  {
   "cell_type": "code",
   "execution_count": 11,
   "id": "e48ee1b1-fbf4-479c-aa4e-049053c9de55",
   "metadata": {
    "tags": []
   },
   "outputs": [],
   "source": [
    "CELLS_RUNNED[1] = 1\n",
    "####################\n",
    "\n",
    "BASE = os.path.abspath(os.curdir)\n",
    "\n",
    "ORIGINAL_NETWORK_NAME_GML = \"output_graph_no_cliques2.graphml\"\n",
    "ORIGINAL_NETWORK_NAME_CSV = \"output_graph_no_cliques2.csv\"\n",
    "TEMP_NETWORKS_FOLDER = \"temp\"\n",
    "PLOTS_FOLDER = \"plots\"\n",
    "STATS_FOLDER = \"stats\"\n",
    "RAW_GRAPH_FOLDER = \"all_ranks_graph\"\n",
    "\n",
    "PATH_TO_NETWORK_GML = os.path.join(BASE, RAW_GRAPH_FOLDER, \"processed\", ORIGINAL_NETWORK_NAME_GML)\n",
    "PATH_TO_NETWORK_CSV = os.path.join(BASE, RAW_GRAPH_FOLDER, \"processed\", ORIGINAL_NETWORK_NAME_CSV)\n",
    "\n",
    "PATH_TO_STATS_FOLDER = os.path.join(BASE, STATS_FOLDER)\n",
    "PATH_TO_TEMP_FOLDER = os.path.join(BASE, TEMP_NETWORKS_FOLDER)\n",
    "PATH_TO_PLOTS_FOLDER = os.path.join(BASE, PLOTS_FOLDER)\n",
    "\n",
    "if not os.path.exists(PATH_TO_STATS_FOLDER):\n",
    "    os.makedirs(PATH_TO_STATS_FOLDER)\n",
    "\n",
    "if not os.path.exists(PATH_TO_TEMP_FOLDER):\n",
    "    os.makedirs(PATH_TO_TEMP_FOLDER)\n",
    "    \n",
    "if not os.path.exists(PATH_TO_PLOTS_FOLDER):\n",
    "    os.makedirs(PATH_TO_PLOTS_FOLDER)"
   ]
  },
  {
   "cell_type": "code",
   "execution_count": 12,
   "id": "347a0abf-1cc0-4dc2-87a3-653c3673e8ea",
   "metadata": {
    "tags": []
   },
   "outputs": [],
   "source": [
    "CELLS_RUNNED[2] = 1\n",
    "####################\n",
    "\n",
    "G = nk.graphio.EdgeListReader(separator=\",\", firstNode=0, continuous=True).read(PATH_TO_NETWORK_CSV)"
   ]
  },
  {
   "cell_type": "code",
   "execution_count": 13,
   "id": "fc1cf874-b168-42af-8381-f917181820f6",
   "metadata": {
    "tags": []
   },
   "outputs": [
    {
     "name": "stdout",
     "output_type": "stream",
     "text": [
      "Is it direct?  False\n",
      "Number of nodes:  44587\n",
      "Number of edges:  779615\n"
     ]
    }
   ],
   "source": [
    "CELLS_RUNNED[3] = 1\n",
    "####################\n",
    "\n",
    "def preamble_of_G():\n",
    "    n_nodes = G.numberOfNodes()\n",
    "    n_edges = G.numberOfEdges()\n",
    "    print(\"Is it direct? \", G.isDirected())\n",
    "    print(\"Number of nodes: \", n_nodes)\n",
    "    print(\"Number of edges: \", n_edges)\n",
    "    return n_nodes, n_edges\n",
    "\n",
    "n_nodes, n_edges = preamble_of_G()"
   ]
  },
  {
   "cell_type": "code",
   "execution_count": 14,
   "id": "952883e1-33f1-483b-b826-ce0cccac34a9",
   "metadata": {
    "tags": []
   },
   "outputs": [],
   "source": [
    "CELLS_RUNNED[4] = 1\n",
    "####################\n",
    "\n",
    "components = nk.components.ConnectedComponents(G).run()\n",
    "connected_components = components.numberOfComponents()\n",
    "if connected_components != 1:\n",
    "    print(\"More than 1 component, extracting largest one.\")\n",
    "    G = components.extractLargestConnectedComponent(G)\n",
    "    n_nodes, n_edges = preamble_of_G()\n",
    "    print(\"New Number of CC: \", nk.components.ConnectedComponents(G).run().numberOfComponents())\n",
    "    basic_statistics[\"og_cc_number\"] = connected_components\n",
    "    \n",
    "if not G.checkConsistency():\n",
    "    print(\"Making it consistent.\")\n",
    "    G.removeMultiEdges()\n",
    "    G.compactEdges()\n",
    "    G.removeSelfLoops()\n",
    "    G.compactEdges()\n",
    "    n_nodes, n_edges = preamble_of_G()\n",
    "    \n",
    "writergml = nk.graphio.GraphMLWriter()\n",
    "writergml.write(G, os.path.join(PATH_TO_TEMP_FOLDER, \"temp.graphml\"))\n",
    "writecsv = nk.graphio.EdgeListWriter(\",\", 0, bothDirections=False)\n",
    "writecsv.write(G, os.path.join(PATH_TO_TEMP_FOLDER, \"temp.csv\"))\n",
    "    \n",
    "basic_statistics[\"n_nodes\"] = n_nodes\n",
    "basic_statistics[\"n_edges\"] = n_edges"
   ]
  },
  {
   "cell_type": "code",
   "execution_count": 15,
   "id": "99a42164-64c5-4b5a-be07-3a69eb374298",
   "metadata": {
    "tags": []
   },
   "outputs": [],
   "source": [
    "CELLS_RUNNED[5] = 1\n",
    "####################\n",
    "\n",
    "# g = gt.load_graph_from_csv(PATH_TO_NETWORK, csv_options={'delimiter': ',', 'quotechar': '\"'})\n",
    "g = gt.load_graph(os.path.join(PATH_TO_TEMP_FOLDER, \"temp.graphml\"))\n",
    "g = gt.extract_largest_component(g, directed=False, prune=True)"
   ]
  },
  {
   "cell_type": "code",
   "execution_count": 16,
   "id": "e6d97f68-487d-477f-9b3b-7035253cf6db",
   "metadata": {
    "tags": []
   },
   "outputs": [],
   "source": [
    "CELLS_RUNNED[6] = 1\n",
    "####################\n",
    "\n",
    "assert g.num_vertices() == G.numberOfNodes() and g.num_edges() == G.numberOfEdges()"
   ]
  },
  {
   "attachments": {},
   "cell_type": "markdown",
   "id": "2728701b-d75c-43a0-8c55-2cec179e63f8",
   "metadata": {},
   "source": [
    "---"
   ]
  },
  {
   "attachments": {},
   "cell_type": "markdown",
   "id": "d77493af-297d-470a-a0a3-ff4d0f203ac8",
   "metadata": {
    "tags": []
   },
   "source": [
    "## Statistics\n",
    "\n",
    "In this section we calculate statistics related with the degree of the network. We start by looking at plots for the degree distribution and fitting a powerlaw to it. \n",
    "\n",
    "We also calculate other statistics related to the overall topology of the network. "
   ]
  },
  {
   "cell_type": "code",
   "execution_count": 15,
   "id": "b68138bd-79fd-468f-9cc0-c17db8240fb5",
   "metadata": {
    "tags": []
   },
   "outputs": [],
   "source": [
    "CELLS_RUNNED[7] = 1\n",
    "####################\n",
    "\n",
    "dd = sorted(nk.centrality.DegreeCentrality(G).run().scores(), reverse=True)\n",
    "degrees, count = np.unique(dd, return_counts=True)\n",
    "\n",
    "rel_freq = count/sum(count)\n",
    "cumulative = []\n",
    "for i in range(len(degrees)):\n",
    "    cumulative.append(sum(rel_freq[i:]))\n",
    "\n",
    "plt.figure(figsize=(11,7))\n",
    "plt.xscale('log')\n",
    "plt.xlabel(\"Degree\")\n",
    "plt.yscale('log')\n",
    "plt.ylabel(\"Number of Nodes\")\n",
    "fig = sns.scatterplot(x=degrees, y=count, \n",
    "                hue=np.repeat(\"Linear Binning\", len(degrees)), palette=[COLOR_ONE], \n",
    "                edgecolor=\"black\", linewidth=0.3).get_figure()\n",
    "fig.savefig(os.path.join(PATH_TO_PLOTS_FOLDER, RAW_GRAPH_FOLDER + \"_lin_bin.pdf\"))\n",
    "plt.close()\n",
    "\n",
    "plt.figure(figsize=(11,7))\n",
    "plt.xscale('log')\n",
    "plt.xlabel(\"Degree\")\n",
    "plt.yscale('log')\n",
    "plt.ylabel(\"Frequency\")\n",
    "fig = sns.scatterplot(x=degrees, y=cumulative,\n",
    "                hue=np.repeat(\"Cumulative Binning\", len(degrees)), palette=[COLOR_TWO], \n",
    "                edgecolor=\"black\", linewidth=0.3).get_figure()\n",
    "fig.savefig(os.path.join(PATH_TO_PLOTS_FOLDER, RAW_GRAPH_FOLDER + \"_cum_bin.pdf\"))\n",
    "plt.close()\n",
    "\n",
    "degree_distribution = pd.DataFrame({\"Degree\": degrees, \"Count\": count})\n",
    "degree_distribution.to_csv(os.path.join(PATH_TO_STATS_FOLDER, RAW_GRAPH_FOLDER + \"_degree_distribution.csv\"), index=False)"
   ]
  },
  {
   "cell_type": "code",
   "execution_count": 17,
   "id": "341be689-5611-41ff-8d46-708ce011d2ab",
   "metadata": {
    "tags": []
   },
   "outputs": [
    {
     "name": "stdout",
     "output_type": "stream",
     "text": [
      "Calculating best minimal value for power law fit\n",
      "Alpha:  3.1168812638097956  XMin:  48.0\n",
      "Alpha (TPL):  2.4730378789905134 , Lambda (TPL):  0.005005829910114423 , XMin:  48.0\n",
      "Mu:  1.710026080569207 , Sigma:  1.1910160873713245 , XMin:  48.0\n",
      "[PL vs EXP] LogLikelihood Ratio: 7.61869372667599, p-value: 2.5625567692003894e-14\n",
      "[PL vs LN] LogLikelihood Ratio: -6.525676773547729, p-value: 6.769516479060339e-11\n",
      "[LN vs TPL] LogLikelihood Ratio: -2.893969909453835, p-value: 0.0038040461470476416\n",
      "[TPL vs SE] LogLikelihood Ratio: 2.353837265817692, p-value: 0.01858074351963828\n"
     ]
    }
   ],
   "source": [
    "CELLS_RUNNED[8] = 1\n",
    "####################\n",
    "\n",
    "fitted = powerlaw.Fit(dd, discrete=True, fit_method=\"Likelihood\")\n",
    "print(\"Alpha: \", fitted.alpha, \" XMin: \", fitted.xmin)\n",
    "print(\"Alpha (TPL): \", fitted.truncated_power_law.alpha, \", Lambda (TPL): \", fitted.truncated_power_law.Lambda, \", XMin: \", fitted.xmin)\n",
    "print(\"Mu: \", fitted.lognormal.mu, \", Sigma: \", fitted.lognormal.sigma, \", XMin: \", fitted.xmin)\n",
    "\n",
    "\n",
    "ll_test_pw_exp = fitted.loglikelihood_ratio('power_law', \"exponential\", normalized_ratio=True)\n",
    "print(\"[PL vs EXP] LogLikelihood Ratio: {0}, p-value: {1}\".format(ll_test_pw_exp[0], ll_test_pw_exp[1]))\n",
    "\n",
    "ll_test_pw_ln = fitted.loglikelihood_ratio('power_law', \"lognormal\", normalized_ratio=True)\n",
    "print(\"[PL vs LN] LogLikelihood Ratio: {0}, p-value: {1}\".format(ll_test_pw_ln[0], ll_test_pw_ln[1]))\n",
    "\n",
    "ll_test_ln_tpl = fitted.loglikelihood_ratio('lognormal', \"truncated_power_law\", normalized_ratio=True)\n",
    "print(\"[LN vs TPL] LogLikelihood Ratio: {0}, p-value: {1}\".format(ll_test_ln_tpl[0], ll_test_ln_tpl[1]))\n",
    "\n",
    "ll_test_tpl_se = fitted.loglikelihood_ratio('truncated_power_law', \"stretched_exponential\", normalized_ratio=True)\n",
    "print(\"[TPL vs SE] LogLikelihood Ratio: {0}, p-value: {1}\".format(ll_test_tpl_se[0], ll_test_tpl_se[1]))\n",
    "\n",
    "degree_distr_stats[\"xmin\"] = fitted.xmin\n",
    "\n",
    "degree_distr_stats[\"alpha_pl\"] = fitted.alpha\n",
    "degree_distr_stats[\"alpha_tpl\"] = fitted.truncated_power_law.alpha\n",
    "degree_distr_stats[\"lambda_tpl\"] = fitted.truncated_power_law.Lambda\n",
    "degree_distr_stats[\"mu_tpl\"] = fitted.lognormal.mu\n",
    "degree_distr_stats[\"sigma_tpl\"] = fitted.lognormal.sigma\n",
    "degree_distr_stats[\"lambda_se\"] = fitted.stretched_exponential.Lambda\n",
    "\n",
    "degree_distr_stats[\"llratio_pl_exp\"] = ll_test_pw_exp[0]\n",
    "degree_distr_stats[\"p_value_pl_exp\"] = ll_test_pw_exp[1]\n",
    "\n",
    "degree_distr_stats[\"llratio_pl_ln\"] = ll_test_pw_ln[0]\n",
    "degree_distr_stats[\"p_value_pl_ln\"] = ll_test_pw_ln[1]\n",
    "\n",
    "degree_distr_stats[\"llratio_ln_tpl\"] = ll_test_ln_tpl[0]\n",
    "degree_distr_stats[\"p_value_ln_tpl\"] = ll_test_ln_tpl[1]\n",
    "\n",
    "degree_distr_stats[\"llratio_tpl_se\"] = ll_test_tpl_se[0]\n",
    "degree_distr_stats[\"p_value_tpl_se\"] = ll_test_tpl_se[1]"
   ]
  },
  {
   "cell_type": "code",
   "execution_count": null,
   "id": "e6f7bf24-cf45-4191-80dc-ae520a12a183",
   "metadata": {
    "tags": []
   },
   "outputs": [],
   "source": [
    "CELLS_RUNNED[15] = 1\n",
    "####################\n",
    "plt.figure(figsize=(11,7))\n",
    "\n",
    "plt.xlabel(\"Degree\")\n",
    "plt.ylabel(\"Frequency\")\n",
    "powerlaw.plot_pdf(dd, color=\"black\", alpha=0.8)\n",
    "fitted.power_law.plot_pdf(color=COLOR_TWO, linestyle=\"dashdot\", alpha=1, label=\"Power Law\")\n",
    "fitted.lognormal.plot_pdf(color=COLOR_THREE, linestyle=\"dashed\", alpha=1, label=\"LogNormal\")\n",
    "fitted.truncated_power_law.plot_pdf(color=COLOR_ONE, linestyle=\"dotted\", alpha=1, label=\"Truncated Power Law\")\n",
    "plt.legend()\n",
    "\n",
    "plt.savefig(os.path.join(PATH_TO_PLOTS_FOLDER, RAW_GRAPH_FOLDER + \"_fitted_distributions.pdf\"))\n",
    "plt.close()"
   ]
  },
  {
   "cell_type": "code",
   "execution_count": 68,
   "id": "9cbe8b6c-682f-4c2b-a600-936e0de67422",
   "metadata": {
    "tags": []
   },
   "outputs": [
    {
     "name": "stdout",
     "output_type": "stream",
     "text": [
      "AVG Clustering Coefficient:  (0.33818439117279253, 0.18550680874146552)\n"
     ]
    }
   ],
   "source": [
    "CELLS_RUNNED[9] = 1\n",
    "####################\n",
    "\n",
    "local_clustering_coefficient = nk.centrality.LocalClusteringCoefficient(G).run().scores()\n",
    "\n",
    "basic_statistics[\"avg_clust_coefficient\"] = (np.mean(local_clustering_coefficient), np.std(local_clustering_coefficient))\n",
    "print(\"AVG Clustering Coefficient: \", basic_statistics[\"avg_clust_coefficient\"])"
   ]
  },
  {
   "cell_type": "code",
   "execution_count": 69,
   "id": "0ebe8a13-365b-41c8-9ac5-0393f20140ec",
   "metadata": {
    "tags": []
   },
   "outputs": [
    {
     "data": {
      "text/plain": [
       "(34.97050709848162, 0.16815089175692952)"
      ]
     },
     "execution_count": 69,
     "metadata": {},
     "output_type": "execute_result"
    }
   ],
   "source": [
    "CELLS_RUNNED[10] = 1\n",
    "####################\n",
    "\n",
    "gt.vertex_average(g, \"total\")"
   ]
  },
  {
   "cell_type": "code",
   "execution_count": 70,
   "id": "e5ae8b72-589c-4071-b478-2cf32cb01a46",
   "metadata": {
    "tags": []
   },
   "outputs": [],
   "source": [
    "CELLS_RUNNED[11] = 1\n",
    "####################\n",
    "\n",
    "degree_distr_stats[\"average_degree\"] = gt.vertex_average(g, \"total\") # Do not count 0 degree\n",
    "basic_statistics[\"pseudo_diameter\"] = gt.pseudo_diameter(g)[0]\n",
    "\n",
    "dist = gt.shortest_distance(g)\n",
    "ave_path_length = sum([sum(i) for i in dist])/(g.num_vertices()**2-g.num_vertices())\n",
    "basic_statistics[\"avg_path_length\"] = ave_path_length"
   ]
  },
  {
   "cell_type": "code",
   "execution_count": 71,
   "id": "fd9ff649-43c4-4984-9302-2aff7a141e5c",
   "metadata": {
    "tags": []
   },
   "outputs": [],
   "source": [
    "CELLS_RUNNED[12] = 1\n",
    "####################\n",
    "\n",
    "tra, n_triangles, n_triples = gt.global_clustering(g, ret_counts=True) # Transitivity\n",
    "\n",
    "basic_statistics[\"transitivity\"] = tra\n",
    "basic_statistics[\"n_triangles\"] = n_triangles\n",
    "basic_statistics[\"n_triples\"] = n_triples"
   ]
  },
  {
   "attachments": {},
   "cell_type": "markdown",
   "id": "7be53d75-61f0-47af-bf7d-392ecdd6cd59",
   "metadata": {},
   "source": [
    "---"
   ]
  },
  {
   "attachments": {},
   "cell_type": "markdown",
   "id": "bbf0921a-4c7a-4f01-94d5-59453eae2203",
   "metadata": {
    "tags": []
   },
   "source": [
    "## Centralities\n",
    "\n",
    "Extract normalized betweenness, closeness and eigenvector centrality."
   ]
  },
  {
   "cell_type": "code",
   "execution_count": 72,
   "id": "14781287-a116-49dd-9612-bc49f1984536",
   "metadata": {
    "tags": []
   },
   "outputs": [
    {
     "name": "stdout",
     "output_type": "stream",
     "text": [
      "GT for Betweenness time : 107.04376363754272\n",
      "GT for Closeness time : 43.869438886642456\n",
      "GT for Eigenvector time : 0.02357935905456543\n"
     ]
    }
   ],
   "source": [
    "CELLS_RUNNED[13] = 1\n",
    "####################\n",
    "\n",
    "# Exact centralities (HEAVY WORK)\n",
    "start = time.time()\n",
    "bet_vpm, bet_epm = gt.betweenness(g, norm=True)\n",
    "elapsed = time.time() - start\n",
    "print(\"GT for Betweenness time : \" + str(elapsed))\n",
    "\n",
    "start = time.time()\n",
    "clos_v = gt.closeness(g, norm=True) \n",
    "elapsed = time.time() - start\n",
    "print(\"GT for Closeness time : \" + str(elapsed))\n",
    "\n",
    "start = time.time()\n",
    "eigenvalue, eigenvector = gt.eigenvector(g)\n",
    "elapsed = time.time() - start\n",
    "print(\"GT for Eigenvector time : \" + str(elapsed))"
   ]
  },
  {
   "cell_type": "code",
   "execution_count": 73,
   "id": "af5e6a76-4c70-4b70-8aff-88a7caaf8d0c",
   "metadata": {
    "tags": []
   },
   "outputs": [],
   "source": [
    "CELLS_RUNNED[14] = 1\n",
    "####################\n",
    "\n",
    "betw_value = []\n",
    "clos_value = []\n",
    "eign_value = []\n",
    "i, j, k = 0, 0, 0\n",
    "for v in bet_vpm:\n",
    "    betw_value.append(v)\n",
    "    i += 1\n",
    "\n",
    "for v in clos_v:\n",
    "    clos_value.append(v)\n",
    "    j += 1\n",
    "\n",
    "l2_norm = 0\n",
    "for v in eigenvector:  \n",
    "    eign_value.append(v)\n",
    "    l2_norm += v**2\n",
    "    k += 1\n",
    "l2_norm = np.sqrt(l2_norm)\n",
    "    \n",
    "assert (i==j and j==k)\n",
    "    \n",
    "vertex_id = np.arange(i)\n",
    "centralities = pd.DataFrame({\"vertex_id\": vertex_id, \"betweenness\": betw_value, \"closeness\": clos_value,\n",
    "                             \"eigenvector\": eign_value/l2_norm})\n",
    "centralities.to_csv(os.path.join(PATH_TO_STATS_FOLDER, RAW_GRAPH_FOLDER+\"_centralities.csv\"), index=False)"
   ]
  },
  {
   "attachments": {},
   "cell_type": "markdown",
   "id": "6a06dd5d-81a5-4616-8ee0-d68e90ab025c",
   "metadata": {},
   "source": [
    "---"
   ]
  },
  {
   "cell_type": "code",
   "execution_count": 74,
   "id": "899367e0-0ddc-49cf-a220-c6f475099f03",
   "metadata": {
    "tags": []
   },
   "outputs": [],
   "source": [
    "assert all(CELLS_RUNNED)\n",
    "\n",
    "with open(os.path.join(PATH_TO_STATS_FOLDER, RAW_GRAPH_FOLDER+\"_degree_stats.json\"), 'w') as fp:\n",
    "    json.dump(degree_distr_stats, fp)\n",
    "    \n",
    "with open(os.path.join(PATH_TO_STATS_FOLDER, RAW_GRAPH_FOLDER+\"_basic_stats.json\"), 'w') as fp:\n",
    "    json.dump(basic_statistics, fp)\n",
    "    \n",
    "CELLS_RUNNED = np.zeros(15)"
   ]
  },
  {
   "attachments": {},
   "cell_type": "markdown",
   "id": "9ca8ce64-1aaf-47c6-bb29-b15885587e4d",
   "metadata": {},
   "source": [
    "---"
   ]
  },
  {
   "attachments": {},
   "cell_type": "markdown",
   "id": "e9274a5d-3a2d-4233-93c1-43fb4db489db",
   "metadata": {
    "tags": []
   },
   "source": [
    "## Tests Against Theoretical Networks\n",
    "\n",
    "In this section we will produce code to compare the statistics obtained with a null model (ER network) and a BA model."
   ]
  },
  {
   "cell_type": "code",
   "execution_count": 18,
   "id": "d6f2c141-3bef-4b59-8409-46229a915f26",
   "metadata": {
    "tags": []
   },
   "outputs": [],
   "source": [
    "with open(os.path.join(PATH_TO_STATS_FOLDER, RAW_GRAPH_FOLDER+\"_degree_stats.json\")) as fp:\n",
    "    degree_distr_stats = json.load(fp)"
   ]
  },
  {
   "attachments": {},
   "cell_type": "markdown",
   "id": "9191bc63-2234-4d56-a356-433279ea8e10",
   "metadata": {},
   "source": [
    "### Degree Distribution Comparison"
   ]
  },
  {
   "cell_type": "code",
   "execution_count": 19,
   "id": "efd43541-6b80-478e-8da4-fd2e87500f1c",
   "metadata": {
    "tags": []
   },
   "outputs": [],
   "source": [
    "from scipy.stats import poisson\n",
    "\n",
    "count_poisson = []\n",
    "for d in degrees:\n",
    "    count_poisson.append(poisson.pmf(d, mu=degree_distr_stats['average_degree'][0])*g.num_vertices())\n",
    "    \n",
    "# sorted([(d,c) for d,c in zip(degrees, count_poisson)], key=lambda d: d[0])"
   ]
  },
  {
   "cell_type": "code",
   "execution_count": 20,
   "id": "d0b74fd0-cbf4-4c07-9e51-f658d92e3d03",
   "metadata": {
    "tags": []
   },
   "outputs": [],
   "source": [
    "degree_clean = []\n",
    "count_clean = []\n",
    "\n",
    "for d,c in zip(degrees, count_poisson):\n",
    "    if c >= 1:\n",
    "        degree_clean.append(d)\n",
    "        count_clean.append(c)"
   ]
  },
  {
   "cell_type": "code",
   "execution_count": 21,
   "id": "d4d317e8-92eb-446b-9698-aa2c1b48e06e",
   "metadata": {
    "tags": []
   },
   "outputs": [],
   "source": [
    "p = (degree_distr_stats[\"average_degree\"][0] + degree_distr_stats[\"average_degree\"][1])/(g.num_vertices()-1)\n",
    "er = nk.generators.ErdosRenyiGenerator(g.num_vertices(), prob=p)\n",
    "erg = er.generate()\n",
    "\n",
    "erg_dd = sorted(nk.centrality.DegreeCentrality(erg).run().scores(), reverse=True)\n",
    "erg_degrees, erg_count = np.unique(erg_dd, return_counts=True)"
   ]
  },
  {
   "cell_type": "code",
   "execution_count": 80,
   "id": "3cb9bb4a-9e83-4b57-8b25-6d295a343349",
   "metadata": {
    "tags": []
   },
   "outputs": [],
   "source": [
    "ba = nk.generators.BarabasiAlbertGenerator(18, g.num_vertices(), n0=0, batagelj=False)\n",
    "bag = ba.generate()\n",
    "\n",
    "bag_dd = sorted(nk.centrality.DegreeCentrality(bag).run().scores(), reverse=True)\n",
    "bag_degrees, bag_count = np.unique(bag_dd, return_counts=True)\n"
   ]
  },
  {
   "cell_type": "code",
   "execution_count": 138,
   "id": "b19f1610-b7f3-4087-8cec-2704fa89ee3f",
   "metadata": {
    "tags": []
   },
   "outputs": [],
   "source": [
    "plt.figure(figsize=(11,7))\n",
    "sns.scatterplot(x=degree_clean, y=count_clean, \n",
    "                hue=np.repeat(\"Theoretical Poisson\", len(degree_clean)), palette=[COLOR_THREE], \n",
    "                edgecolor=\"black\", linewidth=0.2, alpha=1)\n",
    "\n",
    "sns.scatterplot(x=erg_degrees, y=erg_count, \n",
    "                hue=np.repeat(\"Erdos-Renyi\", len(erg_degrees)), palette=[ER_COLOR], \n",
    "                edgecolor=\"black\", linewidth=0.3, alpha=1)\n",
    "\n",
    "plt.savefig(os.path.join(PATH_TO_PLOTS_FOLDER, RAW_GRAPH_FOLDER + \"_poisson_er.pdf\"))\n",
    "plt.close()"
   ]
  },
  {
   "cell_type": "code",
   "execution_count": 141,
   "id": "baceac94-99da-4d86-b027-180036fed700",
   "metadata": {
    "tags": []
   },
   "outputs": [],
   "source": [
    "plt.figure(figsize=(11,7))\n",
    "plt.xscale('log')\n",
    "plt.xlabel(\"Degree\")\n",
    "plt.yscale('log')\n",
    "plt.ylabel(\"Number of Nodes\")\n",
    "\n",
    "\n",
    "sns.scatterplot(x=bag_degrees, y=bag_count, \n",
    "                hue=np.repeat(\"BA\", len(bag_degrees)), palette=[BA_COLOR], \n",
    "                edgecolor=\"black\", linewidth=0.3, alpha=1, marker=\"o\")\n",
    "\n",
    "sns.scatterplot(x=degrees, y=count, \n",
    "                hue=np.repeat(\"NoM\", len(degrees)), palette=[NOM_COLOR], \n",
    "                edgecolor=\"black\", linewidth=0.3, alpha=1, marker='.')\n",
    "\n",
    "plt.axvline(x=48, color=\"black\") # xmin\n",
    "plt.savefig(os.path.join(PATH_TO_PLOTS_FOLDER, RAW_GRAPH_FOLDER + \"_degree_dis_theory_real.pdf\"))\n",
    "plt.close()"
   ]
  },
  {
   "cell_type": "code",
   "execution_count": 125,
   "id": "7752fc79-1eaa-497b-8dd4-7e3dd88861b8",
   "metadata": {
    "tags": []
   },
   "outputs": [],
   "source": [
    "clustering_degree = list(zip(local_clustering_coefficient, nk.centrality.DegreeCentrality(G).run().scores()))\n",
    "clustering_degree_sorted = sorted([(c, d) for c,d in clustering_degree], key=lambda kp: kp[1])\n",
    "cl = [c for c,_ in clustering_degree_sorted]\n",
    "de = [d for _,d in clustering_degree_sorted]\n",
    "\n",
    "clustering_degree_erg = list(zip(nk.centrality.LocalClusteringCoefficient(erg).run().scores(),\n",
    "                             nk.centrality.DegreeCentrality(erg).run().scores()))\n",
    "clustering_degree_sorted_erg = sorted([(c, d) for c,d in clustering_degree_erg], key=lambda kp: kp[1])\n",
    "cl_erg = [c for c,_ in clustering_degree_sorted_erg]\n",
    "de_erg = [d for _,d in clustering_degree_sorted_erg]\n",
    "\n",
    "plt.figure(figsize=(11,7))\n",
    "plt.xscale('log')\n",
    "plt.xlabel(\"Degree\")\n",
    "plt.yscale('log')\n",
    "plt.ylabel(\"Clustering Coefficient\")\n",
    "fig = sns.scatterplot(x=de_erg, y=cl_erg,\n",
    "                hue=np.repeat(\"Clust\", len(de)), palette=[ER_COLOR], \n",
    "                edgecolor=\"black\", linewidth=0.1, alpha=0.7, legend=None).get_figure()\n",
    "fig.savefig(os.path.join(PATH_TO_PLOTS_FOLDER, RAW_GRAPH_FOLDER + \"_clustering_er.pdf\"))\n",
    "plt.close()\n",
    "\n",
    "plt.figure(figsize=(11,7))\n",
    "plt.xscale('log')\n",
    "plt.xlabel(\"Degree\")\n",
    "plt.yscale('log')\n",
    "plt.ylabel(\"Clustering Coefficient\")\n",
    "fig = sns.scatterplot(x=de, y=cl,\n",
    "                hue=np.repeat(\"Clust\", len(de)), palette=[NOM_COLOR], \n",
    "                edgecolor=\"black\", linewidth=0.1, alpha=0.7, legend=None).get_figure()\n",
    "fig.savefig(os.path.join(PATH_TO_PLOTS_FOLDER, RAW_GRAPH_FOLDER + \"_clustering_nom.pdf\"))\n",
    "plt.close()"
   ]
  },
  {
   "cell_type": "code",
   "execution_count": 114,
   "id": "725f9104-b3bc-426b-a3a7-06847f9080a6",
   "metadata": {
    "tags": []
   },
   "outputs": [],
   "source": [
    "ba_high = nk.generators.BarabasiAlbertGenerator(58, g.num_vertices(), n0=0, batagelj=False)\n",
    "bag_high = ba_high.generate()\n",
    "bag_dd_high = sorted(nk.centrality.DegreeCentrality(bag_high).run().scores(), reverse=True)\n",
    "bag_degrees_high, bag_count_high = np.unique(bag_dd_high, return_counts=True)\n",
    "\n",
    "ba_low = nk.generators.BarabasiAlbertGenerator(3, g.num_vertices(), n0=0, batagelj=False)\n",
    "bag_low = ba_low.generate()\n",
    "bag_dd_low = sorted(nk.centrality.DegreeCentrality(bag_low).run().scores(), reverse=True)\n",
    "bag_degrees_low, bag_count_low = np.unique(bag_dd_low, return_counts=True)"
   ]
  },
  {
   "cell_type": "code",
   "execution_count": 115,
   "id": "bdc52523-b7e9-4a30-b387-dd1ae44ee087",
   "metadata": {
    "tags": []
   },
   "outputs": [
    {
     "name": "stdout",
     "output_type": "stream",
     "text": [
      "Calculating best minimal value for power law fit\n",
      "Alpha:  2.96367228046989  XMin:  58.0\n",
      "Alpha (TPL):  2.9468803549591063 , Lambda (TPL):  7.571740913693468e-05 , XMin:  58.0\n",
      "Mu:  -246.90278643389308 , Sigma:  11.329551564219031 , XMin:  58.0\n",
      "Calculating best minimal value for power law fit\n",
      "Alpha:  2.773140100776507  XMin:  6.0\n",
      "Alpha (TPL):  2.7390938277592136 , Lambda (TPL):  0.0022582407457654224 , XMin:  6.0\n",
      "Mu:  -11.271367001340217 , Sigma:  2.805622527480198 , XMin:  6.0\n"
     ]
    }
   ],
   "source": [
    "fitted = powerlaw.Fit(bag_dd_high, discrete=True, fit_method=\"Likelihood\")\n",
    "print(\"Alpha: \", fitted.alpha, \" XMin: \", fitted.xmin)\n",
    "print(\"Alpha (TPL): \", fitted.truncated_power_law.alpha, \", Lambda (TPL): \", fitted.truncated_power_law.Lambda, \", XMin: \", fitted.xmin)\n",
    "print(\"Mu: \", fitted.lognormal.mu, \", Sigma: \", fitted.lognormal.sigma, \", XMin: \", fitted.xmin)\n",
    "\n",
    "fitted = powerlaw.Fit(bag_dd_low, discrete=True, fit_method=\"Likelihood\")\n",
    "print(\"Alpha: \", fitted.alpha, \" XMin: \", fitted.xmin)\n",
    "print(\"Alpha (TPL): \", fitted.truncated_power_law.alpha, \", Lambda (TPL): \", fitted.truncated_power_law.Lambda, \", XMin: \", fitted.xmin)\n",
    "print(\"Mu: \", fitted.lognormal.mu, \", Sigma: \", fitted.lognormal.sigma, \", XMin: \", fitted.xmin)"
   ]
  },
  {
   "cell_type": "code",
   "execution_count": 116,
   "id": "833591c1-e1e6-41f1-9828-4865889ddab9",
   "metadata": {
    "tags": []
   },
   "outputs": [],
   "source": [
    "writergml.write(bag_high, os.path.join(PATH_TO_TEMP_FOLDER, \"temp_ba_high.graphml\"))\n",
    "writergml.write(bag_low, os.path.join(PATH_TO_TEMP_FOLDER, \"temp_ba_low.graphml\"))"
   ]
  },
  {
   "cell_type": "code",
   "execution_count": 17,
   "id": "2c8c57e1-a603-4823-8211-627ea35701a1",
   "metadata": {
    "tags": []
   },
   "outputs": [],
   "source": [
    "bag_low = gt.load_graph(os.path.join(PATH_TO_TEMP_FOLDER, \"temp_ba_low.graphml\"))\n",
    "bag_high = gt.load_graph(os.path.join(PATH_TO_TEMP_FOLDER, \"temp_ba_high.graphml\"))"
   ]
  },
  {
   "attachments": {},
   "cell_type": "markdown",
   "id": "2c738b13-a767-468e-96f2-e9e7cfc552c0",
   "metadata": {},
   "source": [
    "---"
   ]
  },
  {
   "attachments": {},
   "cell_type": "markdown",
   "id": "54753dd9-051c-458f-8441-0ca2a410b88f",
   "metadata": {},
   "source": [
    "### Centrality Comparisons"
   ]
  },
  {
   "cell_type": "code",
   "execution_count": 24,
   "id": "600c0430-e502-4b43-9062-08faa2ef1d92",
   "metadata": {
    "tags": []
   },
   "outputs": [
    {
     "name": "stdout",
     "output_type": "stream",
     "text": [
      "GT for Betweenness time : 138.67091250419617\n",
      "GT for Closeness time : 48.03222703933716\n",
      "GT for Eigenvector time : 0.008581876754760742\n"
     ]
    }
   ],
   "source": [
    "# Exact centralities (HEAVY WORK)\n",
    "start = time.time()\n",
    "bet_vpm, bet_epm = gt.betweenness(ger, norm=True)\n",
    "elapsed = time.time() - start\n",
    "print(\"GT for Betweenness time : \" + str(elapsed))\n",
    "\n",
    "start = time.time()\n",
    "clos_v = gt.closeness(ger, norm=True) \n",
    "elapsed = time.time() - start\n",
    "print(\"GT for Closeness time : \" + str(elapsed))\n",
    "\n",
    "start = time.time()\n",
    "eigenvalue, eigenvector = gt.eigenvector(ger)\n",
    "elapsed = time.time() - start\n",
    "print(\"GT for Eigenvector time : \" + str(elapsed))\n",
    "\n",
    "betw_value = []\n",
    "clos_value = []\n",
    "eign_value = []\n",
    "i, j, k = 0, 0, 0\n",
    "for v in bet_vpm:\n",
    "    betw_value.append(v)\n",
    "    i += 1\n",
    "\n",
    "for v in clos_v:\n",
    "    clos_value.append(v)\n",
    "    j += 1\n",
    "\n",
    "l2_norm = 0\n",
    "for v in eigenvector:  \n",
    "    eign_value.append(v)\n",
    "    l2_norm += v**2\n",
    "    k += 1\n",
    "l2_norm = np.sqrt(l2_norm)\n",
    "    \n",
    "assert (i==j and j==k)"
   ]
  },
  {
   "cell_type": "code",
   "execution_count": 25,
   "id": "4682f503-d929-477f-996d-db414cc9dba4",
   "metadata": {
    "tags": []
   },
   "outputs": [],
   "source": [
    "vertex_id = np.arange(i)\n",
    "centralities_nom = pd.read_csv(os.path.join(PATH_TO_STATS_FOLDER, RAW_GRAPH_FOLDER+\"_centralities.csv\"))\n",
    "centralities_ger = pd.DataFrame({\"vertex_id\": vertex_id, \"betweenness\": betw_value, \"closeness\": clos_value,\n",
    "                             \"eigenvector\": eign_value/l2_norm})"
   ]
  },
  {
   "cell_type": "code",
   "execution_count": 26,
   "id": "4527d08f-0d35-4aa1-9c6f-164cfce01f08",
   "metadata": {
    "tags": []
   },
   "outputs": [],
   "source": [
    "joined = centralities_nom.join(centralities_ger, lsuffix='_nom', rsuffix='_ger')\n",
    "joined = joined.drop([\"vertex_id_ger\"], axis=1)"
   ]
  },
  {
   "cell_type": "code",
   "execution_count": 88,
   "id": "00fc003b-9638-4c9b-bc9c-af540b05680f",
   "metadata": {
    "tags": []
   },
   "outputs": [],
   "source": [
    "betweenness = pd.concat([joined[\"betweenness_nom\"], joined[\"betweenness_ger\"]], ignore_index=True)\n",
    "closeness = pd.concat([joined[\"closeness_nom\"], joined[\"closeness_ger\"]], ignore_index=True)\n",
    "eigenvector = pd.concat([joined[\"eigenvector_nom\"], joined[\"eigenvector_ger\"]], ignore_index=True)\n",
    "centrality_type = np.repeat([\"Betweenness\", \"Closeness\", \"Eigenvector\"], betweenness.shape[0]) \n",
    "network_type = np.tile(np.repeat([\"NoM\", \"ER\"], betweenness.shape[0]//2), 3)\n",
    "\n",
    "melted = pd.DataFrame({\"Values\": pd.concat([betweenness, closeness, eigenvector]),\n",
    "                    \"Centrality Type\": centrality_type, \"Network Type\": network_type})"
   ]
  },
  {
   "cell_type": "code",
   "execution_count": 89,
   "id": "bead4a57-596b-4ce5-ab7e-ca154be00be9",
   "metadata": {
    "tags": []
   },
   "outputs": [
    {
     "data": {
      "text/plain": [
       "<Figure size 1100x700 with 0 Axes>"
      ]
     },
     "metadata": {},
     "output_type": "display_data"
    }
   ],
   "source": [
    "plt.figure(figsize=(11,7))\n",
    "g = sns.FacetGrid(melted, row=\"Centrality Type\", col=\"Network Type\", \n",
    "                  hue=\"Network Type\", palette=[NOM_COLOR, ER_COLOR], sharex=False, sharey=False)\n",
    "g.map(sns.histplot, \"Values\", element=\"step\")\n",
    "g.set_titles(col_template=\"{col_name}\", fontweight='bold', size=10)\n",
    "\n",
    "plt.savefig(os.path.join(PATH_TO_PLOTS_FOLDER, RAW_GRAPH_FOLDER + \"_centralities.pdf\"), bbox_inches=\"tight\")\n",
    "plt.close()"
   ]
  },
  {
   "attachments": {},
   "cell_type": "markdown",
   "id": "86104009-22ae-4c79-8c77-22be1903e5ad",
   "metadata": {},
   "source": [
    "---"
   ]
  },
  {
   "attachments": {},
   "cell_type": "markdown",
   "id": "779cfebf-5de6-4c4b-83de-a9e624eaf080",
   "metadata": {},
   "source": [
    "## Percolation \n",
    "\n",
    "In this section experiments related with percolation theory are done."
   ]
  },
  {
   "cell_type": "code",
   "execution_count": 19,
   "id": "17780e2d-888d-49b3-bca9-ee14b1c4b8c3",
   "metadata": {
    "tags": []
   },
   "outputs": [],
   "source": [
    "# vertices_plot = list(map(lambda v: v.out_degree(), sorted([v for v in g.vertices()], key=lambda v: -v.out_degree())))\n",
    "vertices = sorted([v for v in g.vertices()], key=lambda v: v.out_degree())\n",
    "vertices_bag_high = sorted([v for v in bag_high.vertices()], key=lambda v: v.out_degree())\n",
    "vertices_bag_low = sorted([v for v in bag_low.vertices()], key=lambda v: v.out_degree())"
   ]
  },
  {
   "cell_type": "code",
   "execution_count": 20,
   "id": "f8fde000-de46-44c1-8cf4-41a11c5f9dc8",
   "metadata": {
    "tags": []
   },
   "outputs": [],
   "source": [
    "sizes, comp = gt.vertex_percolation(g, vertices)\n",
    "np.random.shuffle(vertices)\n",
    "sizes2, comp = gt.vertex_percolation(g, vertices)\n",
    "\n",
    "sizes_bag_high, comp_bag_high = gt.vertex_percolation(bag_high, vertices_bag_high)\n",
    "np.random.shuffle(vertices_bag_high)\n",
    "sizes2_bag_high, comp_bag_high = gt.vertex_percolation(bag_high, vertices_bag_high)\n",
    "\n",
    "sizes_bag_low, comp_bag_low = gt.vertex_percolation(bag_low, vertices_bag_low)\n",
    "np.random.shuffle(vertices_bag_low)\n",
    "sizes2_bag_low, comp_bag_low = gt.vertex_percolation(bag_low, vertices_bag_low)"
   ]
  },
  {
   "cell_type": "code",
   "execution_count": 21,
   "id": "28343123-e27d-4a12-9ecf-4261651e8093",
   "metadata": {
    "tags": []
   },
   "outputs": [],
   "source": [
    "ds = pd.DataFrame({\"Size Largest Component\": np.append(sizes,sizes2), \n",
    "                   \"Removal Order\": np.repeat([\"By Decreasing Degree\", \"Random\"], len(sizes)),\n",
    "                   \"Vertices Remaining\": np.append(np.arange(g.num_vertices()), np.arange(g.num_vertices()))})\n",
    "\n",
    "ds_bag_high = pd.DataFrame({\"Size Largest Component\": np.append(sizes_bag_high,sizes2_bag_high), \n",
    "                   \"Removal Order\": np.repeat([\"By Decreasing Degree\", \"Random\"], len(sizes2_bag_high)),\n",
    "                   \"Vertices Remaining\": np.append(np.arange(bag_high.num_vertices()), np.arange(bag_high.num_vertices()))})\n",
    "\n",
    "ds_bag_low = pd.DataFrame({\"Size Largest Component\": np.append(sizes_bag_low,sizes2_bag_low), \n",
    "                   \"Removal Order\": np.repeat([\"By Decreasing Degree\", \"Random\"], len(sizes2_bag_low)),\n",
    "                   \"Vertices Remaining\": np.append(np.arange(bag_low.num_vertices()), np.arange(bag_low.num_vertices()))})"
   ]
  },
  {
   "cell_type": "code",
   "execution_count": 22,
   "id": "07f60ba5-f1f5-46a8-ad82-ddbc52458fcb",
   "metadata": {
    "tags": []
   },
   "outputs": [],
   "source": [
    "fig, (ax1, ax2, ax3) = plt.subplots(3, sharex=True, figsize=(11,8))\n",
    "\n",
    "\n",
    "sns.lineplot(data=ds_bag_high, x='Vertices Remaining', y='Size Largest Component', hue=\"Removal Order\", \n",
    "             style=\"Removal Order\", palette=[COLOR_ONE, ER_COLOR], markers=False, ax=ax1)\n",
    "ax1.title.set_text(\"BA - Alpha ~ 3, kmin = 58\")\n",
    "\n",
    "sns.lineplot(data=ds, x='Vertices Remaining', y='Size Largest Component', hue=\"Removal Order\", \n",
    "             style=\"Removal Order\", palette=[COLOR_TWO, ER_COLOR], markers=False, ax=ax2)\n",
    "ax2.title.set_text(\"NoM - Alpha = 3.11, kmin = 48\")\n",
    "\n",
    "sns.lineplot(data=ds_bag_low, x='Vertices Remaining', y='Size Largest Component', hue=\"Removal Order\", \n",
    "             style=\"Removal Order\", palette=[COLOR_THREE, ER_COLOR], markers=False, ax=ax3)\n",
    "ax3.title.set_text(\"BA - Alpha ~ 3, kmin = 6\")\n",
    "\n",
    "plt.savefig(os.path.join(PATH_TO_PLOTS_FOLDER, RAW_GRAPH_FOLDER + \"_site_percolation.pdf\"), bbox_inches=\"tight\")\n",
    "plt.close()"
   ]
  },
  {
   "cell_type": "code",
   "execution_count": 23,
   "id": "76330f45-08c6-41ab-b40e-ab52c5a38fcd",
   "metadata": {
    "tags": []
   },
   "outputs": [],
   "source": [
    "edges = sorted([(e.source(), e.target()) for e in g.edges()],\n",
    "                 key=lambda e: e[0].out_degree() * e[1].out_degree())\n",
    "\n",
    "edges_high = sorted([(e.source(), e.target()) for e in bag_high.edges()],\n",
    "                 key=lambda e: e[0].out_degree() * e[1].out_degree())\n",
    "\n",
    "edges_low = sorted([(e.source(), e.target()) for e in bag_low.edges()],\n",
    "                 key=lambda e: e[0].out_degree() * e[1].out_degree())"
   ]
  },
  {
   "cell_type": "code",
   "execution_count": 24,
   "id": "12aa9d99-c8c8-4fdd-8387-536a2cbffbf9",
   "metadata": {
    "tags": []
   },
   "outputs": [],
   "source": [
    "sizes, comp = gt.edge_percolation(g, edges)\n",
    "np.random.shuffle(edges)\n",
    "sizes2, comp = gt.edge_percolation(g, edges)\n",
    "\n",
    "sizes_high, comp_high = gt.edge_percolation(bag_high, edges_high)\n",
    "np.random.shuffle(edges_high)\n",
    "sizes2_high, comp_high = gt.edge_percolation(bag_high, edges_high)\n",
    "\n",
    "sizes_low, comp_low = gt.edge_percolation(bag_low, edges_low)\n",
    "np.random.shuffle(edges_low)\n",
    "sizes2_low, comp_low = gt.edge_percolation(bag_low, edges_low)"
   ]
  },
  {
   "cell_type": "code",
   "execution_count": 25,
   "id": "5e98d43c-5abd-4aa8-ad51-d7665827f879",
   "metadata": {
    "tags": []
   },
   "outputs": [],
   "source": [
    "ds = pd.DataFrame({\"Size Largest Component\": np.append(sizes,sizes2), \n",
    "                   \"Removal Order\": np.repeat([\"By Decreasing Degree\", \"Random\"], len(sizes)),\n",
    "                   \"Edges Remaining\": np.append(np.arange(g.num_edges()), np.arange(g.num_edges()))})\n",
    "\n",
    "ds_bag_high = pd.DataFrame({\"Size Largest Component\": np.append(sizes_high,sizes2_high), \n",
    "                   \"Removal Order\": np.repeat([\"By Decreasing Degree\", \"Random\"], len(sizes2_high)),\n",
    "                   \"Edges Remaining\": np.append(np.arange(bag_high.num_edges()), np.arange(bag_high.num_edges()))})\n",
    "\n",
    "ds_bag_low = pd.DataFrame({\"Size Largest Component\": np.append(sizes_low,sizes2_low), \n",
    "                   \"Removal Order\": np.repeat([\"By Decreasing Degree\", \"Random\"], len(sizes_low)),\n",
    "                   \"Edges Remaining\": np.append(np.arange(bag_low.num_edges()), np.arange(bag_low.num_edges()))})"
   ]
  },
  {
   "cell_type": "code",
   "execution_count": null,
   "id": "b6baaf44-d9e3-4093-8891-5e11721587f4",
   "metadata": {
    "tags": []
   },
   "outputs": [],
   "source": [
    "fig, (ax1, ax2, ax3) = plt.subplots(3, sharex=False, figsize=(11,8))\n",
    "\n",
    "\n",
    "sns.lineplot(data=ds_bag_high, x='Edges Remaining', y='Size Largest Component', hue=\"Removal Order\", \n",
    "             style=\"Removal Order\", palette=[COLOR_ONE, ER_COLOR], markers=False, ax=ax1)\n",
    "ax1.title.set_text(\"BA - Alpha ~ 3, kmin = 58\")\n",
    "\n",
    "sns.lineplot(data=ds, x='Edges Remaining', y='Size Largest Component', hue=\"Removal Order\", \n",
    "             style=\"Removal Order\", palette=[COLOR_TWO, ER_COLOR], markers=False, ax=ax2)\n",
    "ax2.title.set_text(\"NoM - Alpha = 3.11, kmin = 48\")\n",
    "\n",
    "sns.lineplot(data=ds_bag_low, x='Edges Remaining', y='Size Largest Component', hue=\"Removal Order\", \n",
    "             style=\"Removal Order\", palette=[COLOR_THREE, ER_COLOR], markers=False, ax=ax3)\n",
    "ax3.title.set_text(\"BA - Alpha ~ 3, kmin = 6\")\n",
    "fig.tight_layout()\n",
    "\n",
    "plt.savefig(os.path.join(PATH_TO_PLOTS_FOLDER, RAW_GRAPH_FOLDER + \"_bond_percolation.pdf\"), bbox_inches=\"tight\")\n",
    "plt.close()"
   ]
  },
  {
   "attachments": {},
   "cell_type": "markdown",
   "id": "84e76bd2-9e0b-41a8-a4be-bdbd39fbe5e3",
   "metadata": {},
   "source": [
    "---"
   ]
  },
  {
   "attachments": {},
   "cell_type": "markdown",
   "id": "bb0505b8-2c84-4768-a7c2-325937e11335",
   "metadata": {},
   "source": [
    "## Cascade Behaviour - SI/SIR Models"
   ]
  },
  {
   "cell_type": "code",
   "execution_count": 49,
   "id": "16d3ce44-bb37-4904-9402-f16a3b586bf4",
   "metadata": {
    "tags": []
   },
   "outputs": [],
   "source": [
    "state = gt.SIRState(g, beta=0.056, gamma=0.38) # mu=0.38"
   ]
  },
  {
   "cell_type": "code",
   "execution_count": 50,
   "id": "47ff8eab-07ed-49d7-902e-6e406ce2770d",
   "metadata": {
    "tags": []
   },
   "outputs": [],
   "source": [
    "S, X, R = [], [], []\n",
    "\n",
    "for t in range(80):\n",
    "    ret = state.iterate_sync()\n",
    "    s = state.get_state().fa\n",
    "    S.append((s == 0).sum())\n",
    "    X.append((s == 1).sum())\n",
    "    R.append((s == 2).sum())"
   ]
  },
  {
   "cell_type": "code",
   "execution_count": 51,
   "id": "e8a5514e-3b24-45df-b8fe-4c50a299775b",
   "metadata": {
    "tags": []
   },
   "outputs": [],
   "source": [
    "plt.figure(figsize=(11, 7))\n",
    "plt.plot(S, label=\"Normally Susceptible To Scam\", c=COLOR_ONE)\n",
    "plt.plot(X, label=\"Scammed\", c=COLOR_TWO)\n",
    "plt.plot(R, label=\"Immune to Scam\", c=COLOR_THREE) # Hyper-aware to Scam\n",
    "plt.legend(loc=\"center right\")\n",
    "plt.xlabel(\"Time\")\n",
    "plt.ylabel(\"Number of Nodes\")\n",
    "\n",
    "plt.savefig(os.path.join(PATH_TO_PLOTS_FOLDER, RAW_GRAPH_FOLDER + \"_sir.pdf\"), bbox_inches=\"tight\")\n",
    "plt.close()"
   ]
  },
  {
   "attachments": {},
   "cell_type": "markdown",
   "id": "687165c5-7cef-4a8b-8e3c-622ea741e7c6",
   "metadata": {},
   "source": [
    "---"
   ]
  },
  {
   "attachments": {},
   "cell_type": "markdown",
   "id": "9af72468-edcd-4d7e-bcfc-bb760641ba09",
   "metadata": {},
   "source": [
    "## Motifs"
   ]
  },
  {
   "cell_type": "code",
   "execution_count": null,
   "id": "86b7fd6e-d5d3-47c0-8768-c56d03974bd1",
   "metadata": {
    "tags": []
   },
   "outputs": [],
   "source": [
    "motifs, zscore = gt.motif_significance(g, 4, n_shuffles=50)"
   ]
  },
  {
   "attachments": {},
   "cell_type": "markdown",
   "id": "c9af1833-e3a2-4605-bcb7-362a0fa30eec",
   "metadata": {},
   "source": [
    "---"
   ]
  }
 ],
 "metadata": {
  "kernelspec": {
   "display_name": "Python 3 (ipykernel)",
   "language": "python",
   "name": "python3"
  },
  "language_info": {
   "codemirror_mode": {
    "name": "ipython",
    "version": 3
   },
   "file_extension": ".py",
   "mimetype": "text/x-python",
   "name": "python",
   "nbconvert_exporter": "python",
   "pygments_lexer": "ipython3",
   "version": "3.10.10"
  }
 },
 "nbformat": 4,
 "nbformat_minor": 5
}
