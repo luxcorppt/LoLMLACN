{
 "cells": [
  {
   "cell_type": "code",
   "execution_count": 1,
   "id": "c3bedf17-2406-42f1-8241-f1dbb6081338",
   "metadata": {
    "tags": []
   },
   "outputs": [
    {
     "data": {
      "text/html": [
       "\n",
       "\t\t\t<script type=\"text/javascript\">\n",
       "\t\t\t<!--\n",
       "\t\t\t\t\n",
       "\t\t\t{\n",
       "\t\t\t\tvar element = document.getElementById('NetworKit_script');\n",
       "\t\t\t\tif (element) {\n",
       "\t\t\t\t\telement.parentNode.removeChild(element);\n",
       "\t\t\t\t}\n",
       "\t\t\t\telement = document.createElement('script');\n",
       "\t\t\t\telement.type = 'text/javascript';\n",
       "\t\t\t\telement.innerHTML = 'function NetworKit_pageEmbed(id) { var i, j; var elements; elements = document.getElementById(id).getElementsByClassName(\"Plot\"); for (i=0; i<elements.length; i++) { elements[i].id = id + \"_Plot_\" + i; var data = elements[i].getAttribute(\"data-image\").split(\"|\"); elements[i].removeAttribute(\"data-image\"); var content = \"<div class=\\\\\"Image\\\\\" id=\\\\\"\" + elements[i].id + \"_Image\\\\\" />\"; elements[i].innerHTML = content; elements[i].setAttribute(\"data-image-index\", 0); elements[i].setAttribute(\"data-image-length\", data.length); for (j=0; j<data.length; j++) { elements[i].setAttribute(\"data-image-\" + j, data[j]); } NetworKit_plotUpdate(elements[i]); elements[i].onclick = function (e) { NetworKit_overlayShow((e.target) ? e.target : e.srcElement); } } elements = document.getElementById(id).getElementsByClassName(\"HeatCell\"); for (i=0; i<elements.length; i++) { var data = parseFloat(elements[i].getAttribute(\"data-heat\")); var color = \"#00FF00\"; if (data <= 1 && data > 0) { color = \"hsla(0, 100%, 75%, \" + (data) + \")\"; } else if (data <= 0 && data >= -1) { color = \"hsla(240, 100%, 75%, \" + (-data) + \")\"; } elements[i].style.backgroundColor = color; } elements = document.getElementById(id).getElementsByClassName(\"Details\"); for (i=0; i<elements.length; i++) { elements[i].setAttribute(\"data-title\", \"-\"); NetworKit_toggleDetails(elements[i]); elements[i].onclick = function (e) { NetworKit_toggleDetails((e.target) ? e.target : e.srcElement); } } elements = document.getElementById(id).getElementsByClassName(\"MathValue\"); for (i=elements.length-1; i>=0; i--) { value = elements[i].innerHTML.trim(); if (value === \"nan\") { elements[i].parentNode.innerHTML = \"\" } } elements = document.getElementById(id).getElementsByClassName(\"SubCategory\"); for (i=elements.length-1; i>=0; i--) { value = elements[i].innerHTML.trim(); if (value === \"\") { elements[i].parentNode.removeChild(elements[i]) } } elements = document.getElementById(id).getElementsByClassName(\"Category\"); for (i=elements.length-1; i>=0; i--) { value = elements[i].innerHTML.trim(); if (value === \"\") { elements[i].parentNode.removeChild(elements[i]) } } var isFirefox = false; try { isFirefox = typeof InstallTrigger !== \"undefined\"; } catch (e) {} if (!isFirefox) { alert(\"Currently the function\\'s output is only fully supported by Firefox.\"); } } function NetworKit_plotUpdate(source) { var index = source.getAttribute(\"data-image-index\"); var data = source.getAttribute(\"data-image-\" + index); var image = document.getElementById(source.id + \"_Image\"); image.style.backgroundImage = \"url(\" + data + \")\"; } function NetworKit_showElement(id, show) { var element = document.getElementById(id); element.style.display = (show) ? \"block\" : \"none\"; } function NetworKit_overlayShow(source) { NetworKit_overlayUpdate(source); NetworKit_showElement(\"NetworKit_Overlay\", true); } function NetworKit_overlayUpdate(source) { document.getElementById(\"NetworKit_Overlay_Title\").innerHTML = source.title; var index = source.getAttribute(\"data-image-index\"); var data = source.getAttribute(\"data-image-\" + index); var image = document.getElementById(\"NetworKit_Overlay_Image\"); image.setAttribute(\"data-id\", source.id); image.style.backgroundImage = \"url(\" + data + \")\"; var link = document.getElementById(\"NetworKit_Overlay_Toolbar_Bottom_Save\"); link.href = data; link.download = source.title + \".svg\"; } function NetworKit_overlayImageShift(delta) { var image = document.getElementById(\"NetworKit_Overlay_Image\"); var source = document.getElementById(image.getAttribute(\"data-id\")); var index = parseInt(source.getAttribute(\"data-image-index\")); var length = parseInt(source.getAttribute(\"data-image-length\")); var index = (index+delta) % length; if (index < 0) { index = length + index; } source.setAttribute(\"data-image-index\", index); NetworKit_overlayUpdate(source); } function NetworKit_toggleDetails(source) { var childs = source.children; var show = false; if (source.getAttribute(\"data-title\") == \"-\") { source.setAttribute(\"data-title\", \"+\"); show = false; } else { source.setAttribute(\"data-title\", \"-\"); show = true; } for (i=0; i<childs.length; i++) { if (show) { childs[i].style.display = \"block\"; } else { childs[i].style.display = \"none\"; } } }';\n",
       "\t\t\t\telement.setAttribute('id', 'NetworKit_script');\n",
       "\t\t\t\tdocument.head.appendChild(element);\n",
       "\t\t\t}\n",
       "\t\t\n",
       "\t\t\t\t\n",
       "\t\t\t{\n",
       "\t\t\t\tvar element = document.getElementById('NetworKit_style');\n",
       "\t\t\t\tif (element) {\n",
       "\t\t\t\t\telement.parentNode.removeChild(element);\n",
       "\t\t\t\t}\n",
       "\t\t\t\telement = document.createElement('style');\n",
       "\t\t\t\telement.type = 'text/css';\n",
       "\t\t\t\telement.innerHTML = '.NetworKit_Page { font-family: Arial, Helvetica, sans-serif; font-size: 14px; } .NetworKit_Page .Value:before { font-family: Arial, Helvetica, sans-serif; font-size: 1.05em; content: attr(data-title) \":\"; margin-left: -2.5em; padding-right: 0.5em; } .NetworKit_Page .Details .Value:before { display: block; } .NetworKit_Page .Value { font-family: monospace; white-space: pre; padding-left: 2.5em; white-space: -moz-pre-wrap !important; white-space: -pre-wrap; white-space: -o-pre-wrap; white-space: pre-wrap; word-wrap: break-word; tab-size: 4; -moz-tab-size: 4; } .NetworKit_Page .Category { clear: both; padding-left: 1em; margin-bottom: 1.5em; } .NetworKit_Page .Category:before { content: attr(data-title); font-size: 1.75em; display: block; margin-left: -0.8em; margin-bottom: 0.5em; } .NetworKit_Page .SubCategory { margin-bottom: 1.5em; padding-left: 1em; } .NetworKit_Page .SubCategory:before { font-size: 1.6em; display: block; margin-left: -0.8em; margin-bottom: 0.5em; } .NetworKit_Page .SubCategory[data-title]:before { content: attr(data-title); } .NetworKit_Page .Block { display: block; } .NetworKit_Page .Block:after { content: \".\"; visibility: hidden; display: block; height: 0; clear: both; } .NetworKit_Page .Block .Thumbnail_Overview, .NetworKit_Page .Block .Thumbnail_ScatterPlot { width: 260px; float: left; } .NetworKit_Page .Block .Thumbnail_Overview img, .NetworKit_Page .Block .Thumbnail_ScatterPlot img { width: 260px; } .NetworKit_Page .Block .Thumbnail_Overview:before, .NetworKit_Page .Block .Thumbnail_ScatterPlot:before { display: block; text-align: center; font-weight: bold; } .NetworKit_Page .Block .Thumbnail_Overview:before { content: attr(data-title); } .NetworKit_Page .HeatCell { font-family: \"Courier New\", Courier, monospace; cursor: pointer; } .NetworKit_Page .HeatCell, .NetworKit_Page .HeatCellName { display: inline; padding: 0.1em; margin-right: 2px; background-color: #FFFFFF } .NetworKit_Page .HeatCellName { margin-left: 0.25em; } .NetworKit_Page .HeatCell:before { content: attr(data-heat); display: inline-block; color: #000000; width: 4em; text-align: center; } .NetworKit_Page .Measure { clear: both; } .NetworKit_Page .Measure .Details { cursor: pointer; } .NetworKit_Page .Measure .Details:before { content: \"[\" attr(data-title) \"]\"; display: block; } .NetworKit_Page .Measure .Details .Value { border-left: 1px dotted black; margin-left: 0.4em; padding-left: 3.5em; pointer-events: none; } .NetworKit_Page .Measure .Details .Spacer:before { content: \".\"; opacity: 0.0; pointer-events: none; } .NetworKit_Page .Measure .Plot { width: 440px; height: 440px; cursor: pointer; float: left; margin-left: -0.9em; margin-right: 20px; } .NetworKit_Page .Measure .Plot .Image { background-repeat: no-repeat; background-position: center center; background-size: contain; height: 100%; pointer-events: none; } .NetworKit_Page .Measure .Stat { width: 500px; float: left; } .NetworKit_Page .Measure .Stat .Group { padding-left: 1.25em; margin-bottom: 0.75em; } .NetworKit_Page .Measure .Stat .Group .Title { font-size: 1.1em; display: block; margin-bottom: 0.3em; margin-left: -0.75em; border-right-style: dotted; border-right-width: 1px; border-bottom-style: dotted; border-bottom-width: 1px; background-color: #D0D0D0; padding-left: 0.2em; } .NetworKit_Page .Measure .Stat .Group .List { -webkit-column-count: 3; -moz-column-count: 3; column-count: 3; } .NetworKit_Page .Measure .Stat .Group .List .Entry { position: relative; line-height: 1.75em; } .NetworKit_Page .Measure .Stat .Group .List .Entry[data-tooltip]:before { position: absolute; left: 0; top: -40px; background-color: #808080; color: #ffffff; height: 30px; line-height: 30px; border-radius: 5px; padding: 0 15px; content: attr(data-tooltip); white-space: nowrap; display: none; } .NetworKit_Page .Measure .Stat .Group .List .Entry[data-tooltip]:after { position: absolute; left: 15px; top: -10px; border-top: 7px solid #808080; border-left: 7px solid transparent; border-right: 7px solid transparent; content: \"\"; display: none; } .NetworKit_Page .Measure .Stat .Group .List .Entry[data-tooltip]:hover:after, .NetworKit_Page .Measure .Stat .Group .List .Entry[data-tooltip]:hover:before { display: block; } .NetworKit_Page .Measure .Stat .Group .List .Entry .MathValue { font-family: \"Courier New\", Courier, monospace; } .NetworKit_Page .Measure:after { content: \".\"; visibility: hidden; display: block; height: 0; clear: both; } .NetworKit_Page .PartitionPie { clear: both; } .NetworKit_Page .PartitionPie img { width: 600px; } #NetworKit_Overlay { left: 0px; top: 0px; display: none; position: absolute; width: 100%; height: 100%; background-color: rgba(0,0,0,0.6); z-index: 1000; } #NetworKit_Overlay_Title { position: absolute; color: white; transform: rotate(-90deg); width: 32em; height: 32em; padding-right: 0.5em; padding-top: 0.5em; text-align: right; font-size: 40px; } #NetworKit_Overlay .button { background: white; cursor: pointer; } #NetworKit_Overlay .button:before { size: 13px; display: inline-block; text-align: center; margin-top: 0.5em; margin-bottom: 0.5em; width: 1.5em; height: 1.5em; } #NetworKit_Overlay .icon-close:before { content: \"X\"; } #NetworKit_Overlay .icon-previous:before { content: \"P\"; } #NetworKit_Overlay .icon-next:before { content: \"N\"; } #NetworKit_Overlay .icon-save:before { content: \"S\"; } #NetworKit_Overlay_Toolbar_Top, #NetworKit_Overlay_Toolbar_Bottom { position: absolute; width: 40px; right: 13px; text-align: right; z-index: 1100; } #NetworKit_Overlay_Toolbar_Top { top: 0.5em; } #NetworKit_Overlay_Toolbar_Bottom { Bottom: 0.5em; } #NetworKit_Overlay_ImageContainer { position: absolute; top: 5%; left: 5%; height: 90%; width: 90%; background-repeat: no-repeat; background-position: center center; background-size: contain; } #NetworKit_Overlay_Image { height: 100%; width: 100%; background-repeat: no-repeat; background-position: center center; background-size: contain; }';\n",
       "\t\t\t\telement.setAttribute('id', 'NetworKit_style');\n",
       "\t\t\t\tdocument.head.appendChild(element);\n",
       "\t\t\t}\n",
       "\t\t\n",
       "\t\t\t\t\n",
       "\t\t\t{\n",
       "\t\t\t\tvar element = document.getElementById('NetworKit_Overlay');\n",
       "\t\t\t\tif (element) {\n",
       "\t\t\t\t\telement.parentNode.removeChild(element);\n",
       "\t\t\t\t}\n",
       "\t\t\t\telement = document.createElement('div');\n",
       "\t\t\t\telement.innerHTML = '<div id=\"NetworKit_Overlay_Toolbar_Top\"><div class=\"button icon-close\" id=\"NetworKit_Overlay_Close\" /></div><div id=\"NetworKit_Overlay_Title\" /> <div id=\"NetworKit_Overlay_ImageContainer\"> <div id=\"NetworKit_Overlay_Image\" /> </div> <div id=\"NetworKit_Overlay_Toolbar_Bottom\"> <div class=\"button icon-previous\" onclick=\"NetworKit_overlayImageShift(-1)\" /> <div class=\"button icon-next\" onclick=\"NetworKit_overlayImageShift(1)\" /> <a id=\"NetworKit_Overlay_Toolbar_Bottom_Save\"><div class=\"button icon-save\" /></a> </div>';\n",
       "\t\t\t\telement.setAttribute('id', 'NetworKit_Overlay');\n",
       "\t\t\t\tdocument.body.appendChild(element);\n",
       "\t\t\t\tdocument.getElementById('NetworKit_Overlay_Close').onclick = function (e) {\n",
       "\t\t\t\t\tdocument.getElementById('NetworKit_Overlay').style.display = 'none';\n",
       "\t\t\t\t}\n",
       "\t\t\t}\n",
       "\t\t\n",
       "\t\t\t-->\n",
       "\t\t\t</script>\n",
       "\t\t"
      ]
     },
     "metadata": {},
     "output_type": "display_data"
    }
   ],
   "source": [
    "import networkit as nk\n",
    "\n",
    "import os\n",
    "import time"
   ]
  },
  {
   "cell_type": "code",
   "execution_count": 2,
   "id": "b9e69718-4788-4d38-8c63-fbf2912dd83b",
   "metadata": {
    "tags": []
   },
   "outputs": [],
   "source": [
    "import numpy as np"
   ]
  },
  {
   "cell_type": "code",
   "execution_count": 3,
   "id": "7ae8beba-921d-4a3c-8884-1cae0257f41d",
   "metadata": {
    "tags": []
   },
   "outputs": [],
   "source": [
    "DATA = \"all_ranks_graph\"\n",
    "ORIGINAL_NETWORK_NAME = \"output_graph.csv\"\n",
    "TEMP_NETWORKS_FOLDER = \"temp\"\n",
    "\n",
    "BASE = os.path.join(os.path.abspath(os.curdir), DATA)\n",
    "PATH_TO_NETWORK_ORIGINAL = os.path.join(BASE, ORIGINAL_NETWORK_NAME)\n",
    "PATH_TO_NETWORK_PROCESSED = os.path.join(BASE, \"processed\", ORIGINAL_NETWORK_NAME.replace(\".csv\", \"\"))"
   ]
  },
  {
   "cell_type": "code",
   "execution_count": 4,
   "id": "56acf9c6-d2b7-4795-a799-f7bf09b79eeb",
   "metadata": {
    "tags": []
   },
   "outputs": [
    {
     "name": "stdout",
     "output_type": "stream",
     "text": [
      "Nodes:  313673  Edges:  1885386\n",
      "Consistent?:  True\n"
     ]
    }
   ],
   "source": [
    "edgeListReader = nk.graphio.EdgeListReader(',', 0, continuous=False, directed=False)\n",
    "G = edgeListReader.read(PATH_TO_NETWORK_ORIGINAL)\n",
    "original_nodes = G.numberOfNodes()\n",
    "\n",
    "G.removeMultiEdges()\n",
    "G.compactEdges()\n",
    "G.removeSelfLoops()\n",
    "G.compactEdges()\n",
    "\n",
    "print(\"Nodes: \", original_nodes, \" Edges: \", G.numberOfEdges())\n",
    "print(\"Consistent?: \", G.checkConsistency())"
   ]
  },
  {
   "cell_type": "code",
   "execution_count": 5,
   "id": "911fb8e3-4a59-4580-b25a-d990b9d47bc5",
   "metadata": {
    "tags": []
   },
   "outputs": [
    {
     "name": "stdout",
     "output_type": "stream",
     "text": [
      "More than 1 component, extracting largest one.\n",
      "AVG Clustering Coefficient:  0.8895137729153759\n"
     ]
    }
   ],
   "source": [
    "components = nk.components.ConnectedComponents(G).run()\n",
    "connected_components = components.numberOfComponents()\n",
    "if connected_components != 1:\n",
    "    print(\"More than 1 component, extracting largest one.\")\n",
    "    G = components.extractLargestConnectedComponent(G)\n",
    "    print(\"AVG Clustering Coefficient: \", np.mean(nk.centrality.LocalClusteringCoefficient(G).run().scores()))"
   ]
  },
  {
   "cell_type": "code",
   "execution_count": 6,
   "id": "9f00ab03-3e56-4b86-a1db-3dfbfd88d64c",
   "metadata": {
    "tags": []
   },
   "outputs": [],
   "source": [
    "l_cliques = nk.clique.MaximalCliques(G, maximumOnly=False).run().getCliques()"
   ]
  },
  {
   "cell_type": "code",
   "execution_count": 58,
   "id": "718b9a83-eee3-461b-aecd-b2661b15e75e",
   "metadata": {
    "tags": []
   },
   "outputs": [],
   "source": [
    "__clique_tuple = [tuple(clique) for clique in l_cliques]\n",
    "clique_dictionary = dict(zip(__clique_tuple, range(len(__clique_tuple))))"
   ]
  },
  {
   "cell_type": "code",
   "execution_count": null,
   "id": "7c4ae4bb-868d-479d-bd31-f7c720997d81",
   "metadata": {
    "tags": []
   },
   "outputs": [],
   "source": [
    "nodes_to_clique = {}\n",
    "\n",
    "# Around 15min single core (for all_ranks)\n",
    "progress = 0\n",
    "max_progress = G.numberOfNodes()\n",
    "start = time.time()\n",
    "for node in G.iterNodes():\n",
    "    if progress % 10000 == 0:\n",
    "        elapsed = time.time() - start\n",
    "        start = time.time()\n",
    "        print(\"Completed {0}/{1}\".format(progress, max_progress))\n",
    "        print(\"Elapsed \" + str(elapsed))\n",
    "        \n",
    "    __collected = []\n",
    "    for clique in __clique_tuple:\n",
    "        if node in clique:\n",
    "            __collected.append(clique_dictionary[clique])\n",
    "    nodes_to_clique[node] = __collected\n",
    "    progress += 1"
   ]
  },
  {
   "cell_type": "code",
   "execution_count": null,
   "id": "eb4dcb06-a3c2-45c1-8f8d-e0c2dece3005",
   "metadata": {
    "tags": []
   },
   "outputs": [],
   "source": [
    "G.indexEdges()\n",
    "g_no_cliques = nk.Graph(n=len(__clique_tuple)) # Uses all defaults at false\n",
    "\n",
    "__nodes = []\n",
    "def callback_iterator(node_id_src, node_id_dst, edge_weight, edge_id):\n",
    "    __nodes.append(node_id_dst)"
   ]
  },
  {
   "cell_type": "code",
   "execution_count": null,
   "id": "96294141",
   "metadata": {},
   "outputs": [],
   "source": [
    "def get_clique_super_node(mini_node_id, different_then=-1):\n",
    "    for clique in clique_dictionary.keys():\n",
    "        if mini_node_id in clique:\n",
    "            if clique_dictionary[clique] != different_then:\n",
    "                return clique_dictionary[clique]\n",
    "    print(\"ERROR!\")\n",
    "\n",
    "def condensation_reach(g_no_cliques, clique, src_mini_node_id_intermediate, src_super_node_id):\n",
    "    valid_neighbours = []\n",
    "\n",
    "    G.forEdgesOf(src_mini_node_id_intermediate, callback_iterator)\n",
    "    src_super_node_id_intermediate = get_clique_super_node(src_mini_node_id_intermediate)\n",
    "    \n",
    "    for potential_dst_mini_node_id in __nodes:\n",
    "        if potential_dst_mini_node_id not in clique: # Not in the original clique, goes from potential to actual\n",
    "            all_cliques_of_dst = nodes_to_clique[potential_dst_mini_node_id] # List all cliques that a node belongs to\n",
    "            for dst_super_node_id in all_cliques_of_dst: # For every clique that node belongs to, add a connection to it from the original clique\n",
    "                if dst_super_node_id != src_super_node_id_intermediate:\n",
    "                    valid_neighbours.append(potential_dst_mini_node_id)\n",
    "                    g_no_cliques.addEdge(src_super_node_id, dst_super_node_id, checkMultiEdge=True)     \n",
    "    return valid_neighbours\n",
    "\n",
    "# No more than 20min on single core (for all_ranks)\n",
    "progress = 0\n",
    "max_progress = len(l_cliques)\n",
    "elapsed = 0\n",
    "start = time.time()\n",
    "max_reach = 1\n",
    "for clique in l_cliques:\n",
    "    if progress % 1000 == 0:\n",
    "        elapsed = time.time() - start\n",
    "        start = time.time()\n",
    "        print(\"Completed {0}/{1}\".format(progress, max_progress))\n",
    "        print(\"Elapsed \" + str(elapsed))\n",
    "    \n",
    "    for src_mini_node_id in clique:\n",
    "        valid_neighbours = [src_mini_node_id]\n",
    "        src_super_node_id = get_clique_super_node(src_mini_node_id)\n",
    "        for depth in range(max_reach):\n",
    "            for intermediate_node in valid_neighbours:\n",
    "                valid_neighbours = condensation_reach(g_no_cliques, clique, intermediate_node, src_super_node_id) \n",
    "                __nodes = [] # Will be used in the callback in condesensation_reach\n",
    "                \n",
    "    progress += 1"
   ]
  },
  {
   "cell_type": "code",
   "execution_count": null,
   "id": "05c0c558",
   "metadata": {},
   "outputs": [],
   "source": [
    "# Original code used in the report\n",
    "# No more than 20min on single core (for all_ranks)\n",
    "progress = 0\n",
    "max_progress = len(l_cliques)\n",
    "elapsed = 0\n",
    "start = time.time()\n",
    "for clique in l_cliques:\n",
    "    if progress % 1000 == 0:\n",
    "        elapsed = time.time() - start\n",
    "        start = time.time()\n",
    "        print(\"Completed {0}/{1}\".format(progress, max_progress))\n",
    "        print(\"Elapsed \" + str(elapsed))\n",
    "        \n",
    "    for src_mini_node_id in clique:\n",
    "        G.forEdgesOf(src_mini_node_id, callback_iterator)\n",
    "        src_super_node_id = get_clique_super_node(src_mini_node_id)\n",
    "        \n",
    "        for potential_dst_mini_node_id in __nodes:\n",
    "            if potential_dst_mini_node_id not in clique: # Not in clique of src, potential -> actual\n",
    "                all_cliques_of_dst = nodes_to_clique[potential_dst_mini_node_id]\n",
    "                for dst_super_node_id in all_cliques_of_dst:\n",
    "                    if dst_super_node_id != src_super_node_id:\n",
    "                        g_no_cliques.addEdge(src_super_node_id, dst_super_node_id, checkMultiEdge=True)                \n",
    "        __nodes = []\n",
    "    progress += 1"
   ]
  },
  {
   "cell_type": "code",
   "execution_count": 95,
   "id": "5438c0d1-2228-4a71-a056-6bc235891ae4",
   "metadata": {
    "tags": []
   },
   "outputs": [],
   "source": [
    "assert g_no_cliques.numberOfNodes() == len(l_cliques)"
   ]
  },
  {
   "cell_type": "code",
   "execution_count": 96,
   "id": "73db5893-2ce5-460a-aa52-268dd4a374dc",
   "metadata": {
    "tags": []
   },
   "outputs": [],
   "source": [
    "writergml = nk.graphio.GraphMLWriter()\n",
    "writer_edgelist = nk.graphio.EdgeListWriter(separator=\",\", firstNode=0, bothDirections=False)"
   ]
  },
  {
   "cell_type": "code",
   "execution_count": 97,
   "id": "dd03b2c3-6586-430e-a989-c1be767fb519",
   "metadata": {
    "tags": []
   },
   "outputs": [],
   "source": [
    "writer_edgelist.write(g_no_cliques, PATH_TO_NETWORK_PROCESSED + \"_no_cliques_self_loops.csv\")\n",
    "writergml.write(g_no_cliques, os.path.join(PATH_TO_NETWORK_PROCESSED + \"_no_cliques_self_loops.graphml\"))"
   ]
  },
  {
   "cell_type": "code",
   "execution_count": 98,
   "id": "3974062e-1621-440e-aed1-cfa06797647a",
   "metadata": {
    "tags": []
   },
   "outputs": [],
   "source": [
    "g_no_cliques.removeSelfLoops()\n",
    "g_no_cliques.compactEdges()\n",
    "\n",
    "writer_edgelist.write(g_no_cliques, PATH_TO_NETWORK_PROCESSED + \"_no_cliques.csv\")\n",
    "writergml.write(g_no_cliques, os.path.join(PATH_TO_NETWORK_PROCESSED + \"_no_cliques.graphml\"))"
   ]
  }
 ],
 "metadata": {
  "kernelspec": {
   "display_name": "Python 3 (ipykernel)",
   "language": "python",
   "name": "python3"
  },
  "language_info": {
   "codemirror_mode": {
    "name": "ipython",
    "version": 3
   },
   "file_extension": ".py",
   "mimetype": "text/x-python",
   "name": "python",
   "nbconvert_exporter": "python",
   "pygments_lexer": "ipython3",
   "version": "3.10.10"
  }
 },
 "nbformat": 4,
 "nbformat_minor": 5
}
